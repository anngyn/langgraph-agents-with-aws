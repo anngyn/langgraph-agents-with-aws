{
 "cells": [
  {
   "cell_type": "markdown",
   "id": "911b3b37-3b29-4833-94f2-bfe47af00c83",
   "metadata": {},
   "source": [
    "# Lab 6: Essay Writer\n",
    "\n",
    "## Setup and Imports\n",
    "\n",
    "In this section, we're building a more complex project: an AI Essay Writer. We'll start by setting up our environment and importing the necessary libraries. We're using Amazon Bedrock and Anthropic's Claude model, so our imports reflect that.\n",
    "We're setting up logging, configuring Bedrock, and retrieving our Tavily API key. Tavily is a research tool we'll use to gather information for our essays. Make sure you have your Tavily API key stored securely.\n",
    "\n",
    "A few requirements for the UI that we build at the end:\n",
    "\n",
    "1. Add your tavily ai key to the `.env` file.\n",
    "\n",
    "2. Pay attention that you run on LangGraph 0.0.53.\n",
    "\n",
    "3. Run the helper.py from the CLI and open the web browser to step through the graph or run it in the notebook directly!\n"
   ]
  },
  {
   "cell_type": "code",
   "execution_count": 4,
   "id": "f5762271-8736-4e94-9444-8c92bd0e8074",
   "metadata": {
    "height": 64
   },
   "outputs": [
    {
     "name": "stderr",
     "output_type": "stream",
     "text": [
      "[2025-10-07 15:14:42,122] p30926 {utils.py:46} INFO - TAVILY_API_KEY variable correctly retrieved from the .env file.\n"
     ]
    }
   ],
   "source": [
    "from dotenv import load_dotenv\n",
    "import os\n",
    "import sys\n",
    "import json, re\n",
    "import pprint\n",
    "import boto3\n",
    "from botocore.client import Config\n",
    "import warnings\n",
    "\n",
    "warnings.filterwarnings(\"ignore\")\n",
    "import logging\n",
    "\n",
    "# import local modules\n",
    "dir_current = os.path.abspath(\"\")\n",
    "dir_parent = os.path.dirname(dir_current)\n",
    "if dir_parent not in sys.path:\n",
    "    sys.path.insert(0, dir_parent)\n",
    "from utils import utils\n",
    "\n",
    "# Set basic configs\n",
    "logger = utils.set_logger()\n",
    "pp = utils.set_pretty_printer()\n",
    "\n",
    "# Load environment variables from .env file or Secret Manager\n",
    "_ = load_dotenv(\"../.env\")\n",
    "aws_region = os.getenv(\"AWS_REGION\")\n",
    "tavily_ai_api_key = utils.get_tavily_api(\"TAVILY_API_KEY\", aws_region)\n",
    "\n",
    "# Set bedrock configs\n",
    "bedrock_config = Config(\n",
    "    connect_timeout=120, read_timeout=120, retries={\"max_attempts\": 0}\n",
    ")\n",
    "\n",
    "# Create a bedrock runtime client\n",
    "bedrock_rt = boto3.client(\n",
    "    \"bedrock-runtime\", region_name=aws_region, config=bedrock_config\n",
    ")\n"
   ]
  },
  {
   "cell_type": "markdown",
   "id": "252ba3e5",
   "metadata": {},
   "source": [
    "## Defining the Agent State\n",
    "\n",
    "Now, let's define our agent's state. This is more complex than in previous lessons because our essay writer has multiple steps and needs to keep track of various pieces of information.\n",
    "\n",
    "We're creating a TypedDict called AgentState. It includes:\n",
    "\n",
    "- task: The essay topic or question\n",
    "- plan: The outline of the essay\n",
    "- draft: The current version of the essay\n",
    "- critique: Feedback on the current draft\n",
    "- content: Research information from Tavily\n",
    "- revision_number: How many revisions we've made\n",
    "- max_revisions: The maximum number of revisions we want to make\n",
    "\n",
    "These elements will help us manage the essay writing process and know when to stop revising.\n"
   ]
  },
  {
   "cell_type": "code",
   "execution_count": 5,
   "id": "d0168aee-bce9-4d60-b827-f86a88187e31",
   "metadata": {
    "height": 132
   },
   "outputs": [],
   "source": [
    "from langgraph.graph import StateGraph, END\n",
    "from typing import TypedDict, Annotated, List\n",
    "import operator\n",
    "from langgraph.checkpoint.memory import MemorySaver\n",
    "\n",
    "from langchain_core.messages import (\n",
    "    AnyMessage,\n",
    "    SystemMessage,\n",
    "    HumanMessage,\n",
    "    AIMessage,\n",
    "    ChatMessage,\n",
    ")\n",
    "\n",
    "memory = MemorySaver()"
   ]
  },
  {
   "cell_type": "code",
   "execution_count": 6,
   "id": "2589c5b6-6cc2-4594-9a17-dccdcf676054",
   "metadata": {
    "height": 149
   },
   "outputs": [],
   "source": [
    "class AgentState(TypedDict):\n",
    "    task: str\n",
    "    plan: str\n",
    "    draft: str\n",
    "    critique: str\n",
    "    content: List[str]\n",
    "    revision_number: int\n",
    "    max_revisions: int"
   ]
  },
  {
   "cell_type": "markdown",
   "id": "d6aac3dc",
   "metadata": {},
   "source": [
    "## Setting up the Model\n",
    "\n",
    "We're using Anthropic's Claude model via Amazon Bedrock. We're setting it up with a temperature of 0 for more consistent outputs. The model we're using is claude-3-haiku, which is well-suited for this task.\n"
   ]
  },
  {
   "cell_type": "code",
   "execution_count": 7,
   "id": "a2ba84ec-c172-4de7-ac55-e3158a531b23",
   "metadata": {
    "height": 47
   },
   "outputs": [
    {
     "name": "stderr",
     "output_type": "stream",
     "text": [
      "/home/workshop/langgraph-agents-with-amazon-bedrock/.venv/lib/python3.12/site-packages/langchain_core/_api/beta_decorator.py:87: LangChainBetaWarning: The class `ChatBedrockConverse` is in beta. It is actively being worked on, so the API may change.\n",
      "  warn_beta(\n"
     ]
    }
   ],
   "source": [
    "from langchain_aws import ChatBedrockConverse\n",
    "\n",
    "model = ChatBedrockConverse(\n",
    "    client=bedrock_rt,\n",
    "    model=\"anthropic.claude-3-haiku-20240307-v1:0\",\n",
    "    temperature=0,\n",
    "    max_tokens=None,\n",
    ")"
   ]
  },
  {
   "cell_type": "markdown",
   "id": "6d61f1e5",
   "metadata": {},
   "source": [
    "## Defining Prompts\n",
    "\n",
    "Our essay writer uses several prompts for different stages of the process:\n",
    "\n",
    "1. **PLAN_PROMPT**: This instructs the model to create an essay outline.\n",
    "2. **WRITER_PROMPT**: This guides the model in writing the essay based on the plan and research.\n",
    "3. **REFLECTION_PROMPT**: This tells the model how to critique the essay.\n",
    "4. **RESEARCH_PLAN_PROMPT** and **RESEARCH_CRITIQUE_PROMPT**: These help generate search queries for our research step.\n",
    "\n",
    "Each prompt is carefully crafted to guide the model in performing its specific task within the essay writing process.\n"
   ]
  },
  {
   "cell_type": "code",
   "execution_count": 8,
   "id": "876d5092-b8ef-4e38-b4d7-0e80c609bf7a",
   "metadata": {
    "height": 74
   },
   "outputs": [],
   "source": [
    "PLAN_PROMPT = \"\"\"You are an expert writer tasked with writing a high level outline of an essay. \\\n",
    "Write such an outline for the user provided topic. Give an outline of the essay along with any relevant notes \\\n",
    "or instructions for the sections.\"\"\""
   ]
  },
  {
   "cell_type": "code",
   "execution_count": 9,
   "id": "10084a02-2928-4945-9f7c-ad3f5b33caf7",
   "metadata": {
    "height": 149
   },
   "outputs": [],
   "source": [
    "WRITER_PROMPT = \"\"\"You are an essay assistant tasked with writing excellent 5-paragraph essays.\\\n",
    "Generate the best essay possible for the user's request and the initial outline. \\\n",
    "If the user provides critique, respond with a revised version of your previous attempts. \\\n",
    "Utilize all the information below as needed: \n",
    "\n",
    "------\n",
    "<content>\n",
    "{content}\n",
    "</content>\"\"\""
   ]
  },
  {
   "cell_type": "code",
   "execution_count": 10,
   "id": "714d1205-f8fc-4912-b148-2a45da99219c",
   "metadata": {
    "height": 64
   },
   "outputs": [],
   "source": [
    "REFLECTION_PROMPT = \"\"\"You are a teacher grading an essay submission. \\\n",
    "Generate critique and recommendations for the user's submission. \\\n",
    "Provide detailed recommendations, including requests for length, depth, style, etc.\"\"\""
   ]
  },
  {
   "cell_type": "code",
   "execution_count": 11,
   "id": "83588e70-254f-4f83-a510-c8ae81e729b0",
   "metadata": {
    "height": 81
   },
   "outputs": [],
   "source": [
    "RESEARCH_PLAN_PROMPT = \"\"\"You are a researcher charged with providing information that can \\\n",
    "be used when writing the following essay. Generate a list of search queries that will gather \\\n",
    "any relevant information. Only generate 3 queries max.\"\"\""
   ]
  },
  {
   "cell_type": "code",
   "execution_count": 12,
   "id": "6cb3ef4c-58b3-401b-b104-0d51e553d982",
   "metadata": {
    "height": 81
   },
   "outputs": [],
   "source": [
    "RESEARCH_CRITIQUE_PROMPT = \"\"\"You are a researcher charged with providing information that can \\\n",
    "be used when making any requested revisions (as outlined below). \\\n",
    "Generate a list of search queries that will gather any relevant information. Only generate 3 queries max.\"\"\""
   ]
  },
  {
   "cell_type": "markdown",
   "id": "ddb9c562",
   "metadata": {},
   "source": [
    "### Excursion on strucutred output generation with Anthropic Models:\n",
    "\n",
    "Take a look at the prompts above.\n",
    "\n",
    "- Do they follow the prompting guide of Anthropic?\n",
    "- Do you think you could get more consistent outputs by requesting an answer structure that would look something like this, e.g. for the REFLECTION_PROMPT:\n",
    "\n",
    "```xml\n",
    "<answer>\n",
    "  <overall_assessment>\n",
    "    <strengths>\n",
    "      <strength_point></strength_point>\n",
    "      <strength_point></strength_point>\n",
    "    </strengths>\n",
    "    <weaknesses>\n",
    "      <weakness_point></weakness_point>\n",
    "      <weakness_point></weakness_point>\n",
    "    </weaknesses>\n",
    "  </overall_assessment>\n",
    "\n",
    "...\n",
    "\n",
    "  <style_and_language>\n",
    "    <clarity>\n",
    "      <comment></comment>\n",
    "      <recommendation></recommendation>\n",
    "    </clarity>\n",
    "    <tone>\n",
    "      <comment></comment>\n",
    "      <recommendation></recommendation>\n",
    "    </tone>\n",
    "    <grammar_and_mechanics>\n",
    "      <comment></comment>\n",
    "      <recommendation></recommendation>\n",
    "    </grammar_and_mechanics>\n",
    "  </style_and_language>\n",
    "\n",
    "  <length_assessment>\n",
    "    <comment></comment>\n",
    "    <recommendation></recommendation>\n",
    "  </length_assessment>\n",
    "\n",
    "  <conclusion>\n",
    "    <overall_recommendation></overall_recommendation>\n",
    "    <priority_improvements>\n",
    "      <improvement></improvement>\n",
    "      <improvement></improvement>\n",
    "    </priority_improvements>\n",
    "  </conclusion>\n",
    "</answer>\n",
    "```\n",
    "\n",
    "- What would the advantage and disadvantage of such a structure be?\n",
    "- Ask yourself, if the extra tokens are worth it? When should you invest in a detailed, token intensive prompt, vs. a more freeform one?\n",
    "\n",
    "- How would you parse this output?\n",
    "\n",
    "**Hint:**\n",
    "You can combine XMLOutput-Parser from LangChain and PyDantic models.\n",
    "\n",
    "For reference, below you can find how to use the XMLOutput parser, without any dependencies on methods like `.with_structured_output(...)`, which is a very recent addition to langchain.\n"
   ]
  },
  {
   "cell_type": "code",
   "execution_count": 13,
   "id": "35ff3ddc",
   "metadata": {},
   "outputs": [
    {
     "data": {
      "text/plain": [
       "{'answer': [{'overall_assessment': [{'strengths': [{'strength_point': 'Clear thesis statement'},\n",
       "      {'strength_point': 'Well-structured paragraphs'}]},\n",
       "    {'weaknesses': [{'weakness_point': 'Lack of detailed examples'},\n",
       "      {'weakness_point': 'Some grammatical errors'}]}]},\n",
       "  {'content_evaluation': [{'depth_of_analysis': [{'comment': 'The analysis lacks depth in some areas.'},\n",
       "      {'recommendation': 'Expand on key points with more detailed explanations.'}]},\n",
       "    {'argument_quality': [{'comment': 'Arguments are logical but could be stronger.'},\n",
       "      {'recommendation': 'Provide more evidence to support your claims.'}]},\n",
       "    {'evidence_use': [{'comment': 'Limited use of supporting evidence.'},\n",
       "      {'recommendation': 'Incorporate more relevant examples and data.'}]}]},\n",
       "  {'structure_and_organization': [{'comment': 'The essay has a clear structure but transitions could be improved.'},\n",
       "    {'recommendation': 'Work on smoother transitions between paragraphs.'}]},\n",
       "  {'style_and_language': [{'clarity': [{'comment': 'Writing is generally clear but some sentences are convoluted.'},\n",
       "      {'recommendation': 'Simplify complex sentences for better readability.'}]},\n",
       "    {'tone': [{'comment': 'The tone is appropriate for an academic essay.'},\n",
       "      {'recommendation': 'Maintain this formal tone throughout.'}]},\n",
       "    {'grammar_and_mechanics': [{'comment': 'There are a few grammatical errors and typos.'},\n",
       "      {'recommendation': 'Proofread carefully to eliminate these errors.'}]}]},\n",
       "  {'length_assessment': [{'comment': 'The essay meets the required length.'},\n",
       "    {'recommendation': 'No changes needed in terms of length.'}]},\n",
       "  {'conclusion': [{'overall_recommendation': 'This is a solid essay that could be improved with more depth and better proofreading.'},\n",
       "    {'priority_improvements': [{'improvement': 'Deepen analysis with more detailed explanations and examples.'},\n",
       "      {'improvement': 'Carefully proofread to eliminate grammatical errors and typos.'}]}]}]}"
      ]
     },
     "execution_count": 13,
     "metadata": {},
     "output_type": "execute_result"
    }
   ],
   "source": [
    "from langchain_core.output_parsers.xml import XMLOutputParser\n",
    "\n",
    "# Create the XMLOutputParser with our Pydantic model\n",
    "essay_critique_parser = XMLOutputParser()\n",
    "\n",
    "# Example usage\n",
    "xml_string = \"\"\"\n",
    "<answer>\n",
    "  <overall_assessment>\n",
    "    <strengths>\n",
    "      <strength_point>Clear thesis statement</strength_point>\n",
    "      <strength_point>Well-structured paragraphs</strength_point>\n",
    "    </strengths>\n",
    "    <weaknesses>\n",
    "      <weakness_point>Lack of detailed examples</weakness_point>\n",
    "      <weakness_point>Some grammatical errors</weakness_point>\n",
    "    </weaknesses>\n",
    "  </overall_assessment>\n",
    "  <content_evaluation>\n",
    "    <depth_of_analysis>\n",
    "      <comment>The analysis lacks depth in some areas.</comment>\n",
    "      <recommendation>Expand on key points with more detailed explanations.</recommendation>\n",
    "    </depth_of_analysis>\n",
    "    <argument_quality>\n",
    "      <comment>Arguments are logical but could be stronger.</comment>\n",
    "      <recommendation>Provide more evidence to support your claims.</recommendation>\n",
    "    </argument_quality>\n",
    "    <evidence_use>\n",
    "      <comment>Limited use of supporting evidence.</comment>\n",
    "      <recommendation>Incorporate more relevant examples and data.</recommendation>\n",
    "    </evidence_use>\n",
    "  </content_evaluation>\n",
    "  <structure_and_organization>\n",
    "    <comment>The essay has a clear structure but transitions could be improved.</comment>\n",
    "    <recommendation>Work on smoother transitions between paragraphs.</recommendation>\n",
    "  </structure_and_organization>\n",
    "  <style_and_language>\n",
    "    <clarity>\n",
    "      <comment>Writing is generally clear but some sentences are convoluted.</comment>\n",
    "      <recommendation>Simplify complex sentences for better readability.</recommendation>\n",
    "    </clarity>\n",
    "    <tone>\n",
    "      <comment>The tone is appropriate for an academic essay.</comment>\n",
    "      <recommendation>Maintain this formal tone throughout.</recommendation>\n",
    "    </tone>\n",
    "    <grammar_and_mechanics>\n",
    "      <comment>There are a few grammatical errors and typos.</comment>\n",
    "      <recommendation>Proofread carefully to eliminate these errors.</recommendation>\n",
    "    </grammar_and_mechanics>\n",
    "  </style_and_language>\n",
    "  <length_assessment>\n",
    "    <comment>The essay meets the required length.</comment>\n",
    "    <recommendation>No changes needed in terms of length.</recommendation>\n",
    "  </length_assessment>\n",
    "  <conclusion>\n",
    "    <overall_recommendation>This is a solid essay that could be improved with more depth and better proofreading.</overall_recommendation>\n",
    "    <priority_improvements>\n",
    "      <improvement>Deepen analysis with more detailed explanations and examples.</improvement>\n",
    "      <improvement>Carefully proofread to eliminate grammatical errors and typos.</improvement>\n",
    "    </priority_improvements>\n",
    "  </conclusion>\n",
    "</answer>\n",
    "\"\"\"\n",
    "\n",
    "# Parse the XML string\n",
    "parsed_critique = essay_critique_parser.parse(xml_string)\n",
    "parsed_critique"
   ]
  },
  {
   "cell_type": "markdown",
   "id": "04d75275",
   "metadata": {},
   "source": [
    "However, we can also use `.with_structured_output` to get the answer we need!\n"
   ]
  },
  {
   "cell_type": "code",
   "execution_count": 14,
   "id": "0cefa30b",
   "metadata": {},
   "outputs": [
    {
     "data": {
      "text/plain": [
       "StructuredOutput(title='Artificial Intelligence', content='Artificial intelligence (AI) refers to the development of computer systems and software capable of performing tasks that typically require human intelligence, such as learning, problem-solving, decision-making, and perception. The goal of AI is to create systems that can mimic or exceed human cognitive abilities.\\n\\nSome key aspects of AI include:\\n\\n- Machine learning - The ability of computer systems to learn and improve from experience without being explicitly programmed.\\n- Natural language processing - The ability to understand, interpret, and generate human language.\\n- Computer vision - The ability to identify and process images and videos in the same way that humans do.\\n- Robotics - The development of machines that can perform physical tasks, often in place of or to assist humans.\\n\\nAI has a wide range of applications, including personal digital assistants, autonomous vehicles, medical diagnosis, financial analysis, and more. As the field of AI continues to advance, it has the potential to revolutionize many industries and transform the way we live and work.', summary='Artificial intelligence (AI) refers to the development of computer systems capable of performing tasks that typically require human intelligence, such as learning, problem-solving, and decision-making. AI has a wide range of applications and the potential to transform many industries.')"
      ]
     },
     "execution_count": 14,
     "metadata": {},
     "output_type": "execute_result"
    }
   ],
   "source": [
    "from langchain_aws import ChatBedrock\n",
    "from langchain_core.pydantic_v1 import BaseModel, Field\n",
    "\n",
    "\n",
    "class StructuredOutput(BaseModel):\n",
    "    title: str = Field(..., description=\"The title of the response\")\n",
    "    content: str = Field(..., description=\"The main content of the response\")\n",
    "    summary: str = Field(..., description=\"A brief summary of the content\")\n",
    "\n",
    "\n",
    "llm = ChatBedrock(\n",
    "    model_id=\"anthropic.claude-3-haiku-20240307-v1:0\",\n",
    "    model_kwargs={\"temperature\": 0},\n",
    ")\n",
    "\n",
    "structured_llm = llm.with_structured_output(StructuredOutput)\n",
    "\n",
    "response = structured_llm.invoke(\"Tell me about artificial intelligence\")\n",
    "response"
   ]
  },
  {
   "cell_type": "code",
   "execution_count": 15,
   "id": "ea7c615e",
   "metadata": {},
   "outputs": [
    {
     "name": "stdout",
     "output_type": "stream",
     "text": [
      "Artificial Intelligence\n"
     ]
    }
   ],
   "source": [
    "print(response.title)"
   ]
  },
  {
   "cell_type": "code",
   "execution_count": 16,
   "id": "0386ba8b",
   "metadata": {},
   "outputs": [
    {
     "name": "stdout",
     "output_type": "stream",
     "text": [
      "The title:\tArtificial Intelligence\n",
      "\n"
     ]
    },
    {
     "data": {
      "text/plain": [
       "StructuredOutput(title='Artificial Intelligence', content='Artificial intelligence (AI) refers to the development of computer systems and software capable of performing tasks that typically require human intelligence, such as learning, problem-solving, decision-making, and perception. AI systems can be designed to mimic various cognitive functions of the human mind, including reasoning, learning, and adaptation.\\n\\nSome key aspects of AI include:\\n\\n- Machine learning - The ability of AI systems to learn and improve from experience without being explicitly programmed.\\n- Natural language processing - The ability to understand, interpret, and generate human language.\\n- Computer vision - The ability to identify and process images and videos in the same way that human vision does.\\n- Robotics - The development of machines that can perform physical actions and tasks.\\n\\nAI has a wide range of applications, from personal digital assistants and recommendation systems to autonomous vehicles and medical diagnosis tools. As the field of AI continues to advance, it has the potential to transform many industries and aspects of our lives.', summary='Artificial intelligence (AI) refers to the development of computer systems capable of performing tasks that typically require human intelligence, such as learning, problem-solving, and decision-making. AI has a wide range of applications and is a rapidly advancing field with the potential to transform many industries.')"
      ]
     },
     "execution_count": 16,
     "metadata": {},
     "output_type": "execute_result"
    }
   ],
   "source": [
    "structured_llm = llm.with_structured_output(\n",
    "    StructuredOutput, method=\"xml_mode\"\n",
    ")  # try xml_mode\n",
    "response = structured_llm.invoke(\"Tell me about artificial intelligence\")\n",
    "print(f\"The title:\\t{response.title}\\n\")\n",
    "response"
   ]
  },
  {
   "cell_type": "code",
   "execution_count": 17,
   "id": "dc3293b7-a50c-43c8-a022-8975e1e444b8",
   "metadata": {
    "height": 81
   },
   "outputs": [],
   "source": [
    "from langchain_core.pydantic_v1 import BaseModel\n",
    "\n",
    "\n",
    "class Queries(BaseModel):\n",
    "    queries: List[str]"
   ]
  },
  {
   "cell_type": "markdown",
   "id": "7bfafd4a",
   "metadata": {},
   "source": [
    "### Setting up Tavily Client\n",
    "\n",
    "We're using the Tavily API for research. We import the TavilyClient and initialize it with our API key. This will allow us to perform web searches to gather information for our essays.\n"
   ]
  },
  {
   "cell_type": "code",
   "execution_count": 18,
   "id": "0722c3d4-4cbf-43bf-81b0-50f634c4ce61",
   "metadata": {
    "height": 64
   },
   "outputs": [],
   "source": [
    "from tavily import TavilyClient\n",
    "import os\n",
    "\n",
    "tavily = TavilyClient(api_key=tavily_ai_api_key)"
   ]
  },
  {
   "cell_type": "markdown",
   "id": "b4114e17",
   "metadata": {},
   "source": [
    "## Defining Node Functions\n",
    "\n",
    "Now we're creating the individual components of our essay writing process. Each function represents a node in our graph:\n",
    "\n",
    "1. plan_node: Creates the essay outline.\n",
    "2. research_plan_node: Generates search queries and fetches information based on the plan.\n",
    "3. generation_node: Writes the essay draft.\n",
    "4. reflection_node: Critiques the current draft.\n",
    "5. research_critique_node: Performs additional research based on the critique.\n",
    "6. should_continue: Decides whether to continue revising or stop.\n",
    "\n",
    "Each of these functions interacts with our Claude model and updates the agent's state accordingly.\n"
   ]
  },
  {
   "cell_type": "code",
   "execution_count": 19,
   "id": "6b2f82fe-3ec4-4917-be51-9fb10d1317fa",
   "metadata": {
    "height": 132
   },
   "outputs": [],
   "source": [
    "def plan_node(state: AgentState):\n",
    "    messages = [SystemMessage(content=PLAN_PROMPT), HumanMessage(content=state[\"task\"])]\n",
    "    response = model.invoke(messages)\n",
    "    return {\"plan\": response.content}"
   ]
  },
  {
   "cell_type": "code",
   "execution_count": 20,
   "id": "65ee9b47",
   "metadata": {},
   "outputs": [],
   "source": [
    "from typing import List\n",
    "from langchain.output_parsers import PydanticOutputParser\n",
    "from langchain_core.prompts import PromptTemplate\n",
    "from langchain_core.pydantic_v1 import BaseModel, Field\n",
    "import json\n",
    "\n",
    "\n",
    "class Queries(BaseModel):\n",
    "    queries: List[str] = Field(description=\"List of research queries\")\n",
    "\n",
    "\n",
    "def research_plan_node(state: AgentState):\n",
    "    # Set up the Pydantic output parser\n",
    "    parser = PydanticOutputParser(pydantic_object=Queries)\n",
    "\n",
    "    # Create a prompt template with format instructions\n",
    "    prompt = PromptTemplate(\n",
    "        template=\"Generate research queries based on the given task.\\n{format_instructions}\\nTask: {task}\\n\",\n",
    "        input_variables=[\"task\"],\n",
    "        partial_variables={\"format_instructions\": parser.get_format_instructions()},\n",
    "    )\n",
    "\n",
    "    # Use the model with the new prompt and parser\n",
    "    queries_output = model.invoke(prompt.format_prompt(task=state[\"task\"]))\n",
    "\n",
    "    # Extract the content from the AIMessage\n",
    "    queries_text = queries_output.content\n",
    "\n",
    "    # Extract the JSON string from the content\n",
    "    json_start = queries_text.find(\"{\")\n",
    "    json_end = queries_text.rfind(\"}\") + 1\n",
    "    json_str = queries_text[json_start:json_end]\n",
    "\n",
    "    # Parse the JSON string\n",
    "    queries_dict = json.loads(json_str)\n",
    "\n",
    "    # Create a Queries object from the parsed JSON\n",
    "    parsed_queries = Queries(**queries_dict)\n",
    "\n",
    "    content = state[\"content\"] or []\n",
    "    for q in parsed_queries.queries:\n",
    "        response = tavily.search(query=q, max_results=2)\n",
    "        for r in response[\"results\"]:\n",
    "            content.append(r[\"content\"])\n",
    "    return {\"content\": content}"
   ]
  },
  {
   "cell_type": "code",
   "execution_count": 21,
   "id": "98f303b1-a4d0-408c-8cc0-515ff980717f",
   "metadata": {
    "height": 285
   },
   "outputs": [],
   "source": [
    "def generation_node(state: AgentState):\n",
    "    content = \"\\n\\n\".join(state[\"content\"] or [])\n",
    "    user_message = HumanMessage(\n",
    "        content=f\"{state['task']}\\n\\nHere is my plan:\\n\\n{state['plan']}\"\n",
    "    )\n",
    "    messages = [\n",
    "        SystemMessage(content=WRITER_PROMPT.format(content=content)),\n",
    "        user_message,\n",
    "    ]\n",
    "    response = model.invoke(messages)\n",
    "    return {\n",
    "        \"draft\": response.content,\n",
    "        \"revision_number\": state.get(\"revision_number\", 1) + 1,\n",
    "    }"
   ]
  },
  {
   "cell_type": "code",
   "execution_count": 22,
   "id": "bf4dcb93-6298-4cfd-b3ce-61dfac7fb35f",
   "metadata": {
    "height": 132
   },
   "outputs": [],
   "source": [
    "def reflection_node(state: AgentState):\n",
    "    messages = [\n",
    "        SystemMessage(content=REFLECTION_PROMPT),\n",
    "        HumanMessage(content=state[\"draft\"]),\n",
    "    ]\n",
    "    response = model.invoke(messages)\n",
    "    return {\"critique\": response.content}"
   ]
  },
  {
   "cell_type": "code",
   "execution_count": 23,
   "id": "27526845",
   "metadata": {},
   "outputs": [],
   "source": [
    "def research_critique_node(state: AgentState):\n",
    "    # Set up the Pydantic output parser\n",
    "    parser = PydanticOutputParser(pydantic_object=Queries)\n",
    "\n",
    "    # Create a prompt template with format instructions\n",
    "    prompt = PromptTemplate(\n",
    "        template=\"Generate research queries based on the given critique.\\n{format_instructions}\\nCritique: {critique}\\n\",\n",
    "        input_variables=[\"critique\"],\n",
    "        partial_variables={\"format_instructions\": parser.get_format_instructions()},\n",
    "    )\n",
    "\n",
    "    # Use the model with the new prompt and parser\n",
    "    queries_output = model.invoke(prompt.format_prompt(critique=state[\"critique\"]))\n",
    "\n",
    "    # Extract the content from the AIMessage\n",
    "    queries_text = queries_output.content\n",
    "\n",
    "    # Extract the JSON string from the content\n",
    "    json_start = queries_text.find(\"{\")\n",
    "    json_end = queries_text.rfind(\"}\") + 1\n",
    "    json_str = queries_text[json_start:json_end]\n",
    "\n",
    "    # Parse the JSON string\n",
    "    queries_dict = json.loads(json_str)\n",
    "\n",
    "    # Create a Queries object from the parsed JSON\n",
    "    parsed_queries = Queries(**queries_dict)\n",
    "\n",
    "    content = state[\"content\"] or []\n",
    "    for q in parsed_queries.queries:\n",
    "        response = tavily.search(query=q, max_results=2)\n",
    "        for r in response[\"results\"]:\n",
    "            content.append(r[\"content\"])\n",
    "    return {\"content\": content}"
   ]
  },
  {
   "cell_type": "code",
   "execution_count": 24,
   "id": "ff362f49-dcf1-4ea1-a86c-e516e9ab897d",
   "metadata": {
    "height": 81
   },
   "outputs": [],
   "source": [
    "    def should_continue(state):\n",
    "        if state[\"revision_number\"] > state[\"max_revisions\"]:\n",
    "            return END\n",
    "        return \"reflect\""
   ]
  },
  {
   "cell_type": "markdown",
   "id": "7044a487",
   "metadata": {},
   "source": [
    "## Building the Graph\n",
    "\n",
    "With our nodes defined, we can now build our graph. We're using LangGraph's StateGraph to create a flow for our essay writing process. We add each node to the graph, set the entry point to the planner, and define the edges between nodes.\n",
    "\n",
    "The key part here is the conditional edge after the generate node. It uses our should_continue function to decide whether to reflect and revise, or to end the process.\n"
   ]
  },
  {
   "cell_type": "code",
   "execution_count": 25,
   "id": "a7e15a20-83d7-434c-8551-bce8dcc32be0",
   "metadata": {
    "height": 30
   },
   "outputs": [],
   "source": [
    "builder = StateGraph(AgentState)"
   ]
  },
  {
   "cell_type": "code",
   "execution_count": 26,
   "id": "54ab2c74-f32e-490c-a85d-932d11444210",
   "metadata": {
    "height": 98
   },
   "outputs": [],
   "source": [
    "builder.add_node(\"planner\", plan_node)\n",
    "builder.add_node(\"generate\", generation_node)\n",
    "builder.add_node(\"reflect\", reflection_node)\n",
    "builder.add_node(\"research_plan\", research_plan_node)\n",
    "builder.add_node(\"research_critique\", research_critique_node)"
   ]
  },
  {
   "cell_type": "code",
   "execution_count": 27,
   "id": "a833d3ce-bd31-4319-811d-decff226b970",
   "metadata": {
    "height": 30
   },
   "outputs": [],
   "source": [
    "builder.set_entry_point(\"planner\")"
   ]
  },
  {
   "cell_type": "code",
   "execution_count": 28,
   "id": "76e93cce-6eab-4c7c-ac64-e9993fdb30d6",
   "metadata": {
    "height": 115
   },
   "outputs": [],
   "source": [
    "builder.add_conditional_edges(\n",
    "    \"generate\", should_continue, {END: END, \"reflect\": \"reflect\"}\n",
    ")"
   ]
  },
  {
   "cell_type": "code",
   "execution_count": 29,
   "id": "fd2d0990-a932-423f-9ff3-5cada58c5f32",
   "metadata": {
    "height": 98
   },
   "outputs": [],
   "source": [
    "builder.add_edge(\"planner\", \"research_plan\")\n",
    "builder.add_edge(\"research_plan\", \"generate\")\n",
    "\n",
    "builder.add_edge(\"reflect\", \"research_critique\")\n",
    "builder.add_edge(\"research_critique\", \"generate\")"
   ]
  },
  {
   "cell_type": "code",
   "execution_count": 30,
   "id": "27cde654-64e2-48bc-80a9-0ed668ccb7dc",
   "metadata": {
    "height": 30
   },
   "outputs": [],
   "source": [
    "graph = builder.compile(checkpointer=memory)"
   ]
  },
  {
   "cell_type": "code",
   "execution_count": 31,
   "id": "4871f644-b131-4065-b7ce-b82c20a41f11",
   "metadata": {
    "height": 64
   },
   "outputs": [
    {
     "data": {
      "image/png": "[encoded data removed]",
      "text/plain": [
       "<IPython.core.display.Image object>"
      ]
     },
     "execution_count": 31,
     "metadata": {},
     "output_type": "execute_result"
    }
   ],
   "source": [
    "from IPython.display import Image\n",
    "\n",
    "Image(graph.get_graph().draw_png())"
   ]
  },
  {
   "cell_type": "markdown",
   "id": "392cfcff",
   "metadata": {},
   "source": [
    "## Running the Graph\n",
    "\n",
    "To test our essay writer, we're using the graph.stream method. This allows us to see each step of the process as it happens. We're asking it to write an essay on the difference between LangChain and LangSmith, with a maximum of two revisions.\n",
    "\n",
    "As it runs, you'll see outputs from each node, showing you how the essay evolves through the planning, research, writing, and revision stages.\n"
   ]
  },
  {
   "cell_type": "code",
   "execution_count": 32,
   "id": "98f3be1d-cc4c-41fa-9863-3e386e88e305",
   "metadata": {
    "height": 132
   },
   "outputs": [
    {
     "name": "stdout",
     "output_type": "stream",
     "text": [
      "{'planner': {'plan': \"Here is a high-level outline for an essay comparing LangChain and LangSmith:\\n\\nI. Introduction\\n   A. Brief overview of LangChain and LangSmith as two prominent open-source frameworks for building applications with large language models (LLMs)\\n   B. Thesis statement: While LangChain and LangSmith share some similarities, they have distinct approaches, features, and use cases that make them suitable for different types of projects.\\n\\nII. Overview of LangChain\\n   A. Description of LangChain\\n      1. Purpose and goals of the framework\\n      2. Key features and components\\n         a. Agents\\n         b. Chains\\n         c. Prompts\\n         d. Memory\\n   B. Strengths of LangChain\\n      1. Modular and flexible architecture\\n      2. Support for a wide range of LLMs and other AI models\\n      3. Emphasis on building complex, multi-step applications\\n\\nIII. Overview of LangSmith\\n   A. Description of LangSmith\\n      1. Purpose and goals of the framework\\n      2. Key features and components\\n         a. Prompt engineering\\n         b. Prompt chaining\\n         c. Prompt optimization\\n   B. Strengths of LangSmith\\n      1. Focus on prompt engineering and optimization\\n      2. Ease of use and rapid prototyping\\n      3. Integration with popular LLMs and AI services\\n\\nIV. Comparison of LangChain and LangSmith\\n   A. Architectural differences\\n      1. LangChain's modular, component-based approach\\n      2. LangSmith's emphasis on prompt-centric development\\n   B. Use cases and target applications\\n      1. LangChain for building complex, multi-step applications\\n      2. LangSmith for rapid prototyping and prompt engineering\\n   C. Performance and scalability\\n      1. LangChain's support for large-scale, enterprise-level applications\\n      2. LangSmith's focus on ease of use and quick iteration\\n\\nV. Conclusion\\n   A. Summary of key differences between LangChain and LangSmith\\n   B. Recommendations on when to use each framework based on project requirements\\n   C. Final thoughts on the evolving landscape of LLM-powered application development\\n\\nNote: This is a high-level outline, and you may need to expand on each section with more detailed information, examples, and analysis to create a comprehensive essay. Additionally, you may want to include relevant references and citations to support the claims made in the essay.\"}}\n",
      "{'research_plan': {'content': ['LangChain and LangSmith are two powerful tools developed by LangChain, a company focused on making it easier to build and deploy Large Language Model (LLM) applications. 1. Limited Scalability: LangChain is not designed for large-scale production environments, making it less suitable for complex, high-traffic applications. 1. Comprehensive Platform: LangSmith offers a unified platform for managing all aspects of LLM development, making it ideal for large-scale, production-ready applications. LangChain and LangSmith are two complementary tools that cater to different stages and requirements of LLM development. LangChain is ideal for early-stage prototyping and small-scale applications, while LangSmith is better suited for large-scale, production-ready applications that require advanced debugging, testing, and monitoring capabilities. ## Understanding LangChain Tools and Agents: A Guide to Building Smart AI Applications', 'If you’re responsible for ensuring your AI models work in production, or you need to frequently debug and monitor your pipelines, Langsmith is your go-to tool. In short, while **Langchain** excels at managing and scaling model workflows, **Langsmith** is designed for those times when you need deep visibility and control over large, complex AI systems in production. But if you’re managing a **complex AI pipeline** with multiple models that need debugging and orchestrating, Langsmith’s capabilities become essential. If you’re debugging complex AI models or managing large-scale workflows with multiple moving parts, **Langsmith’s advanced debugging and orchestration features** will be indispensable. Additionally, if you’re working on **cross-platform model deployments** — say, running models on-prem and in the cloud simultaneously — Langsmith offers better orchestration and monitoring tools to handle the complexity.', 'If you’re responsible for ensuring your AI models work in production, or you need to frequently debug and monitor your pipelines, Langsmith is your go-to tool. In short, while **Langchain** excels at managing and scaling model workflows, **Langsmith** is designed for those times when you need deep visibility and control over large, complex AI systems in production. But if you’re managing a **complex AI pipeline** with multiple models that need debugging and orchestrating, Langsmith’s capabilities become essential. If you’re debugging complex AI models or managing large-scale workflows with multiple moving parts, **Langsmith’s advanced debugging and orchestration features** will be indispensable. Additionally, if you’re working on **cross-platform model deployments** — say, running models on-prem and in the cloud simultaneously — Langsmith offers better orchestration and monitoring tools to handle the complexity.', 'LangChain and LangSmith are two powerful tools developed by LangChain, a company focused on making it easier to build and deploy Large Language Model (LLM) applications. 1. Limited Scalability: LangChain is not designed for large-scale production environments, making it less suitable for complex, high-traffic applications. 1. Comprehensive Platform: LangSmith offers a unified platform for managing all aspects of LLM development, making it ideal for large-scale, production-ready applications. LangChain and LangSmith are two complementary tools that cater to different stages and requirements of LLM development. LangChain is ideal for early-stage prototyping and small-scale applications, while LangSmith is better suited for large-scale, production-ready applications that require advanced debugging, testing, and monitoring capabilities. ## Understanding LangChain Tools and Agents: A Guide to Building Smart AI Applications', 'Top Consor DisadvantagesofLangchain. 1. Complexity Issues. Users find complexity issues inLangChain, as its evolving ecosystem creates challenges for', \"LangChain is an open-source framework that helps developers build applications powered by language models. This comprehensive review examines LangChain's features, pricing, pros and cons, and alternatives to help you make an informed decision for your AI development needs in 2025. * **LangChain Community** offers integrations with third-party services like vector databases, LLM providers, and tool APIs. To use LangChain effectively, you need basic Python or JavaScript knowledge and API keys for your chosen LLM provider. * **Customer Service** platforms use LangChain to build chatbots that access product documentation, check inventory, and escalate complex issues to human agents seamlessly. Yes, LangChain supports local models through Ollama, LlamaCpp, and Hugging Face integrations, enabling completely offline AI applications.\", 'If you’re responsible for ensuring your AI models work in production, or you need to frequently debug and monitor your pipelines, Langsmith is your go-to tool. In short, while **Langchain** excels at managing and scaling model workflows, **Langsmith** is designed for those times when you need deep visibility and control over large, complex AI systems in production. But if you’re managing a **complex AI pipeline** with multiple models that need debugging and orchestrating, Langsmith’s capabilities become essential. If you’re debugging complex AI models or managing large-scale workflows with multiple moving parts, **Langsmith’s advanced debugging and orchestration features** will be indispensable. Additionally, if you’re working on **cross-platform model deployments** — say, running models on-prem and in the cloud simultaneously — Langsmith offers better orchestration and monitoring tools to handle the complexity.', 'Compare LangChain, LangSmith, and Orq.ai to discover the best LLM development tools for building, deploying, and optimizing scalable AI applications. As a **comprehensive platform** for LLM product development, LangChain equips software teams with the tools needed to build, test, and deploy LLM-powered solutions at scale. While LangChain focuses on the flexibility and modularity required for building LLM-powered applications, LangSmith steps in to offer essential tools for deployment, monitoring, and optimization throughout the production process. Orq.ai offers several advantages over **LangChain** and **LangSmith**, providing a more integrated and efficient solution for LLM development. By offering an integrated solution that supports the entire LLM development lifecycle, Orq.ai enables teams to seamlessly build, deploy, and optimize LLM applications at scale, without needing to juggle multiple specialized tools.', 'In LLM application development, LangChain and LangSmith have become central tools for building and managing large language model-powered solutions. This article compares LangChain and LangSmith, focusing on their core features, integration options, and value for developers in the LLM application space. LangChain is an open-source framework that helps developers create LLM applications efficiently. LangSmith provides tools to debug, monitor, and improve LLM-powered agents, and offers a managed cloud service with a web UI. | LLM Evaluation | Minimal built-in support; developers typically create custom logic or use external tools. | Key Features | Modular chains and sequences, prompt templates, agent framework, data connectors, wide model support, community integrations. LangChain provides building blocks for LLM applications, while LangSmith offers observability and evaluation.', \"LangSmith steps in to give you the tools you need to debug and monitor your models at scale, ensuring everything is running as expected in your AI system. You might think of LangSmith as LangChain's counterpart, but it takes things further by focusing on managing, debugging, and orchestrating AI and ML models. LangSmith steps in to give you the tools you need to debug and monitor your models at scale, ensuring everything is running as expected in your AI system. In short, while LangChain excels at managing and scaling model workflows, LangSmith is designed for when you need deep visibility and control over large, complex AI systems in production. If you're debugging complex AI models or managing large-scale workflows with multiple moving parts, LangSmith's advanced debugging and orchestration features will be indispensable.\"]}}\n",
      "{'generate': {'draft': \"Here is a 5-paragraph essay comparing LangChain and LangSmith:\\n\\nIntroduction\\n\\nLangChain and LangSmith are two prominent open-source frameworks developed by Anthropic to simplify the process of building applications powered by large language models (LLMs). While these tools share some similarities, they have distinct approaches, features, and use cases that make them suitable for different types of projects.\\n\\nLangChain: Flexible and Modular\\n\\nLangChain is a flexible and modular framework that provides developers with the building blocks needed to create complex, multi-step LLM-powered applications. Its key features include agents, chains, prompts, and memory management, which allow developers to easily compose and orchestrate various components of their AI systems. LangChain's strength lies in its ability to support a wide range of LLMs and other AI models, making it a versatile choice for building diverse applications.\\n\\nLangSmith: Prompt-Centric Development\\n\\nIn contrast, LangSmith takes a more prompt-centric approach to LLM application development. It focuses on providing tools for prompt engineering, chaining, and optimization, enabling developers to rapidly prototype and fine-tune their language models. LangSmith's emphasis on prompt-based development makes it an attractive choice for projects that require quick iteration and experimentation with different prompts and model configurations.\\n\\nComparison and Use Cases\\n\\nWhile LangChain and LangSmith share the common goal of simplifying LLM application development, they cater to different needs. LangChain is better suited for building large-scale, enterprise-level applications that require a high degree of flexibility and scalability, such as virtual assistants, chatbots, and content generation tools. LangSmith, on the other hand, is more suitable for rapid prototyping and prompt engineering tasks, making it a valuable tool for researchers, data scientists, and developers working on specialized LLM-powered applications.\\n\\nConclusion\\n\\nIn summary, LangChain and LangSmith are complementary tools that offer different approaches to LLM application development. LangChain's modular and flexible architecture makes it a strong choice for complex, multi-step applications, while LangSmith's prompt-centric focus makes it well-suited for quick iteration and experimentation. Developers should consider the specific requirements of their projects and choose the framework that best aligns with their needs and development workflows.\", 'revision_number': 2}}\n",
      "{'reflect': {'critique': 'Overall, the essay provides a good comparison of LangChain and LangSmith, highlighting their key differences and use cases. However, there are a few areas where the essay could be improved:\\n\\n1. Length and Depth:\\n   - The essay is a bit short, with only 5 paragraphs. Consider expanding the content to provide more in-depth analysis and comparison of the two frameworks.\\n   - Delve deeper into the specific features, strengths, and weaknesses of each framework, and how they might impact the development process and final application.\\n\\n2. Structure and Organization:\\n   - The essay could benefit from a more clearly defined structure, with a stronger introduction that sets the stage for the comparison and a more robust conclusion that summarizes the key points and provides a clear recommendation.\\n   - Consider adding subheadings or transitional phrases to help guide the reader through the different sections of the essay.\\n\\n3. Tone and Style:\\n   - The essay could be more engaging and informative by using a more formal, academic tone and avoiding overly casual language.\\n   - Ensure that the writing is clear, concise, and free of grammatical or spelling errors.\\n\\n4. Additional Comparisons:\\n   - Consider adding more comparative elements, such as specific use cases, performance metrics, or developer experiences, to provide a more comprehensive analysis of the two frameworks.\\n   - Discuss any potential trade-offs or limitations of each framework that users should be aware of.\\n\\n5. Recommendations:\\n   - Provide more specific recommendations on when and why a developer might choose one framework over the other, based on the analysis presented in the essay.\\n   - Suggest potential scenarios or project types that would be better suited for LangChain or LangSmith, respectively.\\n\\nBy addressing these areas, the essay can be strengthened to provide a more thorough and insightful comparison of LangChain and LangSmith, helping readers make a more informed decision when choosing between the two frameworks.'}}\n",
      "{'research_critique': {'content': ['LangChain and LangSmith are two powerful tools developed by LangChain, a company focused on making it easier to build and deploy Large Language Model (LLM) applications. 1. Limited Scalability: LangChain is not designed for large-scale production environments, making it less suitable for complex, high-traffic applications. 1. Comprehensive Platform: LangSmith offers a unified platform for managing all aspects of LLM development, making it ideal for large-scale, production-ready applications. LangChain and LangSmith are two complementary tools that cater to different stages and requirements of LLM development. LangChain is ideal for early-stage prototyping and small-scale applications, while LangSmith is better suited for large-scale, production-ready applications that require advanced debugging, testing, and monitoring capabilities. ## Understanding LangChain Tools and Agents: A Guide to Building Smart AI Applications', 'If you’re responsible for ensuring your AI models work in production, or you need to frequently debug and monitor your pipelines, Langsmith is your go-to tool. In short, while **Langchain** excels at managing and scaling model workflows, **Langsmith** is designed for those times when you need deep visibility and control over large, complex AI systems in production. But if you’re managing a **complex AI pipeline** with multiple models that need debugging and orchestrating, Langsmith’s capabilities become essential. If you’re debugging complex AI models or managing large-scale workflows with multiple moving parts, **Langsmith’s advanced debugging and orchestration features** will be indispensable. Additionally, if you’re working on **cross-platform model deployments** — say, running models on-prem and in the cloud simultaneously — Langsmith offers better orchestration and monitoring tools to handle the complexity.', 'If you’re responsible for ensuring your AI models work in production, or you need to frequently debug and monitor your pipelines, Langsmith is your go-to tool. In short, while **Langchain** excels at managing and scaling model workflows, **Langsmith** is designed for those times when you need deep visibility and control over large, complex AI systems in production. But if you’re managing a **complex AI pipeline** with multiple models that need debugging and orchestrating, Langsmith’s capabilities become essential. If you’re debugging complex AI models or managing large-scale workflows with multiple moving parts, **Langsmith’s advanced debugging and orchestration features** will be indispensable. Additionally, if you’re working on **cross-platform model deployments** — say, running models on-prem and in the cloud simultaneously — Langsmith offers better orchestration and monitoring tools to handle the complexity.', 'LangChain and LangSmith are two powerful tools developed by LangChain, a company focused on making it easier to build and deploy Large Language Model (LLM) applications. 1. Limited Scalability: LangChain is not designed for large-scale production environments, making it less suitable for complex, high-traffic applications. 1. Comprehensive Platform: LangSmith offers a unified platform for managing all aspects of LLM development, making it ideal for large-scale, production-ready applications. LangChain and LangSmith are two complementary tools that cater to different stages and requirements of LLM development. LangChain is ideal for early-stage prototyping and small-scale applications, while LangSmith is better suited for large-scale, production-ready applications that require advanced debugging, testing, and monitoring capabilities. ## Understanding LangChain Tools and Agents: A Guide to Building Smart AI Applications', 'Top Consor DisadvantagesofLangchain. 1. Complexity Issues. Users find complexity issues inLangChain, as its evolving ecosystem creates challenges for', \"LangChain is an open-source framework that helps developers build applications powered by language models. This comprehensive review examines LangChain's features, pricing, pros and cons, and alternatives to help you make an informed decision for your AI development needs in 2025. * **LangChain Community** offers integrations with third-party services like vector databases, LLM providers, and tool APIs. To use LangChain effectively, you need basic Python or JavaScript knowledge and API keys for your chosen LLM provider. * **Customer Service** platforms use LangChain to build chatbots that access product documentation, check inventory, and escalate complex issues to human agents seamlessly. Yes, LangChain supports local models through Ollama, LlamaCpp, and Hugging Face integrations, enabling completely offline AI applications.\", 'If you’re responsible for ensuring your AI models work in production, or you need to frequently debug and monitor your pipelines, Langsmith is your go-to tool. In short, while **Langchain** excels at managing and scaling model workflows, **Langsmith** is designed for those times when you need deep visibility and control over large, complex AI systems in production. But if you’re managing a **complex AI pipeline** with multiple models that need debugging and orchestrating, Langsmith’s capabilities become essential. If you’re debugging complex AI models or managing large-scale workflows with multiple moving parts, **Langsmith’s advanced debugging and orchestration features** will be indispensable. Additionally, if you’re working on **cross-platform model deployments** — say, running models on-prem and in the cloud simultaneously — Langsmith offers better orchestration and monitoring tools to handle the complexity.', 'Compare LangChain, LangSmith, and Orq.ai to discover the best LLM development tools for building, deploying, and optimizing scalable AI applications. As a **comprehensive platform** for LLM product development, LangChain equips software teams with the tools needed to build, test, and deploy LLM-powered solutions at scale. While LangChain focuses on the flexibility and modularity required for building LLM-powered applications, LangSmith steps in to offer essential tools for deployment, monitoring, and optimization throughout the production process. Orq.ai offers several advantages over **LangChain** and **LangSmith**, providing a more integrated and efficient solution for LLM development. By offering an integrated solution that supports the entire LLM development lifecycle, Orq.ai enables teams to seamlessly build, deploy, and optimize LLM applications at scale, without needing to juggle multiple specialized tools.', 'In LLM application development, LangChain and LangSmith have become central tools for building and managing large language model-powered solutions. This article compares LangChain and LangSmith, focusing on their core features, integration options, and value for developers in the LLM application space. LangChain is an open-source framework that helps developers create LLM applications efficiently. LangSmith provides tools to debug, monitor, and improve LLM-powered agents, and offers a managed cloud service with a web UI. | LLM Evaluation | Minimal built-in support; developers typically create custom logic or use external tools. | Key Features | Modular chains and sequences, prompt templates, agent framework, data connectors, wide model support, community integrations. LangChain provides building blocks for LLM applications, while LangSmith offers observability and evaluation.', \"LangSmith steps in to give you the tools you need to debug and monitor your models at scale, ensuring everything is running as expected in your AI system. You might think of LangSmith as LangChain's counterpart, but it takes things further by focusing on managing, debugging, and orchestrating AI and ML models. LangSmith steps in to give you the tools you need to debug and monitor your models at scale, ensuring everything is running as expected in your AI system. In short, while LangChain excels at managing and scaling model workflows, LangSmith is designed for when you need deep visibility and control over large, complex AI systems in production. If you're debugging complex AI models or managing large-scale workflows with multiple moving parts, LangSmith's advanced debugging and orchestration features will be indispensable.\", 'In LLM application development, LangChain and LangSmith have become central tools for building and managing large language model-powered solutions. This article compares LangChain and LangSmith, focusing on their core features, integration options, and value for developers in the LLM application space. LangChain is an open-source framework that helps developers create LLM applications efficiently. LangSmith provides tools to debug, monitor, and improve LLM-powered agents, and offers a managed cloud service with a web UI. | LLM Evaluation | Minimal built-in support; developers typically create custom logic or use external tools. | Key Features | Modular chains and sequences, prompt templates, agent framework, data connectors, wide model support, community integrations. LangChain provides building blocks for LLM applications, while LangSmith offers observability and evaluation.', 'If you’re responsible for ensuring your AI models work in production, or you need to frequently debug and monitor your pipelines, Langsmith is your go-to tool. In short, while **Langchain** excels at managing and scaling model workflows, **Langsmith** is designed for those times when you need deep visibility and control over large, complex AI systems in production. But if you’re managing a **complex AI pipeline** with multiple models that need debugging and orchestrating, Langsmith’s capabilities become essential. If you’re debugging complex AI models or managing large-scale workflows with multiple moving parts, **Langsmith’s advanced debugging and orchestration features** will be indispensable. Additionally, if you’re working on **cross-platform model deployments** — say, running models on-prem and in the cloud simultaneously — Langsmith offers better orchestration and monitoring tools to handle the complexity.', \"LangSmith enhances the core offering of LangChain by introducing tools that bring clarity to the inner mechanics of language models and AI-driven agents within a product. If LangChain is the engine under the hood, then LangSmith is the sophisticated dashboard that monitors, debugs, and optimizes the performance of your language model applications. Building on the innovative foundation of LangChain, LangSmith emerges as a critical toolset for those seeking to transition from prototyping to production with language model applications. By harnessing the power of LangChain's tracing tools and LangSmith's testing features, developers can build and maintain robust LLM applications with greater ease and confidence. By integrating closely with LangChain, LangSmith empowers developers to transition their prototypes to fully-fledged production applications with confidence.\", 'In LLM application development, LangChain and LangSmith have become central tools for building and managing large language model-powered solutions. This article compares LangChain and LangSmith, focusing on their core features, integration options, and value for developers in the LLM application space. LangChain is an open-source framework that helps developers create LLM applications efficiently. LangSmith provides tools to debug, monitor, and improve LLM-powered agents, and offers a managed cloud service with a web UI. | LLM Evaluation | Minimal built-in support; developers typically create custom logic or use external tools. | Key Features | Modular chains and sequences, prompt templates, agent framework, data connectors, wide model support, community integrations. LangChain provides building blocks for LLM applications, while LangSmith offers observability and evaluation.', '# **Understanding and Managing Trade-Offs in Software Architecture** This article explores the main concepts and practices of trade-offs in software architecture. By understanding and managing trade-offs, software architects can create well-balanced and successful software systems that meet the most critical needs. This is the essence of trade-offs in software architecture. In software architecture design, achieving all desirable qualities simultaneously is unrealistic, and architects must prioritize and make trade-offs. ### Trade-offs in Software Architecture Software architects must make a balance between robust security best-practices and acceptable performance levels. ATAM is most helpful when done at the beginning of software development, when the cost of changing architectures is minimal. Understanding trade-offs practices enables software architects to make informed decisions that customize systems for each project’s requirements. Software Architecture', \"You get a lot of extra code you probably won't use. The user has to load all that code unless you can tree shake out the parts you don't need.\", 'If you’re responsible for ensuring your AI models work in production, or you need to frequently debug and monitor your pipelines, Langsmith is your go-to tool. In short, while **Langchain** excels at managing and scaling model workflows, **Langsmith** is designed for those times when you need deep visibility and control over large, complex AI systems in production. But if you’re managing a **complex AI pipeline** with multiple models that need debugging and orchestrating, Langsmith’s capabilities become essential. If you’re debugging complex AI models or managing large-scale workflows with multiple moving parts, **Langsmith’s advanced debugging and orchestration features** will be indispensable. Additionally, if you’re working on **cross-platform model deployments** — say, running models on-prem and in the cloud simultaneously — Langsmith offers better orchestration and monitoring tools to handle the complexity.', \"LangSmith steps in to give you the tools you need to debug and monitor your models at scale, ensuring everything is running as expected in your AI system. You might think of LangSmith as LangChain's counterpart, but it takes things further by focusing on managing, debugging, and orchestrating AI and ML models. LangSmith steps in to give you the tools you need to debug and monitor your models at scale, ensuring everything is running as expected in your AI system. In short, while LangChain excels at managing and scaling model workflows, LangSmith is designed for when you need deep visibility and control over large, complex AI systems in production. If you're debugging complex AI models or managing large-scale workflows with multiple moving parts, LangSmith's advanced debugging and orchestration features will be indispensable.\", 'This article provides useful templates and tips to help you outline your essay, make decisions about your structure, and organize your text logically. Essays with two or more main subjects are often structured around comparing and contrasting. There are two main ways of structuring a compare-and-contrast essay: the alternating method, and the block method. The tabs below show a general template for this structure, and a specific example for an essay comparing and contrasting distance learning with traditional classroom learning. If you want to know more about AI tools, college essays, or fallacies make sure to check out some of our other articles with explanations and examples or go directly to our tools! What is the structure of an essay?', '# Standard Essay Format Guide for 2025: Structure, Tips, and Examples | **Clear Essay Structure** | Every standard essay should include a structured framework of introduction, body paragraphs, and conclusion, ensuring a logical and persuasive presentation of ideas. In the academic landscape of 2025, mastering the standard essay format requires a comprehensive understanding of its key structural and technical elements. Discover our comprehensive formatting guide to ensure your essays meet contemporary academic standards. According to academic writing guidelines, contemporary essays require specific formatting parameters. To provide a clear overview, the following table summarizes the standard formatting parameters and document elements required for academic essays in 2025. Beyond technical specifications, the standard essay format demands structural consistency. Beyond basic formatting, successful academic essays require strategic document organization.']}}\n",
      "{'generate': {'draft': \"Here is a 5-paragraph essay comparing LangChain and LangSmith:\\n\\nIntroduction\\n\\nLangChain and LangSmith are two prominent open-source frameworks developed by Anthropic to simplify the process of building applications powered by large language models (LLMs). While these tools share some similarities, they have distinct approaches, features, and use cases that make them suitable for different types of projects.\\n\\nLangChain: Flexible and Modular\\n\\nLangChain is a flexible and modular framework that provides developers with a set of building blocks to create complex, multi-step LLM-based applications. Its key features include agents, chains, prompts, and memory management, allowing developers to easily compose and orchestrate LLM workflows. LangChain's strength lies in its support for a wide range of LLMs and its emphasis on building scalable, enterprise-level applications.\\n\\nLangSmith: Prompt-Centric Development\\n\\nIn contrast, LangSmith takes a more prompt-centric approach to LLM application development. It focuses on providing tools for prompt engineering, chaining, and optimization, making it easier for developers to rapidly prototype and iterate on LLM-powered solutions. LangSmith's strength is its ease of use and integration with popular LLM providers, making it a suitable choice for quick experimentation and proof-of-concept projects.\\n\\nComparing the Frameworks\\n\\nThe key difference between LangChain and LangSmith lies in their architectural approaches and target use cases. LangChain's modular design and support for large-scale applications make it better suited for building complex, enterprise-level systems, while LangSmith's prompt-centric focus and rapid prototyping capabilities make it more suitable for quick iterations and proof-of-concept projects.\\n\\nConclusion\\n\\nIn summary, LangChain and LangSmith are complementary tools that cater to different stages and requirements of LLM application development. Developers should consider the specific needs of their project, such as scalability, complexity, and development speed, when deciding which framework to use. By understanding the strengths and use cases of each tool, developers can make informed choices to build successful LLM-powered applications.\", 'revision_number': 3}}\n"
     ]
    }
   ],
   "source": [
    "thread = {\"configurable\": {\"thread_id\": \"1\"}}\n",
    "for s in graph.stream(\n",
    "    {\n",
    "        \"task\": \"what is the difference between langchain and langsmith\",\n",
    "        \"max_revisions\": 2,\n",
    "        \"revision_number\": 1,\n",
    "    },\n",
    "    thread,\n",
    "):\n",
    "    print(s)"
   ]
  },
  {
   "cell_type": "markdown",
   "id": "4d1664b5-75e0-46b7-9c2b-4ac9171f4597",
   "metadata": {},
   "source": [
    "## Essay Writer Interface\n",
    "\n",
    "Finally, lets use a simple GUI using Gradio to make it easy to interact with our essay writer. \n",
    "\n",
    "**IMPORTANT NOTE**: To use Gradio within the Amazon SageMaker Code Editor, the app needs to be launched in `shared=True` mode, which creates a public link. Review the [Security and File Access](https://www.gradio.app/guides/sharing-your-app#security-and-file-access) to make sure you understand the security implications.\n",
    "\n",
    "This GUI allows you to input an essay topic, generate the essay, and see the results of each step in the process. You can also interrupt the process after each step, view the current state of the essay, and even modify the topic or plan if you want to guide the essay in a different direction.\n",
    "\n",
    "This GUI makes it easy to experiment with the essay writer and see how changes to the input or the process affect the final output.\n",
    "\n",
    "And that concludes our AI Essay Writer project! You now have a complex, multi-step AI agent that can research, write, and refine essays on a wide range of topics. This project demonstrates how you can combine different AI and API services to create a powerful, practical application.\n"
   ]
  },
  {
   "cell_type": "code",
   "execution_count": 33,
   "id": "0ad8a6cc-65d4-4ce7-87aa-4e67d7c23d7b",
   "metadata": {
    "height": 30
   },
   "outputs": [
    {
     "name": "stdout",
     "output_type": "stream",
     "text": [
      "* Running on local URL:  http://127.0.0.1:7860\n",
      "* Running on public URL: https://7f6a0bc0bd6f030b0a.gradio.live\n",
      "\n",
      "This share link expires in 72 hours. For free permanent hosting and GPU upgrades, run `gradio deploy` from the terminal in the working directory to deploy to Hugging Face Spaces (https://huggingface.co/spaces)\n"
     ]
    },
    {
     "data": {
      "text/html": [
       "<div><iframe src=\"https://7f6a0bc0bd6f030b0a.gradio.live\" width=\"100%\" height=\"500\" allow=\"autoplay; camera; microphone; clipboard-read; clipboard-write;\" frameborder=\"0\" allowfullscreen></iframe></div>"
      ],
      "text/plain": [
       "<IPython.core.display.HTML object>"
      ]
     },
     "metadata": {},
     "output_type": "display_data"
    }
   ],
   "source": [
    "#set magic variables to allow for a reload when changing code without restarting the kernel\n",
    "%load_ext autoreload\n",
    "%autoreload 2\n",
    "\n",
    "import gradio as gr\n",
    "from helper import ewriter, writer_gui\n",
    "\n",
    "MultiAgent = ewriter()\n",
    "app = writer_gui(MultiAgent.graph)\n",
    "app.launch()"
   ]
  },
  {
   "cell_type": "markdown",
   "id": "22e50e0b",
   "metadata": {},
   "source": [
    "## Result   \n",
    "\n",
    "![Agent](../assets/lab6_7.png)\n",
    "![Agent](../assets/lab6_8.png)\n",
    "![Agent](../assets/lab6_9.png)\n",
    "![Agent](../assets/lab6_10.png)\n",
    "![Agent](../assets/lab6_11.png)\n",
    "![Agent](../assets/lab6_12.png)\n",
    "![Agent](../assets/lab6_13.png)"
   ]
  },
  {
   "cell_type": "markdown",
   "id": "72f5f1ea",
   "metadata": {},
   "source": []
  },
  {
   "cell_type": "markdown",
   "id": "37002eb0",
   "metadata": {},
   "source": [
    "## Exercise - Rewrite the Essay writers prompts and parsers\n"
   ]
  },
  {
   "cell_type": "markdown",
   "id": "ef298234",
   "metadata": {},
   "source": [
    "#### Instead of just “Write an outline”, you should ask Claude to return explicit XML."
   ]
  },
  {
   "cell_type": "code",
   "execution_count": 34,
   "id": "f79b56d9",
   "metadata": {},
   "outputs": [],
   "source": [
    "PLAN_PROMPT = \"\"\"\n",
    "You are an expert academic assistant. Please generate a structured outline for an essay on the topic below.\n",
    "\n",
    "Topic:\n",
    "{topic}\n",
    "\n",
    "Return your answer in the following XML format:\n",
    "\n",
    "<outline>\n",
    "  <introduction></introduction>\n",
    "  <main_points>\n",
    "    <point></point>\n",
    "    <point></point>\n",
    "    <point></point>\n",
    "  </main_points>\n",
    "  <conclusion></conclusion>\n",
    "</outline>\n",
    "\"\"\"\n",
    "# 👉 Goal: Claude returns XML outline → easy to parse with XMLOutputParser"
   ]
  },
  {
   "cell_type": "markdown",
   "id": "e21704cb",
   "metadata": {},
   "source": [
    "#### Instead of just telling him to “write the best essay” → we asked Claude to write the assignment in a clear 3-part structure."
   ]
  },
  {
   "cell_type": "code",
   "execution_count": 35,
   "id": "d5c11f90",
   "metadata": {},
   "outputs": [],
   "source": [
    "WRITER_PROMPT = \"\"\"\n",
    "You are an essay assistant tasked with writing an excellent, well-structured essay based on the topic and outline provided.\n",
    "Use the research content below to inform your writing. The essay should have a clear introduction, a structured body, and a thoughtful conclusion.\n",
    "\n",
    "Research Content:\n",
    "<content>\n",
    "{content}\n",
    "</content>\n",
    "\n",
    "Return your essay in this XML format:\n",
    "\n",
    "<essay>\n",
    "  <introduction></introduction>\n",
    "  <body>\n",
    "    <paragraph></paragraph>\n",
    "    <paragraph></paragraph>\n",
    "    <paragraph></paragraph>\n",
    "  </body>\n",
    "  <conclusion></conclusion>\n",
    "</essay>\n",
    "\"\"\"\n"
   ]
  },
  {
   "cell_type": "markdown",
   "id": "d712ce40",
   "metadata": {},
   "source": [
    "#### Instead of asking Claude to write a freehand comment, we force it to follow a clear schema (like the “Excursion” section in the lab):"
   ]
  },
  {
   "cell_type": "code",
   "execution_count": 36,
   "id": "0f175775",
   "metadata": {},
   "outputs": [],
   "source": [
    "REFLECTION_PROMPT = \"\"\"\n",
    "You are a teacher grading an essay submission. Generate structured critique and recommendations for the user's submission.\n",
    "\n",
    "Essay:\n",
    "{essay}\n",
    "\n",
    "Return your feedback in the following XML structure:\n",
    "\n",
    "<answer>\n",
    "  <overall_assessment>\n",
    "    <strengths>\n",
    "      <strength_point></strength_point>\n",
    "      <strength_point></strength_point>\n",
    "    </strengths>\n",
    "    <weaknesses>\n",
    "      <weakness_point></weakness_point>\n",
    "      <weakness_point></weakness_point>\n",
    "    </weaknesses>\n",
    "  </overall_assessment>\n",
    "\n",
    "  <style_and_language>\n",
    "    <clarity>\n",
    "      <comment></comment>\n",
    "      <recommendation></recommendation>\n",
    "    </clarity>\n",
    "    <tone>\n",
    "      <comment></comment>\n",
    "      <recommendation></recommendation>\n",
    "    </tone>\n",
    "    <grammar_and_mechanics>\n",
    "      <comment></comment>\n",
    "      <recommendation></recommendation>\n",
    "    </grammar_and_mechanics>\n",
    "  </style_and_language>\n",
    "\n",
    "  <length_assessment>\n",
    "    <comment></comment>\n",
    "    <recommendation></recommendation>\n",
    "  </length_assessment>\n",
    "\n",
    "  <conclusion>\n",
    "    <overall_recommendation></overall_recommendation>\n",
    "    <priority_improvements>\n",
    "      <improvement></improvement>\n",
    "      <improvement></improvement>\n",
    "    </priority_improvements>\n",
    "  </conclusion>\n",
    "</answer>\n",
    "\"\"\"\n"
   ]
  },
  {
   "cell_type": "markdown",
   "id": "9ae22e7c",
   "metadata": {},
   "source": [
    "### Parse"
   ]
  },
  {
   "cell_type": "code",
   "execution_count": 37,
   "id": "6c937b6a",
   "metadata": {},
   "outputs": [],
   "source": [
    "from langchain.output_parsers.xml import XMLOutputParser\n",
    "from pydantic import BaseModel\n",
    "from typing import List\n",
    "\n",
    "class Outline(BaseModel):\n",
    "    introduction: str\n",
    "    main_points: List[str]\n",
    "    conclusion: str\n",
    "\n",
    "plan_parser = XMLOutputParser(pydantic_object=Outline)\n"
   ]
  },
  {
   "cell_type": "code",
   "execution_count": 38,
   "id": "14fcddea",
   "metadata": {},
   "outputs": [],
   "source": [
    "class Essay(BaseModel):\n",
    "    introduction: str\n",
    "    body: List[str]\n",
    "    conclusion: str\n",
    "\n",
    "essay_parser = XMLOutputParser(pydantic_object=Essay)\n"
   ]
  },
  {
   "cell_type": "code",
   "execution_count": 39,
   "id": "aa7de025",
   "metadata": {},
   "outputs": [],
   "source": [
    "class Critique(BaseModel):\n",
    "    strengths: List[str]\n",
    "    weaknesses: List[str]\n",
    "    clarity_comment: str\n",
    "    clarity_recommendation: str\n",
    "    tone_comment: str\n",
    "    tone_recommendation: str\n",
    "    grammar_comment: str\n",
    "    grammar_recommendation: str\n",
    "    overall_recommendation: str\n",
    "    priority_improvements: List[str]\n",
    "\n",
    "critique_parser = XMLOutputParser(pydantic_object=Critique)\n"
   ]
  }
 ],
 "metadata": {
  "kernelspec": {
   "display_name": ".venv",
   "language": "python",
   "name": "python3"
  },
  "language_info": {
   "codemirror_mode": {
    "name": "ipython",
    "version": 3
   },
   "file_extension": ".py",
   "mimetype": "text/x-python",
   "name": "python",
   "nbconvert_exporter": "python",
   "pygments_lexer": "ipython3",
   "version": "3.12.3"
  }
 },
 "nbformat": 4,
 "nbformat_minor": 5
}
