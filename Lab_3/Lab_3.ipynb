{
 "cells": [
  {
   "cell_type": "markdown",
   "id": "2544dd96-a13c-42df-ab63-c427e68fd41e",
   "metadata": {},
   "source": [
    "# Lab 3: Agentic Search Tools\n"
   ]
  },
  {
   "cell_type": "markdown",
   "id": "575640a8",
   "metadata": {},
   "source": [
    "## Setting Up the Environment"
   ]
  },
  {
   "cell_type": "code",
   "execution_count": 1,
   "id": "d0168aee-bce9-4d60-b827-f86a88187e31",
   "metadata": {
    "height": 198
   },
   "outputs": [
    {
     "name": "stderr",
     "output_type": "stream",
     "text": [
      "[2025-10-02 10:54:24,259] p3180 {utils.py:46} INFO - TAVILY_API_KEY variable correctly retrieved from the .env file.\n"
     ]
    }
   ],
   "source": [
    "from dotenv import load_dotenv\n",
    "import os\n",
    "import sys\n",
    "import json, re\n",
    "import pprint\n",
    "import boto3\n",
    "from botocore.client import Config\n",
    "import warnings\n",
    "\n",
    "warnings.filterwarnings(\"ignore\")\n",
    "import logging\n",
    "\n",
    "# import local modules\n",
    "dir_current = os.path.abspath(\"\")\n",
    "dir_parent = os.path.dirname(dir_current)\n",
    "if dir_parent not in sys.path:\n",
    "    sys.path.append(dir_parent)\n",
    "from utils import utils\n",
    "\n",
    "bedrock_config = Config(\n",
    "    connect_timeout=120, read_timeout=120, retries={\"max_attempts\": 0}\n",
    ")\n",
    "\n",
    "# Set basic configs\n",
    "logger = utils.set_logger()\n",
    "pp = utils.set_pretty_printer()\n",
    "\n",
    "# Load environment variables from .env file or Secret Manager\n",
    "_ = load_dotenv(\"../.env\")\n",
    "aws_region = os.getenv(\"AWS_REGION\")\n",
    "tavily_ai_api_key = utils.get_tavily_api(\"TAVILY_API_KEY\", aws_region)\n",
    "\n",
    "\n",
    "# Create a bedrock runtime client\n",
    "bedrock_rt = boto3.client(\n",
    "    \"bedrock-runtime\", region_name=aws_region, config=bedrock_config\n",
    ")\n",
    "\n",
    "# Create a bedrock client to check available models\n",
    "bedrock = boto3.client(\"bedrock\", region_name=aws_region, config=bedrock_config)\n"
   ]
  },
  {
   "cell_type": "code",
   "execution_count": 3,
   "id": "a2ba84ec-c172-4de7-ac55-e3158a531b23",
   "metadata": {
    "height": 147
   },
   "outputs": [
    {
     "data": {
      "text/plain": [
       "'The new Blackwell GPU features fifth-generation NVLink, enhanced Transformer Engine, and secure AI capabilities. It supports up to 576 GPUs for large-scale AI workloads.'"
      ]
     },
     "execution_count": 3,
     "metadata": {},
     "output_type": "execute_result"
    }
   ],
   "source": [
    "from tavily import TavilyClient\n",
    "\n",
    "client = TavilyClient(api_key=tavily_ai_api_key)\n",
    "# run search\n",
    "result = client.search(\"What is in Nvidia's new Blackwell GPU?\", include_answer=True)\n",
    "\n",
    "# print the answer\n",
    "result['answer']"
   ]
  },
  {
   "cell_type": "markdown",
   "id": "d7f3f33c-c7bd-4b7f-9616-b65eef104514",
   "metadata": {},
   "source": [
    "## Regular search\n"
   ]
  },
  {
   "cell_type": "code",
   "execution_count": 4,
   "id": "876d5092-b8ef-4e38-b4d7-0e80c609bf7a",
   "metadata": {
    "height": 166
   },
   "outputs": [],
   "source": [
    "# choose location (try to change to your own city!)\n",
    "\n",
    "city = \"San Francisco\"\n",
    "\n",
    "query = f\"\"\"\n",
    "    what is the current weather in {city}?\n",
    "    Should I travel there today?\n",
    "    \"weather.com\"\n",
    "\"\"\""
   ]
  },
  {
   "cell_type": "markdown",
   "id": "2128e40f-11ef-41ed-ac1f-7feeb5546224",
   "metadata": {},
   "source": [
    "> Note: search was modified to return expected results in the event of an exception. High volumes of student traffic sometimes cause rate limit exceptions.\n"
   ]
  },
  {
   "cell_type": "code",
   "execution_count": 5,
   "id": "10084a02-2928-4945-9f7c-ad3f5b33caf7",
   "metadata": {
    "height": 402
   },
   "outputs": [
    {
     "name": "stdout",
     "output_type": "stream",
     "text": [
      "returning previous results due to exception reaching ddg.\n",
      "https://weather.com/weather/today/l/USCA0987:1:US\n",
      "https://weather.com/weather/hourbyhour/l/54f9d8baac32496f6b5497b4bf7a277c3e2e6cc5625de69680e6169e7e38e9a8\n"
     ]
    }
   ],
   "source": [
    "import requests\n",
    "from bs4 import BeautifulSoup\n",
    "from duckduckgo_search import DDGS\n",
    "import re\n",
    "\n",
    "ddg = DDGS()\n",
    "\n",
    "\n",
    "def search(query, max_results=6):\n",
    "    try:\n",
    "        results = ddg.text(query, max_results=max_results)\n",
    "        return [i[\"href\"] for i in results]\n",
    "    except Exception as e:\n",
    "        print(f\"returning previous results due to exception reaching ddg.\")\n",
    "        results = [  # cover case where DDG rate limits due to high traffic volume\n",
    "            \"https://weather.com/weather/today/l/USCA0987:1:US\",\n",
    "            \"https://weather.com/weather/hourbyhour/l/54f9d8baac32496f6b5497b4bf7a277c3e2e6cc5625de69680e6169e7e38e9a8\",\n",
    "        ]\n",
    "        return results\n",
    "\n",
    "\n",
    "for i in search(query):\n",
    "    print(i)"
   ]
  },
  {
   "cell_type": "code",
   "execution_count": 6,
   "id": "d31c432d-8e22-412f-b302-961ace0b00bd",
   "metadata": {
    "height": 283
   },
   "outputs": [],
   "source": [
    "def scrape_weather_info(url):\n",
    "    \"\"\"Scrape content from the given URL\"\"\"\n",
    "    if not url:\n",
    "        return \"Weather information could not be found.\"\n",
    "\n",
    "    # fetch data\n",
    "    headers = {\"User-Agent\": \"Mozilla/5.0\"}\n",
    "    response = requests.get(url, headers=headers)\n",
    "    if response.status_code != 200:\n",
    "        return \"Failed to retrieve the webpage.\"\n",
    "\n",
    "    # parse result\n",
    "    soup = BeautifulSoup(response.text, \"html.parser\")\n",
    "    return soup"
   ]
  },
  {
   "cell_type": "markdown",
   "id": "0b67d8ad-a439-4c91-9dfe-7c84998ef644",
   "metadata": {},
   "source": [
    "> Note: This produces a long output, you may want to right click and clear the cell output after you look at it briefly to avoid scrolling past it.\n"
   ]
  },
  {
   "cell_type": "code",
   "execution_count": 7,
   "id": "714d1205-f8fc-4912-b148-2a45da99219c",
   "metadata": {
    "height": 164
   },
   "outputs": [
    {
     "name": "stdout",
     "output_type": "stream",
     "text": [
      "returning previous results due to exception reaching ddg.\n",
      "Website: https://weather.com/weather/today/l/USCA0987:1:US\n",
      "\n",
      "\n",
      "Failed to retrieve the webpage.\n"
     ]
    }
   ],
   "source": [
    "# use DuckDuckGo to find websites and take the first result\n",
    "url = search(query)[0]\n",
    "\n",
    "# scrape first wesbsite\n",
    "soup = scrape_weather_info(url)\n",
    "\n",
    "print(f\"Website: {url}\\n\\n\")\n",
    "print(str(soup)[:50000])  # limit long outputs"
   ]
  },
  {
   "cell_type": "code",
   "execution_count": 11,
   "id": "6cb3ef4c-58b3-401b-b104-0d51e553d982",
   "metadata": {
    "height": 251
   },
   "outputs": [
    {
     "ename": "AttributeError",
     "evalue": "'str' object has no attribute 'find_all'",
     "output_type": "error",
     "traceback": [
      "\u001b[31m---------------------------------------------------------------------------\u001b[39m",
      "\u001b[31mAttributeError\u001b[39m                            Traceback (most recent call last)",
      "\u001b[36mCell\u001b[39m\u001b[36m \u001b[39m\u001b[32mIn[11]\u001b[39m\u001b[32m, line 3\u001b[39m\n\u001b[32m      1\u001b[39m \u001b[38;5;66;03m# extract text\u001b[39;00m\n\u001b[32m      2\u001b[39m weather_data = []\n\u001b[32m----> \u001b[39m\u001b[32m3\u001b[39m \u001b[38;5;28;01mfor\u001b[39;00m tag \u001b[38;5;129;01min\u001b[39;00m \u001b[43msoup\u001b[49m\u001b[43m.\u001b[49m\u001b[43mfind_all\u001b[49m([\u001b[33m\"\u001b[39m\u001b[33mh1\u001b[39m\u001b[33m\"\u001b[39m, \u001b[33m\"\u001b[39m\u001b[33mh2\u001b[39m\u001b[33m\"\u001b[39m, \u001b[33m\"\u001b[39m\u001b[33mh3\u001b[39m\u001b[33m\"\u001b[39m, \u001b[33m\"\u001b[39m\u001b[33mp\u001b[39m\u001b[33m\"\u001b[39m]):\n\u001b[32m      4\u001b[39m     text = tag.get_text(\u001b[33m\"\u001b[39m\u001b[33m \u001b[39m\u001b[33m\"\u001b[39m, strip=\u001b[38;5;28;01mTrue\u001b[39;00m)\n\u001b[32m      5\u001b[39m     weather_data.append(text)\n",
      "\u001b[31mAttributeError\u001b[39m: 'str' object has no attribute 'find_all'"
     ]
    }
   ],
   "source": [
    "# extract text\n",
    "weather_data = []\n",
    "for tag in soup.find_all([\"h1\", \"h2\", \"h3\", \"p\"]):\n",
    "    text = tag.get_text(\" \", strip=True)\n",
    "    weather_data.append(text)\n",
    "\n",
    "# combine all elements into a single string\n",
    "weather_data = \"\\n\".join(weather_data)\n",
    "\n",
    "# remove all spaces from the combined text\n",
    "weather_data = re.sub(r\"\\s+\", \" \", weather_data)\n",
    "\n",
    "print(f\"Website: {url}\\n\\n\")\n",
    "print(weather_data)"
   ]
  },
  {
   "cell_type": "markdown",
   "id": "92db676d-d8d9-4558-8dcf-1b20fcb48e45",
   "metadata": {},
   "source": [
    "## Agentic Search\n"
   ]
  },
  {
   "cell_type": "code",
   "execution_count": 13,
   "id": "dc3293b7-a50c-43c8-a022-8975e1e444b8",
   "metadata": {
    "height": 132
   },
   "outputs": [
    {
     "name": "stdout",
     "output_type": "stream",
     "text": [
      "{'location': {'name': 'San Francisco', 'region': 'California', 'country': 'United States of America', 'lat': 37.775, 'lon': -122.4183, 'tz_id': 'America/Los_Angeles', 'localtime_epoch': 1759342034, 'localtime': '2025-10-01 11:07'}, 'current': {'last_updated_epoch': 1759341600, 'last_updated': '2025-10-01 11:00', 'temp_c': 20.1, 'temp_f': 68.2, 'is_day': 1, 'condition': {'text': 'Partly cloudy', 'icon': '//cdn.weatherapi.com/weather/64x64/day/116.png', 'code': 1003}, 'wind_mph': 5.4, 'wind_kph': 8.6, 'wind_degree': 152, 'wind_dir': 'SSE', 'pressure_mb': 1017.0, 'pressure_in': 30.03, 'precip_mm': 0.0, 'precip_in': 0.0, 'humidity': 65, 'cloud': 75, 'feelslike_c': 20.1, 'feelslike_f': 68.2, 'windchill_c': 19.9, 'windchill_f': 67.8, 'heatindex_c': 19.9, 'heatindex_f': 67.8, 'dewpoint_c': 13.9, 'dewpoint_f': 57.0, 'vis_km': 16.0, 'vis_miles': 9.0, 'uv': 1.4, 'gust_mph': 7.7, 'gust_kph': 12.4}}\n"
     ]
    }
   ],
   "source": [
    "# run search\n",
    "result = client.search(query, max_results=1)\n",
    "\n",
    "# print first result\n",
    "data = result[\"results\"][0][\"content\"]\n",
    "\n",
    "print(data)"
   ]
  },
  {
   "cell_type": "code",
   "execution_count": 15,
   "id": "0722c3d4-4cbf-43bf-81b0-50f634c4ce61",
   "metadata": {
    "height": 266
   },
   "outputs": [
    {
     "name": "stdout",
     "output_type": "stream",
     "text": [
      "{\u001b[37m\u001b[39;49;00m\n",
      "\u001b[37m    \u001b[39;49;00m\u001b[94m\"location\"\u001b[39;49;00m:\u001b[37m \u001b[39;49;00m{\u001b[37m\u001b[39;49;00m\n",
      "\u001b[37m        \u001b[39;49;00m\u001b[94m\"name\"\u001b[39;49;00m:\u001b[37m \u001b[39;49;00m\u001b[33m\"San Francisco\"\u001b[39;49;00m,\u001b[37m\u001b[39;49;00m\n",
      "\u001b[37m        \u001b[39;49;00m\u001b[94m\"region\"\u001b[39;49;00m:\u001b[37m \u001b[39;49;00m\u001b[33m\"California\"\u001b[39;49;00m,\u001b[37m\u001b[39;49;00m\n",
      "\u001b[37m        \u001b[39;49;00m\u001b[94m\"country\"\u001b[39;49;00m:\u001b[37m \u001b[39;49;00m\u001b[33m\"United States of America\"\u001b[39;49;00m,\u001b[37m\u001b[39;49;00m\n",
      "\u001b[37m        \u001b[39;49;00m\u001b[94m\"lat\"\u001b[39;49;00m:\u001b[37m \u001b[39;49;00m\u001b[34m37.775\u001b[39;49;00m,\u001b[37m\u001b[39;49;00m\n",
      "\u001b[37m        \u001b[39;49;00m\u001b[94m\"lon\"\u001b[39;49;00m:\u001b[37m \u001b[39;49;00m\u001b[34m-122.4183\u001b[39;49;00m,\u001b[37m\u001b[39;49;00m\n",
      "\u001b[37m        \u001b[39;49;00m\u001b[94m\"tz_id\"\u001b[39;49;00m:\u001b[37m \u001b[39;49;00m\u001b[33m\"America/Los_Angeles\"\u001b[39;49;00m,\u001b[37m\u001b[39;49;00m\n",
      "\u001b[37m        \u001b[39;49;00m\u001b[94m\"localtime_epoch\"\u001b[39;49;00m:\u001b[37m \u001b[39;49;00m\u001b[34m1759342034\u001b[39;49;00m,\u001b[37m\u001b[39;49;00m\n",
      "\u001b[37m        \u001b[39;49;00m\u001b[94m\"localtime\"\u001b[39;49;00m:\u001b[37m \u001b[39;49;00m\u001b[33m\"2025-10-01 11:07\"\u001b[39;49;00m\u001b[37m\u001b[39;49;00m\n",
      "\u001b[37m    \u001b[39;49;00m},\u001b[37m\u001b[39;49;00m\n",
      "\u001b[37m    \u001b[39;49;00m\u001b[94m\"current\"\u001b[39;49;00m:\u001b[37m \u001b[39;49;00m{\u001b[37m\u001b[39;49;00m\n",
      "\u001b[37m        \u001b[39;49;00m\u001b[94m\"last_updated_epoch\"\u001b[39;49;00m:\u001b[37m \u001b[39;49;00m\u001b[34m1759341600\u001b[39;49;00m,\u001b[37m\u001b[39;49;00m\n",
      "\u001b[37m        \u001b[39;49;00m\u001b[94m\"last_updated\"\u001b[39;49;00m:\u001b[37m \u001b[39;49;00m\u001b[33m\"2025-10-01 11:00\"\u001b[39;49;00m,\u001b[37m\u001b[39;49;00m\n",
      "\u001b[37m        \u001b[39;49;00m\u001b[94m\"temp_c\"\u001b[39;49;00m:\u001b[37m \u001b[39;49;00m\u001b[34m20.1\u001b[39;49;00m,\u001b[37m\u001b[39;49;00m\n",
      "\u001b[37m        \u001b[39;49;00m\u001b[94m\"temp_f\"\u001b[39;49;00m:\u001b[37m \u001b[39;49;00m\u001b[34m68.2\u001b[39;49;00m,\u001b[37m\u001b[39;49;00m\n",
      "\u001b[37m        \u001b[39;49;00m\u001b[94m\"is_day\"\u001b[39;49;00m:\u001b[37m \u001b[39;49;00m\u001b[34m1\u001b[39;49;00m,\u001b[37m\u001b[39;49;00m\n",
      "\u001b[37m        \u001b[39;49;00m\u001b[94m\"condition\"\u001b[39;49;00m:\u001b[37m \u001b[39;49;00m{\u001b[37m\u001b[39;49;00m\n",
      "\u001b[37m            \u001b[39;49;00m\u001b[94m\"text\"\u001b[39;49;00m:\u001b[37m \u001b[39;49;00m\u001b[33m\"Partly cloudy\"\u001b[39;49;00m,\u001b[37m\u001b[39;49;00m\n",
      "\u001b[37m            \u001b[39;49;00m\u001b[94m\"icon\"\u001b[39;49;00m:\u001b[37m \u001b[39;49;00m\u001b[33m\"//cdn.weatherapi.com/weather/64x64/day/116.png\"\u001b[39;49;00m,\u001b[37m\u001b[39;49;00m\n",
      "\u001b[37m            \u001b[39;49;00m\u001b[94m\"code\"\u001b[39;49;00m:\u001b[37m \u001b[39;49;00m\u001b[34m1003\u001b[39;49;00m\u001b[37m\u001b[39;49;00m\n",
      "\u001b[37m        \u001b[39;49;00m},\u001b[37m\u001b[39;49;00m\n",
      "\u001b[37m        \u001b[39;49;00m\u001b[94m\"wind_mph\"\u001b[39;49;00m:\u001b[37m \u001b[39;49;00m\u001b[34m5.4\u001b[39;49;00m,\u001b[37m\u001b[39;49;00m\n",
      "\u001b[37m        \u001b[39;49;00m\u001b[94m\"wind_kph\"\u001b[39;49;00m:\u001b[37m \u001b[39;49;00m\u001b[34m8.6\u001b[39;49;00m,\u001b[37m\u001b[39;49;00m\n",
      "\u001b[37m        \u001b[39;49;00m\u001b[94m\"wind_degree\"\u001b[39;49;00m:\u001b[37m \u001b[39;49;00m\u001b[34m152\u001b[39;49;00m,\u001b[37m\u001b[39;49;00m\n",
      "\u001b[37m        \u001b[39;49;00m\u001b[94m\"wind_dir\"\u001b[39;49;00m:\u001b[37m \u001b[39;49;00m\u001b[33m\"SSE\"\u001b[39;49;00m,\u001b[37m\u001b[39;49;00m\n",
      "\u001b[37m        \u001b[39;49;00m\u001b[94m\"pressure_mb\"\u001b[39;49;00m:\u001b[37m \u001b[39;49;00m\u001b[34m1017.0\u001b[39;49;00m,\u001b[37m\u001b[39;49;00m\n",
      "\u001b[37m        \u001b[39;49;00m\u001b[94m\"pressure_in\"\u001b[39;49;00m:\u001b[37m \u001b[39;49;00m\u001b[34m30.03\u001b[39;49;00m,\u001b[37m\u001b[39;49;00m\n",
      "\u001b[37m        \u001b[39;49;00m\u001b[94m\"precip_mm\"\u001b[39;49;00m:\u001b[37m \u001b[39;49;00m\u001b[34m0.0\u001b[39;49;00m,\u001b[37m\u001b[39;49;00m\n",
      "\u001b[37m        \u001b[39;49;00m\u001b[94m\"precip_in\"\u001b[39;49;00m:\u001b[37m \u001b[39;49;00m\u001b[34m0.0\u001b[39;49;00m,\u001b[37m\u001b[39;49;00m\n",
      "\u001b[37m        \u001b[39;49;00m\u001b[94m\"humidity\"\u001b[39;49;00m:\u001b[37m \u001b[39;49;00m\u001b[34m65\u001b[39;49;00m,\u001b[37m\u001b[39;49;00m\n",
      "\u001b[37m        \u001b[39;49;00m\u001b[94m\"cloud\"\u001b[39;49;00m:\u001b[37m \u001b[39;49;00m\u001b[34m75\u001b[39;49;00m,\u001b[37m\u001b[39;49;00m\n",
      "\u001b[37m        \u001b[39;49;00m\u001b[94m\"feelslike_c\"\u001b[39;49;00m:\u001b[37m \u001b[39;49;00m\u001b[34m20.1\u001b[39;49;00m,\u001b[37m\u001b[39;49;00m\n",
      "\u001b[37m        \u001b[39;49;00m\u001b[94m\"feelslike_f\"\u001b[39;49;00m:\u001b[37m \u001b[39;49;00m\u001b[34m68.2\u001b[39;49;00m,\u001b[37m\u001b[39;49;00m\n",
      "\u001b[37m        \u001b[39;49;00m\u001b[94m\"windchill_c\"\u001b[39;49;00m:\u001b[37m \u001b[39;49;00m\u001b[34m19.9\u001b[39;49;00m,\u001b[37m\u001b[39;49;00m\n",
      "\u001b[37m        \u001b[39;49;00m\u001b[94m\"windchill_f\"\u001b[39;49;00m:\u001b[37m \u001b[39;49;00m\u001b[34m67.8\u001b[39;49;00m,\u001b[37m\u001b[39;49;00m\n",
      "\u001b[37m        \u001b[39;49;00m\u001b[94m\"heatindex_c\"\u001b[39;49;00m:\u001b[37m \u001b[39;49;00m\u001b[34m19.9\u001b[39;49;00m,\u001b[37m\u001b[39;49;00m\n",
      "\u001b[37m        \u001b[39;49;00m\u001b[94m\"heatindex_f\"\u001b[39;49;00m:\u001b[37m \u001b[39;49;00m\u001b[34m67.8\u001b[39;49;00m,\u001b[37m\u001b[39;49;00m\n",
      "\u001b[37m        \u001b[39;49;00m\u001b[94m\"dewpoint_c\"\u001b[39;49;00m:\u001b[37m \u001b[39;49;00m\u001b[34m13.9\u001b[39;49;00m,\u001b[37m\u001b[39;49;00m\n",
      "\u001b[37m        \u001b[39;49;00m\u001b[94m\"dewpoint_f\"\u001b[39;49;00m:\u001b[37m \u001b[39;49;00m\u001b[34m57.0\u001b[39;49;00m,\u001b[37m\u001b[39;49;00m\n",
      "\u001b[37m        \u001b[39;49;00m\u001b[94m\"vis_km\"\u001b[39;49;00m:\u001b[37m \u001b[39;49;00m\u001b[34m16.0\u001b[39;49;00m,\u001b[37m\u001b[39;49;00m\n",
      "\u001b[37m        \u001b[39;49;00m\u001b[94m\"vis_miles\"\u001b[39;49;00m:\u001b[37m \u001b[39;49;00m\u001b[34m9.0\u001b[39;49;00m,\u001b[37m\u001b[39;49;00m\n",
      "\u001b[37m        \u001b[39;49;00m\u001b[94m\"uv\"\u001b[39;49;00m:\u001b[37m \u001b[39;49;00m\u001b[34m1.4\u001b[39;49;00m,\u001b[37m\u001b[39;49;00m\n",
      "\u001b[37m        \u001b[39;49;00m\u001b[94m\"gust_mph\"\u001b[39;49;00m:\u001b[37m \u001b[39;49;00m\u001b[34m7.7\u001b[39;49;00m,\u001b[37m\u001b[39;49;00m\n",
      "\u001b[37m        \u001b[39;49;00m\u001b[94m\"gust_kph\"\u001b[39;49;00m:\u001b[37m \u001b[39;49;00m\u001b[34m12.4\u001b[39;49;00m\u001b[37m\u001b[39;49;00m\n",
      "\u001b[37m    \u001b[39;49;00m}\u001b[37m\u001b[39;49;00m\n",
      "}\u001b[37m\u001b[39;49;00m\n",
      "\n"
     ]
    }
   ],
   "source": [
    "import json\n",
    "from pygments import highlight, lexers, formatters\n",
    "\n",
    "# parse JSON\n",
    "parsed_json = json.loads(data.replace(\"'\", '\"'))\n",
    "\n",
    "# pretty print JSON with syntax highlighting\n",
    "formatted_json = json.dumps(parsed_json, indent=4)\n",
    "colorful_json = highlight(\n",
    "    formatted_json, lexers.JsonLexer(), formatters.TerminalFormatter()\n",
    ")\n",
    "\n",
    "print(colorful_json)"
   ]
  },
  {
   "cell_type": "code",
   "execution_count": null,
   "id": "dd691468",
   "metadata": {},
   "outputs": [],
   "source": []
  }
 ],
 "metadata": {
  "kernelspec": {
   "display_name": ".venv",
   "language": "python",
   "name": "python3"
  },
  "language_info": {
   "codemirror_mode": {
    "name": "ipython",
    "version": 3
   },
   "file_extension": ".py",
   "mimetype": "text/x-python",
   "name": "python",
   "nbconvert_exporter": "python",
   "pygments_lexer": "ipython3",
   "version": "3.12.3"
  }
 },
 "nbformat": 4,
 "nbformat_minor": 5
}
