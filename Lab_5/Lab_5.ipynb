{
 "cells": [
  {
   "cell_type": "markdown",
   "id": "8ad976db-fb87-4a92-b0d2-06defc098339",
   "metadata": {},
   "source": [
    "# Lab 5: Human in the Loop\n"
   ]
  },
  {
   "cell_type": "markdown",
   "id": "9644a30b",
   "metadata": {},
   "source": [
    "## Setup and Initialization\n",
    "\n",
    "We start by setting up our environment and importing necessary modules. A crucial component is the checkpointer:\n",
    "\n",
    "```python\n",
    "from langgraph.checkpoint.memory import MemorySaver\n",
    "memory = MemorySaver()\n",
    "```\n",
    "\n",
    "The checkpointer functions similarly to a distributed version control system like Git, but for AI states. It allows us to create \"commits\" of our AI's state at different points in its decision-making process, and \"branch\" or \"revert\" as needed.\n",
    "\n",
    "Be aware that excessive use of check-pointing can lead to significant memory usage, especially with large state objects. Implement a strategy to manage or expire old checkpoints in long-running applications. Think of usage of Time-To-Live for those checkpoints to be implemented in your database, if you no longer have a need for those checkpoints.\n",
    "We will be using SQLite as our database of choice for our checkpoints, but you might want to switch to either Redis or Postgres for your production applications.\n"
   ]
  },
  {
   "cell_type": "code",
   "execution_count": 1,
   "id": "f5762271-8736-4e94-9444-8c92bd0e8074",
   "metadata": {
    "height": 64
   },
   "outputs": [
    {
     "name": "stderr",
     "output_type": "stream",
     "text": [
      "[2025-10-07 00:59:01,548] p7714 {utils.py:46} INFO - TAVILY_API_KEY variable correctly retrieved from the .env file.\n"
     ]
    }
   ],
   "source": [
    "from dotenv import load_dotenv\n",
    "import os\n",
    "from pprint import pprint\n",
    "\n",
    "import sys\n",
    "import json, re\n",
    "import pprint\n",
    "import boto3\n",
    "from botocore.client import Config\n",
    "import warnings\n",
    "\n",
    "warnings.filterwarnings(\"ignore\")\n",
    "import logging\n",
    "\n",
    "# import local modules\n",
    "dir_current = os.path.abspath(\"\")\n",
    "dir_parent = os.path.dirname(dir_current)\n",
    "if dir_parent not in sys.path:\n",
    "    sys.path.append(dir_parent)\n",
    "from utils import utils\n",
    "\n",
    "bedrock_config = Config(\n",
    "    connect_timeout=120, read_timeout=120, retries={\"max_attempts\": 0}\n",
    ")\n",
    "\n",
    "# Set basic configs\n",
    "logger = utils.set_logger()\n",
    "pp = utils.set_pretty_printer()\n",
    "\n",
    "# Load environment variables from .env file or Secret Manager\n",
    "_ = load_dotenv(\"../.env\")\n",
    "aws_region = os.getenv(\"AWS_REGION\")\n",
    "tavily_ai_api_key = utils.get_tavily_api(\"TAVILY_API_KEY\", aws_region)\n",
    "\n",
    "\n",
    "# Create a bedrock runtime client\n",
    "bedrock_rt = boto3.client(\n",
    "    \"bedrock-runtime\", region_name=aws_region, config=bedrock_config\n",
    ")\n",
    "\n",
    "# Create a bedrock client to check available models\n",
    "bedrock = boto3.client(\"bedrock\", region_name=aws_region, config=bedrock_config)\n"
   ]
  },
  {
   "cell_type": "code",
   "execution_count": 2,
   "id": "d0168aee-bce9-4d60-b827-f86a88187e31",
   "metadata": {
    "height": 166
   },
   "outputs": [],
   "source": [
    "from langgraph.graph import StateGraph, END\n",
    "from typing import TypedDict, Annotated\n",
    "import operator\n",
    "from langchain_core.messages import AnyMessage, SystemMessage, HumanMessage, ToolMessage\n",
    "from langchain_aws import ChatBedrockConverse\n",
    "from langchain_community.tools.tavily_search import TavilySearchResults\n",
    "from langgraph.checkpoint.memory import MemorySaver\n",
    "\n",
    "memory = MemorySaver()"
   ]
  },
  {
   "cell_type": "markdown",
   "id": "8d4c04fb",
   "metadata": {},
   "source": [
    "Next, we set up our agent state with a custom message handling function:\n"
   ]
  },
  {
   "cell_type": "code",
   "execution_count": 3,
   "id": "2589c5b6-6cc2-4594-9a17-dccdcf676054",
   "metadata": {
    "height": 557
   },
   "outputs": [],
   "source": [
    "from uuid import uuid4\n",
    "from langchain_core.messages import AnyMessage, SystemMessage, HumanMessage, AIMessage\n",
    "\n",
    "\"\"\"\n",
    "In previous examples we've annotated the `messages` state key\n",
    "with the default `operator.add` or `+` reducer, which always\n",
    "appends new messages to the end of the existing messages array.\n",
    "\n",
    "Now, to support replacing existing messages, we annotate the\n",
    "`messages` key with a customer reducer function, which replaces\n",
    "messages with the same `id`, and appends them otherwise.\n",
    "\"\"\"\n",
    "\n",
    "\n",
    "def reduce_messages(\n",
    "    left: list[AnyMessage], right: list[AnyMessage]\n",
    ") -> list[AnyMessage]:\n",
    "    # assign ids to messages that don't have th\n",
    "    for message in right:\n",
    "        if not message.id:\n",
    "            message.id = str(uuid4())\n",
    "    # merge the new messages with the existing messages\n",
    "    merged = left.copy()\n",
    "    for message in right:\n",
    "        for i, existing in enumerate(merged):\n",
    "            # replace any existing messages with the same id\n",
    "            if existing.id == message.id:\n",
    "                merged[i] = message\n",
    "                break\n",
    "        else:\n",
    "            # append any new messages to the end\n",
    "            merged.append(message)\n",
    "    return merged\n",
    "\n",
    "\n",
    "class AgentState(TypedDict):\n",
    "    messages: Annotated[list[AnyMessage], reduce_messages]"
   ]
  },
  {
   "cell_type": "markdown",
   "id": "f864ced5",
   "metadata": {},
   "source": [
    "This function acts like a smart message broker in a microservices architecture. It ensures that our conversation history remains consistent and up-to-date, crucial for maintaining context in long-running AI interactions.\n",
    "\n",
    "## Tool and Agent Setup\n",
    "\n",
    "We integrate the Tavily search tool:\n"
   ]
  },
  {
   "cell_type": "code",
   "execution_count": 4,
   "id": "a2ba84ec-c172-4de7-ac55-e3158a531b23",
   "metadata": {
    "height": 30
   },
   "outputs": [],
   "source": [
    "tool = TavilySearchResults(max_results=2)"
   ]
  },
  {
   "cell_type": "markdown",
   "id": "d58320dc-c542-4a3c-bcf1-088909f9b075",
   "metadata": {},
   "source": [
    "## Human Intervention in the Agent Class\n",
    "\n",
    "The `Agent` class implements several key features that enable human intervention in the AI's decision-making process:\n",
    "\n",
    "1. **Interrupt Before Action**:\n",
    "\n",
    "   ```python\n",
    "   self.graph = graph.compile(\n",
    "       checkpointer=checkpointer, interrupt_before=[\"action\"]\n",
    "   )\n",
    "   ```\n",
    "\n",
    "   This line sets up an interrupt before the \"action\" node. It allows human oversight before any action is taken, providing an opportunity for review or modification.\n",
    "   You can add interrupts before any node you wish for as we will see in the next lab.\n",
    "\n",
    "2. **State Examination**:\n",
    "   The `exists_action` method prints the current state:\n",
    "\n",
    "   ```python\n",
    "   def exists_action(self, state: AgentState):\n",
    "       print(state)\n",
    "       # ...\n",
    "   ```\n",
    "\n",
    "   This allows humans to inspect the AI's current state, including its reasoning and intended actions.\n",
    "\n",
    "3. **Action Visibility**:\n",
    "   In the `take_action` method, each tool call is printed:\n",
    "\n",
    "   ```python\n",
    "   print(f\"Calling: {t}\")\n",
    "   ```\n",
    "\n",
    "   This provides visibility into what actions the AI is about to take, allowing for potential human intervention.\n",
    "\n",
    "4. **Checkpointing**:\n",
    "   The `checkpointer` parameter in the constructor allows for saving and loading states. This enables \"time travel\" functionality, where humans can revisit and potentially modify previous decision points.\n",
    "\n",
    "5. **Modifiable State**:\n",
    "   The `AgentState` is a mutable structure. While not shown in this class directly, it allows for state modification, enabling humans to alter the AI's context or decisions.\n",
    "\n",
    "These features collectively create a framework for human-in-the-loop AI, where human operators can monitor, intervene, and guide the AI's decision-making process at critical junctures.\n"
   ]
  },
  {
   "cell_type": "code",
   "execution_count": 5,
   "id": "46a0e94e-d015-4106-b439-dbcd2fcb8bb0",
   "metadata": {
    "height": 642
   },
   "outputs": [],
   "source": [
    "class Agent:\n",
    "    def __init__(self, model, tools, system=\"\", checkpointer=None):\n",
    "        self.system = system\n",
    "        graph = StateGraph(AgentState)\n",
    "        graph.add_node(\"llm\", self.call_bedrock)\n",
    "        graph.add_node(\"action\", self.take_action)\n",
    "        graph.add_conditional_edges(\n",
    "            \"llm\", self.exists_action, {True: \"action\", False: END}\n",
    "        )\n",
    "        graph.add_edge(\"action\", \"llm\")\n",
    "        graph.set_entry_point(\"llm\")\n",
    "        self.graph = graph.compile(\n",
    "            checkpointer=checkpointer, interrupt_before=[\"action\"]\n",
    "        )\n",
    "        self.tools = {t.name: t for t in tools}\n",
    "        self.model = model.bind_tools(tools)\n",
    "\n",
    "    def call_bedrock(self, state: AgentState):\n",
    "        messages = state[\"messages\"]\n",
    "        if self.system:\n",
    "            messages = [SystemMessage(content=self.system)] + messages\n",
    "        message = self.model.invoke(messages)\n",
    "        return {\"messages\": [message]}\n",
    "\n",
    "    def exists_action(self, state: AgentState):\n",
    "        print(state)\n",
    "        result = state[\"messages\"][-1]\n",
    "        return len(result.tool_calls) > 0\n",
    "\n",
    "    def take_action(self, state: AgentState):\n",
    "        tool_calls = state[\"messages\"][-1].tool_calls\n",
    "        results = []\n",
    "        for t in tool_calls:\n",
    "            print(f\"Calling: {t}\")\n",
    "            result = self.tools[t[\"name\"]].invoke(t[\"args\"])\n",
    "            results.append(\n",
    "                ToolMessage(tool_call_id=t[\"id\"], name=t[\"name\"], content=str(result))\n",
    "            )\n",
    "        print(\"Back to the model!\")\n",
    "        return {\"messages\": results}"
   ]
  },
  {
   "cell_type": "markdown",
   "id": "8320d5d6",
   "metadata": {},
   "source": [
    "The `interrupt_before=[\"action\"]` parameter implements a critical control point in our AI pipeline.\n",
    "\n",
    "It's analogous to implementing approval gates in a CI/CD pipeline, ensuring that no critical action is taken without necessary checks.\n",
    "\n",
    "To deepen your understanding of AI safety and control mechanisms, explore the paper [\"Concrete Problems in AI Safety\"](https://arxiv.org/abs/1606.06565) from researchers at Google, Stanford, and Berkeley from 2016.\n",
    "\n",
    "## Initializing and Running the Agent\n",
    "\n",
    "We initialize our agent with Claude on Amazon Bedrock:\n"
   ]
  },
  {
   "cell_type": "code",
   "execution_count": 6,
   "id": "10084a02-2928-4945-9f7c-ad3f5b33caf7",
   "metadata": {
    "height": 132
   },
   "outputs": [
    {
     "name": "stderr",
     "output_type": "stream",
     "text": [
      "/home/workshop/langgraph-agents-with-amazon-bedrock/.venv/lib/python3.12/site-packages/langchain_core/_api/beta_decorator.py:87: LangChainBetaWarning: The class `ChatBedrockConverse` is in beta. It is actively being worked on, so the API may change.\n",
      "  warn_beta(\n"
     ]
    }
   ],
   "source": [
    "prompt = \"\"\"You are a smart research assistant. Use the search engine to look up information. \\\n",
    "You are allowed to make multiple calls (either together or in sequence). \\\n",
    "Only look up information when you are sure of what you want. \\\n",
    "If you need to look up some information before asking a follow up question, you are allowed to do that!\n",
    "\"\"\"\n",
    "model = ChatBedrockConverse(\n",
    "    client=bedrock_rt,\n",
    "    model=\"anthropic.claude-3-haiku-20240307-v1:0\",\n",
    "    temperature=0,\n",
    "    max_tokens=None,\n",
    ")\n",
    "abot = Agent(model, [tool], system=prompt, checkpointer=memory)"
   ]
  },
  {
   "cell_type": "code",
   "execution_count": 7,
   "id": "714d1205-f8fc-4912-b148-2a45da99219c",
   "metadata": {
    "height": 98
   },
   "outputs": [
    {
     "name": "stdout",
     "output_type": "stream",
     "text": [
      "{'messages': [HumanMessage(content='Whats the weather in Berlin?', id='03c7feb7-440a-429d-ad8b-635a9a512275'), AIMessage(content=[{'type': 'tool_use', 'name': 'tavily_search_results_json', 'input': {'query': 'weather in berlin'}, 'id': 'tooluse_qUoGUCZ5SLO-CWexxCi0NQ'}], response_metadata={'ResponseMetadata': {'RequestId': 'e436b175-db70-4641-b600-d099a86865bd', 'HTTPStatusCode': 200, 'HTTPHeaders': {'date': 'Mon, 06 Oct 2025 17:59:05 GMT', 'content-type': 'application/json', 'content-length': '325', 'connection': 'keep-alive', 'x-amzn-requestid': 'e436b175-db70-4641-b600-d099a86865bd'}, 'RetryAttempts': 0}, 'stopReason': 'tool_use', 'metrics': {'latencyMs': 609}}, id='run-62577dd0-7dce-4246-8068-6762004e07c8-0', tool_calls=[{'name': 'tavily_search_results_json', 'args': {'query': 'weather in berlin'}, 'id': 'tooluse_qUoGUCZ5SLO-CWexxCi0NQ', 'type': 'tool_call'}], usage_metadata={'input_tokens': 441, 'output_tokens': 60, 'total_tokens': 501})]}\n",
      "{'messages': [AIMessage(content=[{'type': 'tool_use', 'name': 'tavily_search_results_json', 'input': {'query': 'weather in berlin'}, 'id': 'tooluse_qUoGUCZ5SLO-CWexxCi0NQ'}], response_metadata={'ResponseMetadata': {'RequestId': 'e436b175-db70-4641-b600-d099a86865bd', 'HTTPStatusCode': 200, 'HTTPHeaders': {'date': 'Mon, 06 Oct 2025 17:59:05 GMT', 'content-type': 'application/json', 'content-length': '325', 'connection': 'keep-alive', 'x-amzn-requestid': 'e436b175-db70-4641-b600-d099a86865bd'}, 'RetryAttempts': 0}, 'stopReason': 'tool_use', 'metrics': {'latencyMs': 609}}, id='run-62577dd0-7dce-4246-8068-6762004e07c8-0', tool_calls=[{'name': 'tavily_search_results_json', 'args': {'query': 'weather in berlin'}, 'id': 'tooluse_qUoGUCZ5SLO-CWexxCi0NQ', 'type': 'tool_call'}], usage_metadata={'input_tokens': 441, 'output_tokens': 60, 'total_tokens': 501})]}\n"
     ]
    }
   ],
   "source": [
    "messages = [HumanMessage(content=\"Whats the weather in Berlin?\")]\n",
    "thread = {\"configurable\": {\"thread_id\": \"1\"}}\n",
    "for event in abot.graph.stream({\"messages\": messages}, thread):\n",
    "    for v in event.values():\n",
    "        print(v)"
   ]
  },
  {
   "cell_type": "code",
   "execution_count": 8,
   "id": "4873049c",
   "metadata": {},
   "outputs": [
    {
     "data": {
      "text/plain": [
       "{'configurable': {'thread_id': '1'}}"
      ]
     },
     "execution_count": 8,
     "metadata": {},
     "output_type": "execute_result"
    }
   ],
   "source": [
    "thread"
   ]
  },
  {
   "cell_type": "markdown",
   "id": "7c64a9cf",
   "metadata": {},
   "source": [
    "## Examining and Modifying State\n",
    "\n",
    "The ability to examine and modify the agent's state is a powerful feature:\n"
   ]
  },
  {
   "cell_type": "code",
   "execution_count": 9,
   "id": "83588e70-254f-4f83-a510-c8ae81e729b0",
   "metadata": {
    "height": 30
   },
   "outputs": [
    {
     "data": {
      "text/plain": [
       "StateSnapshot(values={'messages': [HumanMessage(content='Whats the weather in Berlin?', id='03c7feb7-440a-429d-ad8b-635a9a512275'), AIMessage(content=[{'id': 'tooluse_qUoGUCZ5SLO-CWexxCi0NQ', 'input': {'query': 'weather in berlin'}, 'name': 'tavily_search_results_json', 'type': 'tool_use'}], response_metadata={'ResponseMetadata': {'HTTPHeaders': {'connection': 'keep-alive', 'content-length': '325', 'content-type': 'application/json', 'date': 'Mon, 06 Oct 2025 17:59:05 GMT', 'x-amzn-requestid': 'e436b175-db70-4641-b600-d099a86865bd'}, 'HTTPStatusCode': 200, 'RequestId': 'e436b175-db70-4641-b600-d099a86865bd', 'RetryAttempts': 0}, 'metrics': {'latencyMs': 609}, 'stopReason': 'tool_use'}, id='run-62577dd0-7dce-4246-8068-6762004e07c8-0', tool_calls=[{'name': 'tavily_search_results_json', 'args': {'query': 'weather in berlin'}, 'id': 'tooluse_qUoGUCZ5SLO-CWexxCi0NQ', 'type': 'tool_call'}], usage_metadata={'input_tokens': 441, 'output_tokens': 60, 'total_tokens': 501})]}, next=('action',), config={'configurable': {'thread_id': '1', 'thread_ts': '1f0a2de2-5beb-6291-8001-0b8714be86b0'}}, metadata={'source': 'loop', 'step': 1, 'writes': {'llm': {'messages': [AIMessage(content=[{'id': 'tooluse_qUoGUCZ5SLO-CWexxCi0NQ', 'input': {'query': 'weather in berlin'}, 'name': 'tavily_search_results_json', 'type': 'tool_use'}], response_metadata={'ResponseMetadata': {'HTTPHeaders': {'connection': 'keep-alive', 'content-length': '325', 'content-type': 'application/json', 'date': 'Mon, 06 Oct 2025 17:59:05 GMT', 'x-amzn-requestid': 'e436b175-db70-4641-b600-d099a86865bd'}, 'HTTPStatusCode': 200, 'RequestId': 'e436b175-db70-4641-b600-d099a86865bd', 'RetryAttempts': 0}, 'metrics': {'latencyMs': 609}, 'stopReason': 'tool_use'}, id='run-62577dd0-7dce-4246-8068-6762004e07c8-0', tool_calls=[{'name': 'tavily_search_results_json', 'args': {'query': 'weather in berlin'}, 'id': 'tooluse_qUoGUCZ5SLO-CWexxCi0NQ', 'type': 'tool_call'}], usage_metadata={'input_tokens': 441, 'output_tokens': 60, 'total_tokens': 501})]}}}, created_at='2025-10-06T17:59:04.817885+00:00', parent_config=None)"
      ]
     },
     "execution_count": 9,
     "metadata": {},
     "output_type": "execute_result"
    }
   ],
   "source": [
    "abot.graph.get_state(thread)"
   ]
  },
  {
   "cell_type": "markdown",
   "id": "a45e23bc",
   "metadata": {},
   "source": [
    "This capability is similar to having a live debugger in a production environment, allowing you to inspect and modify the state of a running process.\n"
   ]
  },
  {
   "cell_type": "code",
   "execution_count": 10,
   "id": "6cb3ef4c-58b3-401b-b104-0d51e553d982",
   "metadata": {
    "height": 30
   },
   "outputs": [
    {
     "data": {
      "text/plain": [
       "('action',)"
      ]
     },
     "execution_count": 10,
     "metadata": {},
     "output_type": "execute_result"
    }
   ],
   "source": [
    "abot.graph.get_state(thread).next"
   ]
  },
  {
   "cell_type": "markdown",
   "id": "58f2735f",
   "metadata": {},
   "source": [
    "As you can see, the next node to be executed is the `('action',)` node.\n",
    "\n",
    "Remember, we compiled our graph with the interrupt set before the `action` node.\n",
    "\n",
    "```python\n",
    "        self.graph = graph.compile(\n",
    "            checkpointer=checkpointer, interrupt_before=[\"action\"]\n",
    "        )\n",
    "```\n"
   ]
  },
  {
   "cell_type": "markdown",
   "id": "f1f404d5-a3be-42c1-9990-b1e1ee011163",
   "metadata": {},
   "source": [
    "### ...continue after interrupt\n",
    "\n",
    "Now that stopped before the action (calling tavily-ai), we can continue. Lets see how that works.\n"
   ]
  },
  {
   "cell_type": "code",
   "execution_count": 11,
   "id": "dc3293b7-a50c-43c8-a022-8975e1e444b8",
   "metadata": {
    "height": 64
   },
   "outputs": [
    {
     "name": "stdout",
     "output_type": "stream",
     "text": [
      "Calling: {'name': 'tavily_search_results_json', 'args': {'query': 'weather in berlin'}, 'id': 'tooluse_qUoGUCZ5SLO-CWexxCi0NQ', 'type': 'tool_call'}\n"
     ]
    },
    {
     "name": "stdout",
     "output_type": "stream",
     "text": [
      "Back to the model!\n",
      "{'messages': [ToolMessage(content=\"[{'url': 'https://en.climate-data.org/europe/germany/berlin/berlin-2138/t/october-10/', 'content': '| Max. Temperature °C (°F) | 2.8 °C (37) °F | 4.4 °C (40) °F | 8.4 °C (47.1) °F | 14.4 °C (57.9) °F | 18.9 °C (66.1) °F | 22.1 °C (71.8) °F | 24 °C (75.3) °F | 23.9 °C (75) °F | 19.6 °C (67.2) °F | 13.8 °C (56.8) °F | 8 °C (46.4) °F | 4.2 °C (39.6) °F |\\\\n| Precipitation / Rainfall mm (in) | 56 (2) | 41 (1) | 53 (2) | 42 (1) | 60 (2) | 67 (2) | 81 (3) | 62 (2) | 56 (2) | 49 (1) | 48 (1) | 54 (2) |\\\\n| Humidity(%) | 84% | 81% | 77% | 68% | 66% | 64% | 65% | 65% | 71% | 80% | 86% | 84% | [...] | Rainy days (d) | 9 | 7 | 9 | 8 | 8 | 8 | 9 | 8 | 7 | 7 | 8 | 9 |\\\\n| avg. Sun hours (hours) | 2.7 | 3.9 | 5.4 | 8.7 | 10.2 | 11.0 | 10.9 | 10.2 | 7.4 | 5.0 | 3.5 | 2.6 | [...] | Min. Temperature °C (°F) | -1.9 °C (28.6) °F | -1.4 °C (29.5) °F | 0.6 °C (33.2) °F | 4.6 °C (40.3) °F | 9.4 °C (48.9) °F | 12.9 °C (55.2) °F | 15.2 °C (59.4) °F | 14.9 °C (58.9) °F | 11.4 °C (52.6) °F | 7.3 °C (45.1) °F | 3.2 °C (37.7) °F | 0.1 °C (32.2) °F |'}, {'url': 'https://tripvenue.com/weather/germany/l2950159/berlin/october', 'content': '| Sunshine duration (h) | 5.5 | 10.1 | 4.8 | 9.3 | 3.5 | 2.4 | 0 | 9 | 1.4 | 3.6 | 9.4 | 2.8 | 3.4 | 8.7 | 9.5 | 9.4 | 3.7 | 9.1 | 0 | 0 | 8.6 | 8.2 | 8 | 0 | 6.5 | 0 | 0 | 1.2 | 1.2 | 3.5 | 3.8 |\\\\n| Precipitation (mm) | 0.3 | 0 | 8.2 | 0.3 | 1 | 1.7 | 11.9 | 1.2 | 4.1 | 2 | 0 | 5.4 | 0.5 | 4.7 | 0.4 | 0.4 | 0 | 0 | 4.9 | 7.1 | 0 | 1.4 | 0.3 | 9 | 0.1 | 6.5 | 7.4 | 4.8 | 5.1 | 0 | 3.7 | [...] | Apparent max temperature | 17.7 | 24.4 | 21.4 | 13.4 | 13.5 | 15.1 | 15.2 | 11.8 | 10.3 | 15.7 | 20.2 | 15.7 | 19 | 16.7 | 5.6 | 6.7 | 8.5 | 8.5 | 4.7 | 4.2 | 16.1 | 13.7 | 14 | 12.9 | 12.6 | 9.6 | 8.7 | 10.8 | 12.7 | 13.8 | 10.5 |\\\\n| Mean temperature | 16.2 | 18.5 | 17.6 | 14.4 | 13.7 | 14.7 | 15.6 | 11.9 | 10.6 | 14.2 | 18.5 | 14.8 | 17.2 | 14.2 | 8.4 | 6.8 | 6.2 | 6 | 7.1 | 6.1 | 10.6 | 12.6 | 11.2 | 11.6 | 10.6 | 9.8 | 9.4 | 9.7 | 12.2 | 12.8 | 11 | [...] | Precipitation hours | 2 | 0 | 7 | 3 | 6 | 2 | 15 | 3 | 5 | 9 | 0 | 8 | 3 | 7 | 4 | 4 | 0 | 0 | 15 | 18 | 0 | 2 | 2 | 10 | 1 | 10 | 13 | 13 | 11 | 0 | 12 |\\\\n| Wind speed (m/s) | 16.5 | 12 | 27.5 | 31 | 32.2 | 27.6 | 30.9 | 14.5 | 11.9 | 17.1 | 23.9 | 22.6 | 30.2 | 35.8 | 28.7 | 20.6 | 7.9 | 21 | 21.9 | 30.6 | 22.9 | 16.5 | 12.9 | 17.8 | 16.8 | 16.9 | 12.7 | 11.4 | 27.2 | 23.3 | 34.4 |'}]\", name='tavily_search_results_json', id='fbf93b73-a62a-406a-800a-b4d9c0ac0d01', tool_call_id='tooluse_qUoGUCZ5SLO-CWexxCi0NQ')]}\n",
      "{'messages': [HumanMessage(content='Whats the weather in Berlin?', id='03c7feb7-440a-429d-ad8b-635a9a512275'), AIMessage(content=[{'id': 'tooluse_qUoGUCZ5SLO-CWexxCi0NQ', 'input': {'query': 'weather in berlin'}, 'name': 'tavily_search_results_json', 'type': 'tool_use'}], response_metadata={'ResponseMetadata': {'HTTPHeaders': {'connection': 'keep-alive', 'content-length': '325', 'content-type': 'application/json', 'date': 'Mon, 06 Oct 2025 17:59:05 GMT', 'x-amzn-requestid': 'e436b175-db70-4641-b600-d099a86865bd'}, 'HTTPStatusCode': 200, 'RequestId': 'e436b175-db70-4641-b600-d099a86865bd', 'RetryAttempts': 0}, 'metrics': {'latencyMs': 609}, 'stopReason': 'tool_use'}, id='run-62577dd0-7dce-4246-8068-6762004e07c8-0', tool_calls=[{'name': 'tavily_search_results_json', 'args': {'query': 'weather in berlin'}, 'id': 'tooluse_qUoGUCZ5SLO-CWexxCi0NQ', 'type': 'tool_call'}], usage_metadata={'input_tokens': 441, 'output_tokens': 60, 'total_tokens': 501}), ToolMessage(content=\"[{'url': 'https://en.climate-data.org/europe/germany/berlin/berlin-2138/t/october-10/', 'content': '| Max. Temperature °C (°F) | 2.8 °C (37) °F | 4.4 °C (40) °F | 8.4 °C (47.1) °F | 14.4 °C (57.9) °F | 18.9 °C (66.1) °F | 22.1 °C (71.8) °F | 24 °C (75.3) °F | 23.9 °C (75) °F | 19.6 °C (67.2) °F | 13.8 °C (56.8) °F | 8 °C (46.4) °F | 4.2 °C (39.6) °F |\\\\n| Precipitation / Rainfall mm (in) | 56 (2) | 41 (1) | 53 (2) | 42 (1) | 60 (2) | 67 (2) | 81 (3) | 62 (2) | 56 (2) | 49 (1) | 48 (1) | 54 (2) |\\\\n| Humidity(%) | 84% | 81% | 77% | 68% | 66% | 64% | 65% | 65% | 71% | 80% | 86% | 84% | [...] | Rainy days (d) | 9 | 7 | 9 | 8 | 8 | 8 | 9 | 8 | 7 | 7 | 8 | 9 |\\\\n| avg. Sun hours (hours) | 2.7 | 3.9 | 5.4 | 8.7 | 10.2 | 11.0 | 10.9 | 10.2 | 7.4 | 5.0 | 3.5 | 2.6 | [...] | Min. Temperature °C (°F) | -1.9 °C (28.6) °F | -1.4 °C (29.5) °F | 0.6 °C (33.2) °F | 4.6 °C (40.3) °F | 9.4 °C (48.9) °F | 12.9 °C (55.2) °F | 15.2 °C (59.4) °F | 14.9 °C (58.9) °F | 11.4 °C (52.6) °F | 7.3 °C (45.1) °F | 3.2 °C (37.7) °F | 0.1 °C (32.2) °F |'}, {'url': 'https://tripvenue.com/weather/germany/l2950159/berlin/october', 'content': '| Sunshine duration (h) | 5.5 | 10.1 | 4.8 | 9.3 | 3.5 | 2.4 | 0 | 9 | 1.4 | 3.6 | 9.4 | 2.8 | 3.4 | 8.7 | 9.5 | 9.4 | 3.7 | 9.1 | 0 | 0 | 8.6 | 8.2 | 8 | 0 | 6.5 | 0 | 0 | 1.2 | 1.2 | 3.5 | 3.8 |\\\\n| Precipitation (mm) | 0.3 | 0 | 8.2 | 0.3 | 1 | 1.7 | 11.9 | 1.2 | 4.1 | 2 | 0 | 5.4 | 0.5 | 4.7 | 0.4 | 0.4 | 0 | 0 | 4.9 | 7.1 | 0 | 1.4 | 0.3 | 9 | 0.1 | 6.5 | 7.4 | 4.8 | 5.1 | 0 | 3.7 | [...] | Apparent max temperature | 17.7 | 24.4 | 21.4 | 13.4 | 13.5 | 15.1 | 15.2 | 11.8 | 10.3 | 15.7 | 20.2 | 15.7 | 19 | 16.7 | 5.6 | 6.7 | 8.5 | 8.5 | 4.7 | 4.2 | 16.1 | 13.7 | 14 | 12.9 | 12.6 | 9.6 | 8.7 | 10.8 | 12.7 | 13.8 | 10.5 |\\\\n| Mean temperature | 16.2 | 18.5 | 17.6 | 14.4 | 13.7 | 14.7 | 15.6 | 11.9 | 10.6 | 14.2 | 18.5 | 14.8 | 17.2 | 14.2 | 8.4 | 6.8 | 6.2 | 6 | 7.1 | 6.1 | 10.6 | 12.6 | 11.2 | 11.6 | 10.6 | 9.8 | 9.4 | 9.7 | 12.2 | 12.8 | 11 | [...] | Precipitation hours | 2 | 0 | 7 | 3 | 6 | 2 | 15 | 3 | 5 | 9 | 0 | 8 | 3 | 7 | 4 | 4 | 0 | 0 | 15 | 18 | 0 | 2 | 2 | 10 | 1 | 10 | 13 | 13 | 11 | 0 | 12 |\\\\n| Wind speed (m/s) | 16.5 | 12 | 27.5 | 31 | 32.2 | 27.6 | 30.9 | 14.5 | 11.9 | 17.1 | 23.9 | 22.6 | 30.2 | 35.8 | 28.7 | 20.6 | 7.9 | 21 | 21.9 | 30.6 | 22.9 | 16.5 | 12.9 | 17.8 | 16.8 | 16.9 | 12.7 | 11.4 | 27.2 | 23.3 | 34.4 |'}]\", name='tavily_search_results_json', id='fbf93b73-a62a-406a-800a-b4d9c0ac0d01', tool_call_id='tooluse_qUoGUCZ5SLO-CWexxCi0NQ'), AIMessage(content='Based on the search results, the weather in Berlin in October is:\\n\\n- Temperatures range from around 0°C (32°F) to 24°C (75°F), with average highs around 14-18°C (57-64°F) and lows around 7-12°C (45-54°F).\\n- Precipitation is moderate, with around 50-80mm (2-3 inches) of rain per month and 7-9 rainy days on average.\\n- Sunshine duration varies from around 2-11 hours per day, with the most sun in the middle of the month.\\n- Wind speeds are moderate, ranging from around 12-35 km/h (7-22 mph).\\n\\nOverall, the weather in Berlin in October is cool and somewhat rainy, with a mix of sun and clouds. The temperatures are mild and comfortable, making it a pleasant time to visit the city.', response_metadata={'ResponseMetadata': {'RequestId': '74fa8b83-8a8e-41f4-a3d0-980c57585372', 'HTTPStatusCode': 200, 'HTTPHeaders': {'date': 'Mon, 06 Oct 2025 17:59:10 GMT', 'content-type': 'application/json', 'content-length': '903', 'connection': 'keep-alive', 'x-amzn-requestid': '74fa8b83-8a8e-41f4-a3d0-980c57585372'}, 'RetryAttempts': 0}, 'stopReason': 'end_turn', 'metrics': {'latencyMs': 2732}}, id='run-ab049f89-ce2d-48ce-bbf2-b8bf1cea5e00-0', usage_metadata={'input_tokens': 2309, 'output_tokens': 210, 'total_tokens': 2519})]}\n",
      "{'messages': [AIMessage(content='Based on the search results, the weather in Berlin in October is:\\n\\n- Temperatures range from around 0°C (32°F) to 24°C (75°F), with average highs around 14-18°C (57-64°F) and lows around 7-12°C (45-54°F).\\n- Precipitation is moderate, with around 50-80mm (2-3 inches) of rain per month and 7-9 rainy days on average.\\n- Sunshine duration varies from around 2-11 hours per day, with the most sun in the middle of the month.\\n- Wind speeds are moderate, ranging from around 12-35 km/h (7-22 mph).\\n\\nOverall, the weather in Berlin in October is cool and somewhat rainy, with a mix of sun and clouds. The temperatures are mild and comfortable, making it a pleasant time to visit the city.', response_metadata={'ResponseMetadata': {'RequestId': '74fa8b83-8a8e-41f4-a3d0-980c57585372', 'HTTPStatusCode': 200, 'HTTPHeaders': {'date': 'Mon, 06 Oct 2025 17:59:10 GMT', 'content-type': 'application/json', 'content-length': '903', 'connection': 'keep-alive', 'x-amzn-requestid': '74fa8b83-8a8e-41f4-a3d0-980c57585372'}, 'RetryAttempts': 0}, 'stopReason': 'end_turn', 'metrics': {'latencyMs': 2732}}, id='run-ab049f89-ce2d-48ce-bbf2-b8bf1cea5e00-0', usage_metadata={'input_tokens': 2309, 'output_tokens': 210, 'total_tokens': 2519})]}\n"
     ]
    }
   ],
   "source": [
    "for event in abot.graph.stream(None, thread):\n",
    "    for v in event.values():\n",
    "        print(v)"
   ]
  },
  {
   "cell_type": "code",
   "execution_count": 12,
   "id": "0722c3d4-4cbf-43bf-81b0-50f634c4ce61",
   "metadata": {
    "height": 30
   },
   "outputs": [
    {
     "data": {
      "text/plain": [
       "StateSnapshot(values={'messages': [HumanMessage(content='Whats the weather in Berlin?', id='03c7feb7-440a-429d-ad8b-635a9a512275'), AIMessage(content=[{'id': 'tooluse_qUoGUCZ5SLO-CWexxCi0NQ', 'input': {'query': 'weather in berlin'}, 'name': 'tavily_search_results_json', 'type': 'tool_use'}], response_metadata={'ResponseMetadata': {'HTTPHeaders': {'connection': 'keep-alive', 'content-length': '325', 'content-type': 'application/json', 'date': 'Mon, 06 Oct 2025 17:59:05 GMT', 'x-amzn-requestid': 'e436b175-db70-4641-b600-d099a86865bd'}, 'HTTPStatusCode': 200, 'RequestId': 'e436b175-db70-4641-b600-d099a86865bd', 'RetryAttempts': 0}, 'metrics': {'latencyMs': 609}, 'stopReason': 'tool_use'}, id='run-62577dd0-7dce-4246-8068-6762004e07c8-0', tool_calls=[{'name': 'tavily_search_results_json', 'args': {'query': 'weather in berlin'}, 'id': 'tooluse_qUoGUCZ5SLO-CWexxCi0NQ', 'type': 'tool_call'}], usage_metadata={'input_tokens': 441, 'output_tokens': 60, 'total_tokens': 501}), ToolMessage(content=\"[{'url': 'https://en.climate-data.org/europe/germany/berlin/berlin-2138/t/october-10/', 'content': '| Max. Temperature °C (°F) | 2.8 °C (37) °F | 4.4 °C (40) °F | 8.4 °C (47.1) °F | 14.4 °C (57.9) °F | 18.9 °C (66.1) °F | 22.1 °C (71.8) °F | 24 °C (75.3) °F | 23.9 °C (75) °F | 19.6 °C (67.2) °F | 13.8 °C (56.8) °F | 8 °C (46.4) °F | 4.2 °C (39.6) °F |\\\\n| Precipitation / Rainfall mm (in) | 56 (2) | 41 (1) | 53 (2) | 42 (1) | 60 (2) | 67 (2) | 81 (3) | 62 (2) | 56 (2) | 49 (1) | 48 (1) | 54 (2) |\\\\n| Humidity(%) | 84% | 81% | 77% | 68% | 66% | 64% | 65% | 65% | 71% | 80% | 86% | 84% | [...] | Rainy days (d) | 9 | 7 | 9 | 8 | 8 | 8 | 9 | 8 | 7 | 7 | 8 | 9 |\\\\n| avg. Sun hours (hours) | 2.7 | 3.9 | 5.4 | 8.7 | 10.2 | 11.0 | 10.9 | 10.2 | 7.4 | 5.0 | 3.5 | 2.6 | [...] | Min. Temperature °C (°F) | -1.9 °C (28.6) °F | -1.4 °C (29.5) °F | 0.6 °C (33.2) °F | 4.6 °C (40.3) °F | 9.4 °C (48.9) °F | 12.9 °C (55.2) °F | 15.2 °C (59.4) °F | 14.9 °C (58.9) °F | 11.4 °C (52.6) °F | 7.3 °C (45.1) °F | 3.2 °C (37.7) °F | 0.1 °C (32.2) °F |'}, {'url': 'https://tripvenue.com/weather/germany/l2950159/berlin/october', 'content': '| Sunshine duration (h) | 5.5 | 10.1 | 4.8 | 9.3 | 3.5 | 2.4 | 0 | 9 | 1.4 | 3.6 | 9.4 | 2.8 | 3.4 | 8.7 | 9.5 | 9.4 | 3.7 | 9.1 | 0 | 0 | 8.6 | 8.2 | 8 | 0 | 6.5 | 0 | 0 | 1.2 | 1.2 | 3.5 | 3.8 |\\\\n| Precipitation (mm) | 0.3 | 0 | 8.2 | 0.3 | 1 | 1.7 | 11.9 | 1.2 | 4.1 | 2 | 0 | 5.4 | 0.5 | 4.7 | 0.4 | 0.4 | 0 | 0 | 4.9 | 7.1 | 0 | 1.4 | 0.3 | 9 | 0.1 | 6.5 | 7.4 | 4.8 | 5.1 | 0 | 3.7 | [...] | Apparent max temperature | 17.7 | 24.4 | 21.4 | 13.4 | 13.5 | 15.1 | 15.2 | 11.8 | 10.3 | 15.7 | 20.2 | 15.7 | 19 | 16.7 | 5.6 | 6.7 | 8.5 | 8.5 | 4.7 | 4.2 | 16.1 | 13.7 | 14 | 12.9 | 12.6 | 9.6 | 8.7 | 10.8 | 12.7 | 13.8 | 10.5 |\\\\n| Mean temperature | 16.2 | 18.5 | 17.6 | 14.4 | 13.7 | 14.7 | 15.6 | 11.9 | 10.6 | 14.2 | 18.5 | 14.8 | 17.2 | 14.2 | 8.4 | 6.8 | 6.2 | 6 | 7.1 | 6.1 | 10.6 | 12.6 | 11.2 | 11.6 | 10.6 | 9.8 | 9.4 | 9.7 | 12.2 | 12.8 | 11 | [...] | Precipitation hours | 2 | 0 | 7 | 3 | 6 | 2 | 15 | 3 | 5 | 9 | 0 | 8 | 3 | 7 | 4 | 4 | 0 | 0 | 15 | 18 | 0 | 2 | 2 | 10 | 1 | 10 | 13 | 13 | 11 | 0 | 12 |\\\\n| Wind speed (m/s) | 16.5 | 12 | 27.5 | 31 | 32.2 | 27.6 | 30.9 | 14.5 | 11.9 | 17.1 | 23.9 | 22.6 | 30.2 | 35.8 | 28.7 | 20.6 | 7.9 | 21 | 21.9 | 30.6 | 22.9 | 16.5 | 12.9 | 17.8 | 16.8 | 16.9 | 12.7 | 11.4 | 27.2 | 23.3 | 34.4 |'}]\", name='tavily_search_results_json', id='fbf93b73-a62a-406a-800a-b4d9c0ac0d01', tool_call_id='tooluse_qUoGUCZ5SLO-CWexxCi0NQ'), AIMessage(content='Based on the search results, the weather in Berlin in October is:\\n\\n- Temperatures range from around 0°C (32°F) to 24°C (75°F), with average highs around 14-18°C (57-64°F) and lows around 7-12°C (45-54°F).\\n- Precipitation is moderate, with around 50-80mm (2-3 inches) of rain per month and 7-9 rainy days on average.\\n- Sunshine duration varies from around 2-11 hours per day, with the most sun in the middle of the month.\\n- Wind speeds are moderate, ranging from around 12-35 km/h (7-22 mph).\\n\\nOverall, the weather in Berlin in October is cool and somewhat rainy, with a mix of sun and clouds. The temperatures are mild and comfortable, making it a pleasant time to visit the city.', response_metadata={'ResponseMetadata': {'HTTPHeaders': {'connection': 'keep-alive', 'content-length': '903', 'content-type': 'application/json', 'date': 'Mon, 06 Oct 2025 17:59:10 GMT', 'x-amzn-requestid': '74fa8b83-8a8e-41f4-a3d0-980c57585372'}, 'HTTPStatusCode': 200, 'RequestId': '74fa8b83-8a8e-41f4-a3d0-980c57585372', 'RetryAttempts': 0}, 'metrics': {'latencyMs': 2732}, 'stopReason': 'end_turn'}, id='run-ab049f89-ce2d-48ce-bbf2-b8bf1cea5e00-0', usage_metadata={'input_tokens': 2309, 'output_tokens': 210, 'total_tokens': 2519})]}, next=(), config={'configurable': {'thread_id': '1', 'thread_ts': '1f0a2de2-9042-62e4-8003-ceda2ace29cc'}}, metadata={'source': 'loop', 'step': 3, 'writes': {'llm': {'messages': [AIMessage(content='Based on the search results, the weather in Berlin in October is:\\n\\n- Temperatures range from around 0°C (32°F) to 24°C (75°F), with average highs around 14-18°C (57-64°F) and lows around 7-12°C (45-54°F).\\n- Precipitation is moderate, with around 50-80mm (2-3 inches) of rain per month and 7-9 rainy days on average.\\n- Sunshine duration varies from around 2-11 hours per day, with the most sun in the middle of the month.\\n- Wind speeds are moderate, ranging from around 12-35 km/h (7-22 mph).\\n\\nOverall, the weather in Berlin in October is cool and somewhat rainy, with a mix of sun and clouds. The temperatures are mild and comfortable, making it a pleasant time to visit the city.', response_metadata={'ResponseMetadata': {'HTTPHeaders': {'connection': 'keep-alive', 'content-length': '903', 'content-type': 'application/json', 'date': 'Mon, 06 Oct 2025 17:59:10 GMT', 'x-amzn-requestid': '74fa8b83-8a8e-41f4-a3d0-980c57585372'}, 'HTTPStatusCode': 200, 'RequestId': '74fa8b83-8a8e-41f4-a3d0-980c57585372', 'RetryAttempts': 0}, 'metrics': {'latencyMs': 2732}, 'stopReason': 'end_turn'}, id='run-ab049f89-ce2d-48ce-bbf2-b8bf1cea5e00-0', usage_metadata={'input_tokens': 2309, 'output_tokens': 210, 'total_tokens': 2519})]}}}, created_at='2025-10-06T17:59:10.306148+00:00', parent_config=None)"
      ]
     },
     "execution_count": 12,
     "metadata": {},
     "output_type": "execute_result"
    }
   ],
   "source": [
    "abot.graph.get_state(thread)"
   ]
  },
  {
   "cell_type": "code",
   "execution_count": 13,
   "id": "6b2f82fe-3ec4-4917-be51-9fb10d1317fa",
   "metadata": {
    "height": 30
   },
   "outputs": [
    {
     "data": {
      "text/plain": [
       "()"
      ]
     },
     "execution_count": 13,
     "metadata": {},
     "output_type": "execute_result"
    }
   ],
   "source": [
    "abot.graph.get_state(thread).next"
   ]
  },
  {
   "cell_type": "markdown",
   "id": "25b2da1c",
   "metadata": {},
   "source": [
    "### Adding your human input\n",
    "\n",
    "Next, we will see how to add your approval for executing the `action` to search the web.\n",
    "\n",
    "Depending if you are running in JupyterLab or in e.g. VS Code, the input box should pop up below the code cell, or on the top.\n",
    "\n",
    "![input box example, asking for user input](../assets/lab5_1.png)\n",
    "\n",
    "\n",
    "If you are fine with what will be searched, then please add a `y` for yes. Anything else, will abort the operation.\n"
   ]
  },
  {
   "cell_type": "code",
   "execution_count": 14,
   "id": "ee0fe1c7-77e2-499c-a2f9-1f739bb6ddf0",
   "metadata": {
    "height": 251
   },
   "outputs": [
    {
     "name": "stdout",
     "output_type": "stream",
     "text": [
      "{'messages': [HumanMessage(content='Whats the weather in LA?', id='e457b3d8-8fea-424b-9194-3e6f5ced70f3'), AIMessage(content=[{'type': 'tool_use', 'name': 'tavily_search_results_json', 'input': {'query': 'weather in LA'}, 'id': 'tooluse_8rqHww6gT7e0TCNZWwl1GA'}], response_metadata={'ResponseMetadata': {'RequestId': 'fd53583b-980c-4a57-bef8-4857c03ff7f6', 'HTTPStatusCode': 200, 'HTTPHeaders': {'date': 'Mon, 06 Oct 2025 17:59:12 GMT', 'content-type': 'application/json', 'content-length': '321', 'connection': 'keep-alive', 'x-amzn-requestid': 'fd53583b-980c-4a57-bef8-4857c03ff7f6'}, 'RetryAttempts': 0}, 'stopReason': 'tool_use', 'metrics': {'latencyMs': 957}}, id='run-e9cf14f0-965a-4715-bf3a-feec757a9d12-0', tool_calls=[{'name': 'tavily_search_results_json', 'args': {'query': 'weather in LA'}, 'id': 'tooluse_8rqHww6gT7e0TCNZWwl1GA', 'type': 'tool_call'}], usage_metadata={'input_tokens': 441, 'output_tokens': 60, 'total_tokens': 501})]}\n",
      "{'messages': [AIMessage(content=[{'type': 'tool_use', 'name': 'tavily_search_results_json', 'input': {'query': 'weather in LA'}, 'id': 'tooluse_8rqHww6gT7e0TCNZWwl1GA'}], response_metadata={'ResponseMetadata': {'RequestId': 'fd53583b-980c-4a57-bef8-4857c03ff7f6', 'HTTPStatusCode': 200, 'HTTPHeaders': {'date': 'Mon, 06 Oct 2025 17:59:12 GMT', 'content-type': 'application/json', 'content-length': '321', 'connection': 'keep-alive', 'x-amzn-requestid': 'fd53583b-980c-4a57-bef8-4857c03ff7f6'}, 'RetryAttempts': 0}, 'stopReason': 'tool_use', 'metrics': {'latencyMs': 957}}, id='run-e9cf14f0-965a-4715-bf3a-feec757a9d12-0', tool_calls=[{'name': 'tavily_search_results_json', 'args': {'query': 'weather in LA'}, 'id': 'tooluse_8rqHww6gT7e0TCNZWwl1GA', 'type': 'tool_call'}], usage_metadata={'input_tokens': 441, 'output_tokens': 60, 'total_tokens': 501})]}\n",
      "\n",
      " StateSnapshot(values={'messages': [HumanMessage(content='Whats the weather in LA?', id='e457b3d8-8fea-424b-9194-3e6f5ced70f3'), AIMessage(content=[{'id': 'tooluse_8rqHww6gT7e0TCNZWwl1GA', 'input': {'query': 'weather in LA'}, 'name': 'tavily_search_results_json', 'type': 'tool_use'}], response_metadata={'ResponseMetadata': {'HTTPHeaders': {'connection': 'keep-alive', 'content-length': '321', 'content-type': 'application/json', 'date': 'Mon, 06 Oct 2025 17:59:12 GMT', 'x-amzn-requestid': 'fd53583b-980c-4a57-bef8-4857c03ff7f6'}, 'HTTPStatusCode': 200, 'RequestId': 'fd53583b-980c-4a57-bef8-4857c03ff7f6', 'RetryAttempts': 0}, 'metrics': {'latencyMs': 957}, 'stopReason': 'tool_use'}, id='run-e9cf14f0-965a-4715-bf3a-feec757a9d12-0', tool_calls=[{'name': 'tavily_search_results_json', 'args': {'query': 'weather in LA'}, 'id': 'tooluse_8rqHww6gT7e0TCNZWwl1GA', 'type': 'tool_call'}], usage_metadata={'input_tokens': 441, 'output_tokens': 60, 'total_tokens': 501})]}, next=('action',), config={'configurable': {'thread_id': '2', 'thread_ts': '1f0a2de2-a48f-6daf-8001-872ffbdcc827'}}, metadata={'source': 'loop', 'step': 1, 'writes': {'llm': {'messages': [AIMessage(content=[{'id': 'tooluse_8rqHww6gT7e0TCNZWwl1GA', 'input': {'query': 'weather in LA'}, 'name': 'tavily_search_results_json', 'type': 'tool_use'}], response_metadata={'ResponseMetadata': {'HTTPHeaders': {'connection': 'keep-alive', 'content-length': '321', 'content-type': 'application/json', 'date': 'Mon, 06 Oct 2025 17:59:12 GMT', 'x-amzn-requestid': 'fd53583b-980c-4a57-bef8-4857c03ff7f6'}, 'HTTPStatusCode': 200, 'RequestId': 'fd53583b-980c-4a57-bef8-4857c03ff7f6', 'RetryAttempts': 0}, 'metrics': {'latencyMs': 957}, 'stopReason': 'tool_use'}, id='run-e9cf14f0-965a-4715-bf3a-feec757a9d12-0', tool_calls=[{'name': 'tavily_search_results_json', 'args': {'query': 'weather in LA'}, 'id': 'tooluse_8rqHww6gT7e0TCNZWwl1GA', 'type': 'tool_call'}], usage_metadata={'input_tokens': 441, 'output_tokens': 60, 'total_tokens': 501})]}}}, created_at='2025-10-06T17:59:12.435097+00:00', parent_config=None) \n",
      "\n",
      "Calling: {'name': 'tavily_search_results_json', 'args': {'query': 'weather in LA'}, 'id': 'tooluse_8rqHww6gT7e0TCNZWwl1GA', 'type': 'tool_call'}\n",
      "Back to the model!\n",
      "{'messages': [ToolMessage(content=\"[{'url': 'https://world-weather.info/forecast/usa/los_angeles/june-2025/', 'content': '+72°\\\\n\\\\n  +63°\\\\n\\\\n  9.4 mph SW 29.5 inHg68 %05:40 am08:04 pm\\\\n 12\\\\n\\\\n  +72°\\\\n\\\\n  +63°\\\\n\\\\n  10.7 mph SW 29.5 inHg66 %05:40 am08:04 pm\\\\n 13\\\\n\\\\n  +73°\\\\n\\\\n  +63°\\\\n\\\\n  9.4 mph SW 29.5 inHg65 %05:40 am08:05 pm\\\\n 14\\\\n\\\\n  +73°\\\\n\\\\n  +63°\\\\n\\\\n  10.3 mph W 29.5 inHg67 %05:41 am08:05 pm\\\\n 15\\\\n\\\\n  +79°\\\\n\\\\n  +59°\\\\n\\\\n  12.1 mph W 29.5 inHg51 %05:41 am08:06 pm\\\\n 16\\\\n\\\\n  +81°\\\\n\\\\n  +61°\\\\n\\\\n  10.7 mph SW 29.5 inHg51 %05:41 am08:06 pm\\\\n 17\\\\n\\\\n  +81°\\\\n\\\\n  +63°\\\\n\\\\n  9.4 mph SW 29.4 inHg49 %05:41 am08:06 pm\\\\n 18\\\\n\\\\n  +82°\\\\n\\\\n  +63° [...] 8.1 mph W 29.6 inHg87 %05:41 am08:00 pm\\\\n 4\\\\n\\\\n  +70°\\\\n\\\\n  +59°\\\\n\\\\n  11 mph SW 29.5 inHg68 %05:41 am08:01 pm\\\\n 5\\\\n\\\\n  +68°\\\\n\\\\n  +61°\\\\n\\\\n  11.9 mph SW 29.5 inHg69 %05:41 am08:01 pm\\\\n 6\\\\n\\\\n  +68°\\\\n\\\\n  +61°\\\\n\\\\n  10.3 mph SW 29.6 inHg67 %05:41 am08:02 pm\\\\n 7\\\\n\\\\n  +68°\\\\n\\\\n  +61°\\\\n\\\\n  10.7 mph SW 29.6 inHg66 %05:41 am08:02 pm\\\\n 8\\\\n\\\\n  +70°\\\\n\\\\n  +59°\\\\n\\\\n  10.7 mph W 29.6 inHg67 %05:41 am08:03 pm\\\\n 9\\\\n\\\\n  +73°\\\\n\\\\n  +61°\\\\n\\\\n  10.1 mph SW 29.5 inHg64 %05:41 am08:03 pm\\\\n 10\\\\n\\\\n  +73°\\\\n\\\\n  +63°\\\\n\\\\n  10.3 mph SW 29.6 inHg61 %05:40 am08:04 pm\\\\n 11 [...] 9.4 mph SW 29.4 inHg41 %05:41 am08:07 pm\\\\n 19\\\\n\\\\n  +73°\\\\n\\\\n  +64°\\\\n\\\\n  11 mph SW 29.5 inHg66 %05:41 am08:07 pm\\\\n 20\\\\n\\\\n  +73°\\\\n\\\\n  +64°\\\\n\\\\n  10.1 mph SW 29.5 inHg64 %05:41 am08:07 pm\\\\n 21\\\\n\\\\n  +70°\\\\n\\\\n  +63°\\\\n\\\\n  11 mph SW 29.5 inHg64 %05:42 am08:07 pm\\\\n 22\\\\n\\\\n  +75°\\\\n\\\\n  +61°\\\\n\\\\n  11 mph SW 29.5 inHg54 %05:42 am08:07 pm\\\\n 23\\\\n\\\\n  +72°\\\\n\\\\n  +63°\\\\n\\\\n  9.4 mph SW 29.6 inHg62 %05:42 am08:08 pm\\\\n 24\\\\n\\\\n  +70°\\\\n\\\\n  +61°\\\\n\\\\n  12.5 mph SW 29.6 inHg66 %05:42 am08:08 pm\\\\n 25\\\\n\\\\n  +73°\\\\n\\\\n  +61°\\\\n\\\\n  9.6 mph W 29.6 inHg67 %05:43 am08:08 pm\\\\n 26'}, {'url': 'https://weatherspark.com/h/m/1705/2025/6/Historical-Weather-in-June-2025-in-Los-Angeles-California-United-States', 'content': '| 10:21 PM | S | 251,824 mi | | 8 |  | 96%  3:35 AM | WSW | 6:06 PM | ESE | 11:07 PM | S | 251,106 mi | | 9 |  | 99%  4:09 AM | WSW | 7:05 PM | ESE | 11:57 PM | S | 249,925 mi | | 10 |  | 100%  4:49 AM | WSW | 8:04 PM | SE  - | | 11 |  | 100%  5:36 AM | SW | 9:00 PM | SE | 12:50 AM | S | 248,381 mi | | 12 |  | 99%  6:30 AM | SW | 9:50 PM | ESE | 1:45 AM | S | 246,559 mi | | 13 |  | 96%  7:31 AM | WSW | 10:34 PM | ESE | 2:41 AM | S | 244,524 mi | | 14 |  | 90%  8:34 AM | WSW | 11:12 PM | ESE | [...] 3:35 AM | S | 242,323 mi | | 15 |  | 83%  9:40 AM | WSW | 11:45 PM | ESE | 4:26 AM | S | 239,988 mi | | 16 |  | 74%  10:45 AM | WSW  5:15 AM | S | 237,546 mi | | 17 |  | 64% | 12:15 AM | ESE | 11:50 AM | W  6:01 AM | S | 235,044 mi | | 18 |  | 50% | 12:43 AM | E | 12:55 PM | W  6:47 AM | S | 232,558 mi | | 19 |  | 41% | 1:10 AM | E | 2:02 PM | W  7:33 AM | S | 230,207 mi | | 20 |  | 30% | 1:39 AM | ENE | 3:11 PM | WNW  8:22 AM | S | 228,157 mi | | 21 |  | 19% | 2:12 AM | ENE | 4:24 PM | WNW [...] Distance |  ---  ---  ---  | 1 |  | 39%  12:34 AM | WNW | 11:22 AM | ENE | 6:16 PM | S | 242,303 mi | | 2 |  | 50%  1:03 AM | WNW | 12:23 PM | ENE | 6:58 PM | S | 245,604 mi | | 3 |  | 59%  1:29 AM | W | 1:21 PM | E | 7:39 PM | S | 248,288 mi | | 4 |  | 69%  1:53 AM | W | 2:17 PM | E | 8:18 PM | S | 250,256 mi | | 5 |  | 78%  2:16 AM | W | 3:13 PM | E | 8:57 PM | S | 251,478 mi | | 6 |  | 85%  2:40 AM | WSW | 4:09 PM | ESE | 9:38 PM | S | 251,979 mi | | 7 |  | 91%  3:06 AM | WSW | 5:07 PM | ESE'}]\", name='tavily_search_results_json', id='77947378-6ab4-45f9-8b7b-44577053b710', tool_call_id='tooluse_8rqHww6gT7e0TCNZWwl1GA')]}\n",
      "{'messages': [HumanMessage(content='Whats the weather in LA?', id='e457b3d8-8fea-424b-9194-3e6f5ced70f3'), AIMessage(content=[{'id': 'tooluse_8rqHww6gT7e0TCNZWwl1GA', 'input': {'query': 'weather in LA'}, 'name': 'tavily_search_results_json', 'type': 'tool_use'}], response_metadata={'ResponseMetadata': {'HTTPHeaders': {'connection': 'keep-alive', 'content-length': '321', 'content-type': 'application/json', 'date': 'Mon, 06 Oct 2025 17:59:12 GMT', 'x-amzn-requestid': 'fd53583b-980c-4a57-bef8-4857c03ff7f6'}, 'HTTPStatusCode': 200, 'RequestId': 'fd53583b-980c-4a57-bef8-4857c03ff7f6', 'RetryAttempts': 0}, 'metrics': {'latencyMs': 957}, 'stopReason': 'tool_use'}, id='run-e9cf14f0-965a-4715-bf3a-feec757a9d12-0', tool_calls=[{'name': 'tavily_search_results_json', 'args': {'query': 'weather in LA'}, 'id': 'tooluse_8rqHww6gT7e0TCNZWwl1GA', 'type': 'tool_call'}], usage_metadata={'input_tokens': 441, 'output_tokens': 60, 'total_tokens': 501}), ToolMessage(content=\"[{'url': 'https://world-weather.info/forecast/usa/los_angeles/june-2025/', 'content': '+72°\\\\n\\\\n  +63°\\\\n\\\\n  9.4 mph SW 29.5 inHg68 %05:40 am08:04 pm\\\\n 12\\\\n\\\\n  +72°\\\\n\\\\n  +63°\\\\n\\\\n  10.7 mph SW 29.5 inHg66 %05:40 am08:04 pm\\\\n 13\\\\n\\\\n  +73°\\\\n\\\\n  +63°\\\\n\\\\n  9.4 mph SW 29.5 inHg65 %05:40 am08:05 pm\\\\n 14\\\\n\\\\n  +73°\\\\n\\\\n  +63°\\\\n\\\\n  10.3 mph W 29.5 inHg67 %05:41 am08:05 pm\\\\n 15\\\\n\\\\n  +79°\\\\n\\\\n  +59°\\\\n\\\\n  12.1 mph W 29.5 inHg51 %05:41 am08:06 pm\\\\n 16\\\\n\\\\n  +81°\\\\n\\\\n  +61°\\\\n\\\\n  10.7 mph SW 29.5 inHg51 %05:41 am08:06 pm\\\\n 17\\\\n\\\\n  +81°\\\\n\\\\n  +63°\\\\n\\\\n  9.4 mph SW 29.4 inHg49 %05:41 am08:06 pm\\\\n 18\\\\n\\\\n  +82°\\\\n\\\\n  +63° [...] 8.1 mph W 29.6 inHg87 %05:41 am08:00 pm\\\\n 4\\\\n\\\\n  +70°\\\\n\\\\n  +59°\\\\n\\\\n  11 mph SW 29.5 inHg68 %05:41 am08:01 pm\\\\n 5\\\\n\\\\n  +68°\\\\n\\\\n  +61°\\\\n\\\\n  11.9 mph SW 29.5 inHg69 %05:41 am08:01 pm\\\\n 6\\\\n\\\\n  +68°\\\\n\\\\n  +61°\\\\n\\\\n  10.3 mph SW 29.6 inHg67 %05:41 am08:02 pm\\\\n 7\\\\n\\\\n  +68°\\\\n\\\\n  +61°\\\\n\\\\n  10.7 mph SW 29.6 inHg66 %05:41 am08:02 pm\\\\n 8\\\\n\\\\n  +70°\\\\n\\\\n  +59°\\\\n\\\\n  10.7 mph W 29.6 inHg67 %05:41 am08:03 pm\\\\n 9\\\\n\\\\n  +73°\\\\n\\\\n  +61°\\\\n\\\\n  10.1 mph SW 29.5 inHg64 %05:41 am08:03 pm\\\\n 10\\\\n\\\\n  +73°\\\\n\\\\n  +63°\\\\n\\\\n  10.3 mph SW 29.6 inHg61 %05:40 am08:04 pm\\\\n 11 [...] 9.4 mph SW 29.4 inHg41 %05:41 am08:07 pm\\\\n 19\\\\n\\\\n  +73°\\\\n\\\\n  +64°\\\\n\\\\n  11 mph SW 29.5 inHg66 %05:41 am08:07 pm\\\\n 20\\\\n\\\\n  +73°\\\\n\\\\n  +64°\\\\n\\\\n  10.1 mph SW 29.5 inHg64 %05:41 am08:07 pm\\\\n 21\\\\n\\\\n  +70°\\\\n\\\\n  +63°\\\\n\\\\n  11 mph SW 29.5 inHg64 %05:42 am08:07 pm\\\\n 22\\\\n\\\\n  +75°\\\\n\\\\n  +61°\\\\n\\\\n  11 mph SW 29.5 inHg54 %05:42 am08:07 pm\\\\n 23\\\\n\\\\n  +72°\\\\n\\\\n  +63°\\\\n\\\\n  9.4 mph SW 29.6 inHg62 %05:42 am08:08 pm\\\\n 24\\\\n\\\\n  +70°\\\\n\\\\n  +61°\\\\n\\\\n  12.5 mph SW 29.6 inHg66 %05:42 am08:08 pm\\\\n 25\\\\n\\\\n  +73°\\\\n\\\\n  +61°\\\\n\\\\n  9.6 mph W 29.6 inHg67 %05:43 am08:08 pm\\\\n 26'}, {'url': 'https://weatherspark.com/h/m/1705/2025/6/Historical-Weather-in-June-2025-in-Los-Angeles-California-United-States', 'content': '| 10:21 PM | S | 251,824 mi | | 8 |  | 96%  3:35 AM | WSW | 6:06 PM | ESE | 11:07 PM | S | 251,106 mi | | 9 |  | 99%  4:09 AM | WSW | 7:05 PM | ESE | 11:57 PM | S | 249,925 mi | | 10 |  | 100%  4:49 AM | WSW | 8:04 PM | SE  - | | 11 |  | 100%  5:36 AM | SW | 9:00 PM | SE | 12:50 AM | S | 248,381 mi | | 12 |  | 99%  6:30 AM | SW | 9:50 PM | ESE | 1:45 AM | S | 246,559 mi | | 13 |  | 96%  7:31 AM | WSW | 10:34 PM | ESE | 2:41 AM | S | 244,524 mi | | 14 |  | 90%  8:34 AM | WSW | 11:12 PM | ESE | [...] 3:35 AM | S | 242,323 mi | | 15 |  | 83%  9:40 AM | WSW | 11:45 PM | ESE | 4:26 AM | S | 239,988 mi | | 16 |  | 74%  10:45 AM | WSW  5:15 AM | S | 237,546 mi | | 17 |  | 64% | 12:15 AM | ESE | 11:50 AM | W  6:01 AM | S | 235,044 mi | | 18 |  | 50% | 12:43 AM | E | 12:55 PM | W  6:47 AM | S | 232,558 mi | | 19 |  | 41% | 1:10 AM | E | 2:02 PM | W  7:33 AM | S | 230,207 mi | | 20 |  | 30% | 1:39 AM | ENE | 3:11 PM | WNW  8:22 AM | S | 228,157 mi | | 21 |  | 19% | 2:12 AM | ENE | 4:24 PM | WNW [...] Distance |  ---  ---  ---  | 1 |  | 39%  12:34 AM | WNW | 11:22 AM | ENE | 6:16 PM | S | 242,303 mi | | 2 |  | 50%  1:03 AM | WNW | 12:23 PM | ENE | 6:58 PM | S | 245,604 mi | | 3 |  | 59%  1:29 AM | W | 1:21 PM | E | 7:39 PM | S | 248,288 mi | | 4 |  | 69%  1:53 AM | W | 2:17 PM | E | 8:18 PM | S | 250,256 mi | | 5 |  | 78%  2:16 AM | W | 3:13 PM | E | 8:57 PM | S | 251,478 mi | | 6 |  | 85%  2:40 AM | WSW | 4:09 PM | ESE | 9:38 PM | S | 251,979 mi | | 7 |  | 91%  3:06 AM | WSW | 5:07 PM | ESE'}]\", name='tavily_search_results_json', id='77947378-6ab4-45f9-8b7b-44577053b710', tool_call_id='tooluse_8rqHww6gT7e0TCNZWwl1GA'), AIMessage(content='The search results provide detailed weather forecasts for Los Angeles over the next few weeks, including daily high and low temperatures, wind speeds and directions, precipitation chances, and other relevant information. Based on this, it looks like the weather in LA is generally warm and sunny, with highs in the 70s and 80s Fahrenheit and lows in the 60s. There is some variation in wind speeds and precipitation chances, but overall the weather seems quite pleasant.', response_metadata={'ResponseMetadata': {'RequestId': '5146dc97-09a9-4e18-8822-ed8c0ad80efc', 'HTTPStatusCode': 200, 'HTTPHeaders': {'date': 'Mon, 06 Oct 2025 17:59:19 GMT', 'content-type': 'application/json', 'content-length': '678', 'connection': 'keep-alive', 'x-amzn-requestid': '5146dc97-09a9-4e18-8822-ed8c0ad80efc'}, 'RetryAttempts': 0}, 'stopReason': 'end_turn', 'metrics': {'latencyMs': 1646}}, id='run-ecf67168-49de-4f5d-b4ce-e2045b4c0b5f-0', usage_metadata={'input_tokens': 2691, 'output_tokens': 101, 'total_tokens': 2792})]}\n",
      "{'messages': [AIMessage(content='The search results provide detailed weather forecasts for Los Angeles over the next few weeks, including daily high and low temperatures, wind speeds and directions, precipitation chances, and other relevant information. Based on this, it looks like the weather in LA is generally warm and sunny, with highs in the 70s and 80s Fahrenheit and lows in the 60s. There is some variation in wind speeds and precipitation chances, but overall the weather seems quite pleasant.', response_metadata={'ResponseMetadata': {'RequestId': '5146dc97-09a9-4e18-8822-ed8c0ad80efc', 'HTTPStatusCode': 200, 'HTTPHeaders': {'date': 'Mon, 06 Oct 2025 17:59:19 GMT', 'content-type': 'application/json', 'content-length': '678', 'connection': 'keep-alive', 'x-amzn-requestid': '5146dc97-09a9-4e18-8822-ed8c0ad80efc'}, 'RetryAttempts': 0}, 'stopReason': 'end_turn', 'metrics': {'latencyMs': 1646}}, id='run-ecf67168-49de-4f5d-b4ce-e2045b4c0b5f-0', usage_metadata={'input_tokens': 2691, 'output_tokens': 101, 'total_tokens': 2792})]}\n"
     ]
    }
   ],
   "source": [
    "messages = [HumanMessage(\"Whats the weather in LA?\")]\n",
    "thread = {\"configurable\": {\"thread_id\": \"2\"}}\n",
    "for event in abot.graph.stream({\"messages\": messages}, thread):\n",
    "    for v in event.values():\n",
    "        print(v)\n",
    "\n",
    "while abot.graph.get_state(thread).next:\n",
    "    print(\"\\n\", abot.graph.get_state(thread), \"\\n\")\n",
    "    _input = input(\"proceed?\")\n",
    "    if _input != \"y\":\n",
    "        print(\"aborting\")\n",
    "        break\n",
    "    for event in abot.graph.stream(None, thread):\n",
    "        for v in event.values():\n",
    "            print(v)"
   ]
  },
  {
   "cell_type": "markdown",
   "id": "1789a791",
   "metadata": {},
   "source": [
    "As you can see, the next node to be executed is the `('action',)` node.\n",
    "\n",
    "Remember, we compiled our graph with the interrupt set before the `action` node.\n",
    "\n",
    "```python\n",
    "        self.graph = graph.compile(\n",
    "            checkpointer=checkpointer, interrupt_before=[\"action\"]\n",
    "        )\n",
    "```\n",
    "\n",
    "---\n"
   ]
  },
  {
   "cell_type": "markdown",
   "id": "587c5a21",
   "metadata": {},
   "source": [
    "Now one thing that can be very interesting, is to only stop and ask for human input, whenever you are calling a certain set of tools, and not all of them.\n",
    "\n",
    "Think about how that could be achieved, before continue reading.\n"
   ]
  },
  {
   "cell_type": "markdown",
   "id": "11891ceb",
   "metadata": {},
   "source": [
    "### Stop at only specific tool calls\n",
    "\n",
    "1. Parsing the tool call and stopping execution only if the tool call parameter `name` (tool name) is the same as as the stopping parameter.\n",
    "2. Adding all tools where you need to stop to an extra node.\n",
    "\n",
    "In general, option 2 is a cleaner and easier to debug. If you would like to see how this is implemented in a bigger example, please head over to the [customer support agent](https://langchain-ai.github.io/langgraph/tutorials/customer-support/customer-support/#part-3-conditional-interrupt) from the LangGraph examples to see how sensitive tools are handled.\n",
    "\n",
    "Here is a sneak peak of the graph:\n",
    "\n",
    "![customer support agent graph with sensitive and safe tools](../assets/lab5_2.png)\n"
   ]
  },
  {
   "cell_type": "markdown",
   "id": "7bbe5689-54ab-49ca-9055-6e5216abd523",
   "metadata": {},
   "source": [
    "## Modify State\n",
    "\n",
    "Run until the interrupt and then modify the state.\n"
   ]
  },
  {
   "cell_type": "code",
   "execution_count": 15,
   "id": "98f303b1-a4d0-408c-8cc0-515ff980717f",
   "metadata": {
    "height": 98
   },
   "outputs": [
    {
     "name": "stdout",
     "output_type": "stream",
     "text": [
      "{'messages': [HumanMessage(content='Whats the weather in LA?', id='57dc4fcf-9acb-4fe4-bbec-c33e8c4322a2'), AIMessage(content=[{'type': 'tool_use', 'name': 'tavily_search_results_json', 'input': {'query': 'weather in LA'}, 'id': 'tooluse_nHMKFbKQQ-SNAVSgs7wpaQ'}], response_metadata={'ResponseMetadata': {'RequestId': '83509b13-d0c6-432f-84ad-2ca07b41f829', 'HTTPStatusCode': 200, 'HTTPHeaders': {'date': 'Mon, 06 Oct 2025 17:59:20 GMT', 'content-type': 'application/json', 'content-length': '321', 'connection': 'keep-alive', 'x-amzn-requestid': '83509b13-d0c6-432f-84ad-2ca07b41f829'}, 'RetryAttempts': 0}, 'stopReason': 'tool_use', 'metrics': {'latencyMs': 646}}, id='run-e7e2db49-0e60-42c9-b2c7-33c09274eeb0-0', tool_calls=[{'name': 'tavily_search_results_json', 'args': {'query': 'weather in LA'}, 'id': 'tooluse_nHMKFbKQQ-SNAVSgs7wpaQ', 'type': 'tool_call'}], usage_metadata={'input_tokens': 441, 'output_tokens': 60, 'total_tokens': 501})]}\n",
      "{'messages': [AIMessage(content=[{'type': 'tool_use', 'name': 'tavily_search_results_json', 'input': {'query': 'weather in LA'}, 'id': 'tooluse_nHMKFbKQQ-SNAVSgs7wpaQ'}], response_metadata={'ResponseMetadata': {'RequestId': '83509b13-d0c6-432f-84ad-2ca07b41f829', 'HTTPStatusCode': 200, 'HTTPHeaders': {'date': 'Mon, 06 Oct 2025 17:59:20 GMT', 'content-type': 'application/json', 'content-length': '321', 'connection': 'keep-alive', 'x-amzn-requestid': '83509b13-d0c6-432f-84ad-2ca07b41f829'}, 'RetryAttempts': 0}, 'stopReason': 'tool_use', 'metrics': {'latencyMs': 646}}, id='run-e7e2db49-0e60-42c9-b2c7-33c09274eeb0-0', tool_calls=[{'name': 'tavily_search_results_json', 'args': {'query': 'weather in LA'}, 'id': 'tooluse_nHMKFbKQQ-SNAVSgs7wpaQ', 'type': 'tool_call'}], usage_metadata={'input_tokens': 441, 'output_tokens': 60, 'total_tokens': 501})]}\n"
     ]
    }
   ],
   "source": [
    "messages = [HumanMessage(\"Whats the weather in LA?\")]\n",
    "thread = {\"configurable\": {\"thread_id\": \"3\"}}\n",
    "for event in abot.graph.stream({\"messages\": messages}, thread):\n",
    "    for v in event.values():\n",
    "        print(v)"
   ]
  },
  {
   "cell_type": "code",
   "execution_count": 16,
   "id": "bf4dcb93-6298-4cfd-b3ce-61dfac7fb35f",
   "metadata": {
    "height": 30
   },
   "outputs": [
    {
     "data": {
      "text/plain": [
       "StateSnapshot(values={'messages': [HumanMessage(content='Whats the weather in LA?', id='57dc4fcf-9acb-4fe4-bbec-c33e8c4322a2'), AIMessage(content=[{'id': 'tooluse_nHMKFbKQQ-SNAVSgs7wpaQ', 'input': {'query': 'weather in LA'}, 'name': 'tavily_search_results_json', 'type': 'tool_use'}], response_metadata={'ResponseMetadata': {'HTTPHeaders': {'connection': 'keep-alive', 'content-length': '321', 'content-type': 'application/json', 'date': 'Mon, 06 Oct 2025 17:59:20 GMT', 'x-amzn-requestid': '83509b13-d0c6-432f-84ad-2ca07b41f829'}, 'HTTPStatusCode': 200, 'RequestId': '83509b13-d0c6-432f-84ad-2ca07b41f829', 'RetryAttempts': 0}, 'metrics': {'latencyMs': 646}, 'stopReason': 'tool_use'}, id='run-e7e2db49-0e60-42c9-b2c7-33c09274eeb0-0', tool_calls=[{'name': 'tavily_search_results_json', 'args': {'query': 'weather in LA'}, 'id': 'tooluse_nHMKFbKQQ-SNAVSgs7wpaQ', 'type': 'tool_call'}], usage_metadata={'input_tokens': 441, 'output_tokens': 60, 'total_tokens': 501})]}, next=('action',), config={'configurable': {'thread_id': '3', 'thread_ts': '1f0a2de2-f4a5-6071-8001-91a8e0a6674c'}}, metadata={'source': 'loop', 'step': 1, 'writes': {'llm': {'messages': [AIMessage(content=[{'id': 'tooluse_nHMKFbKQQ-SNAVSgs7wpaQ', 'input': {'query': 'weather in LA'}, 'name': 'tavily_search_results_json', 'type': 'tool_use'}], response_metadata={'ResponseMetadata': {'HTTPHeaders': {'connection': 'keep-alive', 'content-length': '321', 'content-type': 'application/json', 'date': 'Mon, 06 Oct 2025 17:59:20 GMT', 'x-amzn-requestid': '83509b13-d0c6-432f-84ad-2ca07b41f829'}, 'HTTPStatusCode': 200, 'RequestId': '83509b13-d0c6-432f-84ad-2ca07b41f829', 'RetryAttempts': 0}, 'metrics': {'latencyMs': 646}, 'stopReason': 'tool_use'}, id='run-e7e2db49-0e60-42c9-b2c7-33c09274eeb0-0', tool_calls=[{'name': 'tavily_search_results_json', 'args': {'query': 'weather in LA'}, 'id': 'tooluse_nHMKFbKQQ-SNAVSgs7wpaQ', 'type': 'tool_call'}], usage_metadata={'input_tokens': 441, 'output_tokens': 60, 'total_tokens': 501})]}}}, created_at='2025-10-06T17:59:20.832369+00:00', parent_config=None)"
      ]
     },
     "execution_count": 16,
     "metadata": {},
     "output_type": "execute_result"
    }
   ],
   "source": [
    "abot.graph.get_state(thread)"
   ]
  },
  {
   "cell_type": "code",
   "execution_count": 17,
   "id": "932883a4-c722-42bb-aec0-b4f41c5c81a4",
   "metadata": {
    "height": 30
   },
   "outputs": [],
   "source": [
    "current_values = abot.graph.get_state(thread)"
   ]
  },
  {
   "cell_type": "code",
   "execution_count": 18,
   "id": "ff362f49-dcf1-4ea1-a86c-e516e9ab897d",
   "metadata": {
    "height": 30
   },
   "outputs": [
    {
     "data": {
      "text/plain": [
       "AIMessage(content=[{'id': 'tooluse_nHMKFbKQQ-SNAVSgs7wpaQ', 'input': {'query': 'weather in LA'}, 'name': 'tavily_search_results_json', 'type': 'tool_use'}], response_metadata={'ResponseMetadata': {'HTTPHeaders': {'connection': 'keep-alive', 'content-length': '321', 'content-type': 'application/json', 'date': 'Mon, 06 Oct 2025 17:59:20 GMT', 'x-amzn-requestid': '83509b13-d0c6-432f-84ad-2ca07b41f829'}, 'HTTPStatusCode': 200, 'RequestId': '83509b13-d0c6-432f-84ad-2ca07b41f829', 'RetryAttempts': 0}, 'metrics': {'latencyMs': 646}, 'stopReason': 'tool_use'}, id='run-e7e2db49-0e60-42c9-b2c7-33c09274eeb0-0', tool_calls=[{'name': 'tavily_search_results_json', 'args': {'query': 'weather in LA'}, 'id': 'tooluse_nHMKFbKQQ-SNAVSgs7wpaQ', 'type': 'tool_call'}], usage_metadata={'input_tokens': 441, 'output_tokens': 60, 'total_tokens': 501})"
      ]
     },
     "execution_count": 18,
     "metadata": {},
     "output_type": "execute_result"
    }
   ],
   "source": [
    "current_values.values[\"messages\"][-1]"
   ]
  },
  {
   "cell_type": "code",
   "execution_count": 19,
   "id": "a7e15a20-83d7-434c-8551-bce8dcc32be0",
   "metadata": {
    "height": 30
   },
   "outputs": [
    {
     "data": {
      "text/plain": [
       "[{'name': 'tavily_search_results_json',\n",
       "  'args': {'query': 'weather in LA'},\n",
       "  'id': 'tooluse_nHMKFbKQQ-SNAVSgs7wpaQ',\n",
       "  'type': 'tool_call'}]"
      ]
     },
     "execution_count": 19,
     "metadata": {},
     "output_type": "execute_result"
    }
   ],
   "source": [
    "current_values.values[\"messages\"][-1].tool_calls"
   ]
  },
  {
   "cell_type": "code",
   "execution_count": 20,
   "id": "54ab2c74-f32e-490c-a85d-932d11444210",
   "metadata": {
    "height": 115
   },
   "outputs": [],
   "source": [
    "_id = current_values.values[\"messages\"][-1].tool_calls[0][\"id\"]\n",
    "current_values.values[\"messages\"][-1].tool_calls = [\n",
    "    {\n",
    "        \"name\": \"tavily_search_results_json\",\n",
    "        \"args\": {\"query\": \"current weather in Munich\"},\n",
    "        \"id\": _id,\n",
    "    }\n",
    "]"
   ]
  },
  {
   "cell_type": "code",
   "execution_count": 21,
   "id": "a833d3ce-bd31-4319-811d-decff226b970",
   "metadata": {
    "height": 30
   },
   "outputs": [
    {
     "name": "stdout",
     "output_type": "stream",
     "text": [
      "{'messages': [HumanMessage(content='Whats the weather in LA?', id='57dc4fcf-9acb-4fe4-bbec-c33e8c4322a2'), AIMessage(content=[{'id': 'tooluse_nHMKFbKQQ-SNAVSgs7wpaQ', 'input': {'query': 'weather in LA'}, 'name': 'tavily_search_results_json', 'type': 'tool_use'}], response_metadata={'ResponseMetadata': {'HTTPHeaders': {'connection': 'keep-alive', 'content-length': '321', 'content-type': 'application/json', 'date': 'Mon, 06 Oct 2025 17:59:20 GMT', 'x-amzn-requestid': '83509b13-d0c6-432f-84ad-2ca07b41f829'}, 'HTTPStatusCode': 200, 'RequestId': '83509b13-d0c6-432f-84ad-2ca07b41f829', 'RetryAttempts': 0}, 'metrics': {'latencyMs': 646}, 'stopReason': 'tool_use'}, id='run-e7e2db49-0e60-42c9-b2c7-33c09274eeb0-0', tool_calls=[{'name': 'tavily_search_results_json', 'args': {'query': 'current weather in Munich'}, 'id': 'tooluse_nHMKFbKQQ-SNAVSgs7wpaQ'}], usage_metadata={'input_tokens': 441, 'output_tokens': 60, 'total_tokens': 501})]}\n"
     ]
    },
    {
     "data": {
      "text/plain": [
       "{'configurable': {'thread_id': '3',\n",
       "  'thread_ts': '1f0a2de2-f685-636e-8002-30c9b31af640'}}"
      ]
     },
     "execution_count": 21,
     "metadata": {},
     "output_type": "execute_result"
    }
   ],
   "source": [
    "abot.graph.update_state(thread, current_values.values)"
   ]
  },
  {
   "cell_type": "code",
   "execution_count": 22,
   "id": "76e93cce-6eab-4c7c-ac64-e9993fdb30d6",
   "metadata": {
    "height": 30
   },
   "outputs": [
    {
     "data": {
      "text/plain": [
       "StateSnapshot(values={'messages': [HumanMessage(content='Whats the weather in LA?', id='57dc4fcf-9acb-4fe4-bbec-c33e8c4322a2'), AIMessage(content=[{'id': 'tooluse_nHMKFbKQQ-SNAVSgs7wpaQ', 'input': {'query': 'weather in LA'}, 'name': 'tavily_search_results_json', 'type': 'tool_use'}], response_metadata={'ResponseMetadata': {'HTTPHeaders': {'connection': 'keep-alive', 'content-length': '321', 'content-type': 'application/json', 'date': 'Mon, 06 Oct 2025 17:59:20 GMT', 'x-amzn-requestid': '83509b13-d0c6-432f-84ad-2ca07b41f829'}, 'HTTPStatusCode': 200, 'RequestId': '83509b13-d0c6-432f-84ad-2ca07b41f829', 'RetryAttempts': 0}, 'metrics': {'latencyMs': 646}, 'stopReason': 'tool_use'}, id='run-e7e2db49-0e60-42c9-b2c7-33c09274eeb0-0', tool_calls=[{'name': 'tavily_search_results_json', 'args': {'query': 'current weather in Munich'}, 'id': 'tooluse_nHMKFbKQQ-SNAVSgs7wpaQ', 'type': 'tool_call'}], usage_metadata={'input_tokens': 441, 'output_tokens': 60, 'total_tokens': 501})]}, next=('action',), config={'configurable': {'thread_id': '3', 'thread_ts': '1f0a2de2-f685-636e-8002-30c9b31af640'}}, metadata={'source': 'update', 'step': 2, 'writes': {'llm': {'messages': [HumanMessage(content='Whats the weather in LA?', id='57dc4fcf-9acb-4fe4-bbec-c33e8c4322a2'), AIMessage(content=[{'id': 'tooluse_nHMKFbKQQ-SNAVSgs7wpaQ', 'input': {'query': 'weather in LA'}, 'name': 'tavily_search_results_json', 'type': 'tool_use'}], response_metadata={'ResponseMetadata': {'HTTPHeaders': {'connection': 'keep-alive', 'content-length': '321', 'content-type': 'application/json', 'date': 'Mon, 06 Oct 2025 17:59:20 GMT', 'x-amzn-requestid': '83509b13-d0c6-432f-84ad-2ca07b41f829'}, 'HTTPStatusCode': 200, 'RequestId': '83509b13-d0c6-432f-84ad-2ca07b41f829', 'RetryAttempts': 0}, 'metrics': {'latencyMs': 646}, 'stopReason': 'tool_use'}, id='run-e7e2db49-0e60-42c9-b2c7-33c09274eeb0-0', tool_calls=[{'name': 'tavily_search_results_json', 'args': {'query': 'current weather in Munich'}, 'id': 'tooluse_nHMKFbKQQ-SNAVSgs7wpaQ', 'type': 'tool_call'}], usage_metadata={'input_tokens': 441, 'output_tokens': 60, 'total_tokens': 501})]}}}, created_at='2025-10-06T17:59:21.029054+00:00', parent_config=None)"
      ]
     },
     "execution_count": 22,
     "metadata": {},
     "output_type": "execute_result"
    }
   ],
   "source": [
    "abot.graph.get_state(thread)"
   ]
  },
  {
   "cell_type": "code",
   "execution_count": 23,
   "id": "fd2d0990-a932-423f-9ff3-5cada58c5f32",
   "metadata": {
    "height": 64
   },
   "outputs": [
    {
     "name": "stdout",
     "output_type": "stream",
     "text": [
      "Calling: {'name': 'tavily_search_results_json', 'args': {'query': 'current weather in Munich'}, 'id': 'tooluse_nHMKFbKQQ-SNAVSgs7wpaQ', 'type': 'tool_call'}\n",
      "Back to the model!\n",
      "{'messages': [ToolMessage(content=\"[{'url': 'https://www.weather25.com/europe/germany/bavaria/munich?page=month&month=October', 'content': '| Sun | Mon | Tue | Wed | Thu | Fri | Sat |\\\\n ---  ---  --- \\\\n|  |  |  | 1 Partly cloudy 17° /7° | 2 Light rain shower 16° /8° | 3 Patchy rain possible 16° /7° | 4 Overcast 14° /6° |\\\\n| 5 Overcast 14° /7° | 6 Light rain 10° /7° | 7 Light drizzle 10° /8° | 8 Partly cloudy 17° /7° | 9 Patchy rain possible 15° /8° | 10 Sunny 16° /7° | 11 Mist 15° /6° |\\\\n| 12 Mist 16° /6° | 13 Sunny 16° /6° | 14 Mist 14° /5° | 15 Sunny 14° /3° | 16 Sunny 14° /3° | 17 Sunny 14° /3° | 18 Mist 15° /4° | [...] | 19 Sunny 14° /4° | 20 Overcast 18° /8° | 21 Light drizzle 15° /9° | 22 Mist 14° /8° | 23 Partly cloudy 15° /7° | 24 Partly cloudy 15° /8° | 25 Light drizzle 16° /8° |\\\\n| 26 Mist 14° /8° | 27 Partly cloudy 14° /8° | 28 Light rain 14° /7° | 29 Sunny 14° /7° | 30 Patchy light rain 14° /7° | 31 Partly cloudy 13° /7° |  | [...] Partly cloudy\\\\nLight rain shower\\\\nPatchy rain possible\\\\nOvercast\\\\nOvercast\\\\nLight rain\\\\nLight drizzle\\\\nPartly cloudy\\\\nPatchy rain possible\\\\nSunny\\\\nMist\\\\nMist\\\\nSunny\\\\nMist\\\\nSunny\\\\nSunny\\\\nSunny\\\\nMist\\\\nSunny\\\\nOvercast\\\\nLight drizzle\\\\nMist\\\\nPartly cloudy\\\\nPartly cloudy\\\\nLight drizzle\\\\nMist\\\\nPartly cloudy\\\\nLight rain\\\\nSunny\\\\nPatchy light rain\\\\nPartly cloudy\\\\n\\\\n## Explore the weather in Munich in other months\\\\n\\\\n## Munich annual weather'}, {'url': 'https://www.accuweather.com/en/de/munich/80331/october-weather/178086', 'content': 'Get the monthly weather forecast for Munich, Bavaria, Germany, including daily high/low, historical averages, to help you plan ahead.'}]\", name='tavily_search_results_json', id='a291115d-a1c1-4867-940e-c926573479f9', tool_call_id='tooluse_nHMKFbKQQ-SNAVSgs7wpaQ')]}\n",
      "{'messages': [HumanMessage(content='Whats the weather in LA?', id='57dc4fcf-9acb-4fe4-bbec-c33e8c4322a2'), AIMessage(content=[{'id': 'tooluse_nHMKFbKQQ-SNAVSgs7wpaQ', 'input': {'query': 'weather in LA'}, 'name': 'tavily_search_results_json', 'type': 'tool_use'}], response_metadata={'ResponseMetadata': {'HTTPHeaders': {'connection': 'keep-alive', 'content-length': '321', 'content-type': 'application/json', 'date': 'Mon, 06 Oct 2025 17:59:20 GMT', 'x-amzn-requestid': '83509b13-d0c6-432f-84ad-2ca07b41f829'}, 'HTTPStatusCode': 200, 'RequestId': '83509b13-d0c6-432f-84ad-2ca07b41f829', 'RetryAttempts': 0}, 'metrics': {'latencyMs': 646}, 'stopReason': 'tool_use'}, id='run-e7e2db49-0e60-42c9-b2c7-33c09274eeb0-0', tool_calls=[{'name': 'tavily_search_results_json', 'args': {'query': 'current weather in Munich'}, 'id': 'tooluse_nHMKFbKQQ-SNAVSgs7wpaQ', 'type': 'tool_call'}], usage_metadata={'input_tokens': 441, 'output_tokens': 60, 'total_tokens': 501}), ToolMessage(content=\"[{'url': 'https://www.weather25.com/europe/germany/bavaria/munich?page=month&month=October', 'content': '| Sun | Mon | Tue | Wed | Thu | Fri | Sat |\\\\n ---  ---  --- \\\\n|  |  |  | 1 Partly cloudy 17° /7° | 2 Light rain shower 16° /8° | 3 Patchy rain possible 16° /7° | 4 Overcast 14° /6° |\\\\n| 5 Overcast 14° /7° | 6 Light rain 10° /7° | 7 Light drizzle 10° /8° | 8 Partly cloudy 17° /7° | 9 Patchy rain possible 15° /8° | 10 Sunny 16° /7° | 11 Mist 15° /6° |\\\\n| 12 Mist 16° /6° | 13 Sunny 16° /6° | 14 Mist 14° /5° | 15 Sunny 14° /3° | 16 Sunny 14° /3° | 17 Sunny 14° /3° | 18 Mist 15° /4° | [...] | 19 Sunny 14° /4° | 20 Overcast 18° /8° | 21 Light drizzle 15° /9° | 22 Mist 14° /8° | 23 Partly cloudy 15° /7° | 24 Partly cloudy 15° /8° | 25 Light drizzle 16° /8° |\\\\n| 26 Mist 14° /8° | 27 Partly cloudy 14° /8° | 28 Light rain 14° /7° | 29 Sunny 14° /7° | 30 Patchy light rain 14° /7° | 31 Partly cloudy 13° /7° |  | [...] Partly cloudy\\\\nLight rain shower\\\\nPatchy rain possible\\\\nOvercast\\\\nOvercast\\\\nLight rain\\\\nLight drizzle\\\\nPartly cloudy\\\\nPatchy rain possible\\\\nSunny\\\\nMist\\\\nMist\\\\nSunny\\\\nMist\\\\nSunny\\\\nSunny\\\\nSunny\\\\nMist\\\\nSunny\\\\nOvercast\\\\nLight drizzle\\\\nMist\\\\nPartly cloudy\\\\nPartly cloudy\\\\nLight drizzle\\\\nMist\\\\nPartly cloudy\\\\nLight rain\\\\nSunny\\\\nPatchy light rain\\\\nPartly cloudy\\\\n\\\\n## Explore the weather in Munich in other months\\\\n\\\\n## Munich annual weather'}, {'url': 'https://www.accuweather.com/en/de/munich/80331/october-weather/178086', 'content': 'Get the monthly weather forecast for Munich, Bavaria, Germany, including daily high/low, historical averages, to help you plan ahead.'}]\", name='tavily_search_results_json', id='a291115d-a1c1-4867-940e-c926573479f9', tool_call_id='tooluse_nHMKFbKQQ-SNAVSgs7wpaQ'), AIMessage(content=[{'type': 'text', 'text': 'The search results provide information about the current weather in Munich, Germany, not Los Angeles. To get the weather for Los Angeles, I will need to perform a new search.'}, {'type': 'tool_use', 'name': 'tavily_search_results_json', 'input': {'query': 'current weather in Los Angeles'}, 'id': 'tooluse_cpVmImqcSPy0Zqr0tzH9dQ'}], response_metadata={'ResponseMetadata': {'RequestId': '8809bd85-a34b-4607-8c49-507b82c08e7e', 'HTTPStatusCode': 200, 'HTTPHeaders': {'date': 'Mon, 06 Oct 2025 17:59:29 GMT', 'content-type': 'application/json', 'content-length': '526', 'connection': 'keep-alive', 'x-amzn-requestid': '8809bd85-a34b-4607-8c49-507b82c08e7e'}, 'RetryAttempts': 0}, 'stopReason': 'tool_use', 'metrics': {'latencyMs': 921}}, id='run-bb530b85-ff65-4bd3-ad65-bd69ced27e20-0', tool_calls=[{'name': 'tavily_search_results_json', 'args': {'query': 'current weather in Los Angeles'}, 'id': 'tooluse_cpVmImqcSPy0Zqr0tzH9dQ', 'type': 'tool_call'}], usage_metadata={'input_tokens': 1254, 'output_tokens': 99, 'total_tokens': 1353})]}\n",
      "{'messages': [AIMessage(content=[{'type': 'text', 'text': 'The search results provide information about the current weather in Munich, Germany, not Los Angeles. To get the weather for Los Angeles, I will need to perform a new search.'}, {'type': 'tool_use', 'name': 'tavily_search_results_json', 'input': {'query': 'current weather in Los Angeles'}, 'id': 'tooluse_cpVmImqcSPy0Zqr0tzH9dQ'}], response_metadata={'ResponseMetadata': {'RequestId': '8809bd85-a34b-4607-8c49-507b82c08e7e', 'HTTPStatusCode': 200, 'HTTPHeaders': {'date': 'Mon, 06 Oct 2025 17:59:29 GMT', 'content-type': 'application/json', 'content-length': '526', 'connection': 'keep-alive', 'x-amzn-requestid': '8809bd85-a34b-4607-8c49-507b82c08e7e'}, 'RetryAttempts': 0}, 'stopReason': 'tool_use', 'metrics': {'latencyMs': 921}}, id='run-bb530b85-ff65-4bd3-ad65-bd69ced27e20-0', tool_calls=[{'name': 'tavily_search_results_json', 'args': {'query': 'current weather in Los Angeles'}, 'id': 'tooluse_cpVmImqcSPy0Zqr0tzH9dQ', 'type': 'tool_call'}], usage_metadata={'input_tokens': 1254, 'output_tokens': 99, 'total_tokens': 1353})]}\n"
     ]
    }
   ],
   "source": [
    "for event in abot.graph.stream(None, thread):\n",
    "    for v in event.values():\n",
    "        print(v)"
   ]
  },
  {
   "cell_type": "markdown",
   "id": "e75b870b-e0df-46f1-b29b-fb151ebcbcc3",
   "metadata": {},
   "source": [
    "## Time Travel\n"
   ]
  },
  {
   "cell_type": "code",
   "execution_count": 24,
   "id": "27cde654-64e2-48bc-80a9-0ed668ccb7dc",
   "metadata": {
    "height": 98
   },
   "outputs": [
    {
     "name": "stdout",
     "output_type": "stream",
     "text": [
      "StateSnapshot(values={'messages': []}, next=('__start__',), config={'configurable': {'thread_id': '3', 'thread_ts': '1f0a2de2-ebf4-6382-bfff-13a0ef49fd8b'}}, metadata={'source': 'input', 'step': -1, 'writes': {'messages': [HumanMessage(content='Whats the weather in LA?')]}}, created_at='2025-10-06T17:59:19.921084+00:00', parent_config=None)\n",
      "--\n",
      "StateSnapshot(values={'messages': [HumanMessage(content='Whats the weather in LA?', id='57dc4fcf-9acb-4fe4-bbec-c33e8c4322a2')]}, next=('llm',), config={'configurable': {'thread_id': '3', 'thread_ts': '1f0a2de2-ec00-6a6d-8000-2db00157585e'}}, metadata={'source': 'loop', 'step': 0, 'writes': None}, created_at='2025-10-06T17:59:19.926183+00:00', parent_config=None)\n",
      "--\n",
      "StateSnapshot(values={'messages': [HumanMessage(content='Whats the weather in LA?', id='57dc4fcf-9acb-4fe4-bbec-c33e8c4322a2'), AIMessage(content=[{'id': 'tooluse_nHMKFbKQQ-SNAVSgs7wpaQ', 'input': {'query': 'weather in LA'}, 'name': 'tavily_search_results_json', 'type': 'tool_use'}], response_metadata={'ResponseMetadata': {'HTTPHeaders': {'connection': 'keep-alive', 'content-length': '321', 'content-type': 'application/json', 'date': 'Mon, 06 Oct 2025 17:59:20 GMT', 'x-amzn-requestid': '83509b13-d0c6-432f-84ad-2ca07b41f829'}, 'HTTPStatusCode': 200, 'RequestId': '83509b13-d0c6-432f-84ad-2ca07b41f829', 'RetryAttempts': 0}, 'metrics': {'latencyMs': 646}, 'stopReason': 'tool_use'}, id='run-e7e2db49-0e60-42c9-b2c7-33c09274eeb0-0', tool_calls=[{'name': 'tavily_search_results_json', 'args': {'query': 'weather in LA'}, 'id': 'tooluse_nHMKFbKQQ-SNAVSgs7wpaQ', 'type': 'tool_call'}], usage_metadata={'input_tokens': 441, 'output_tokens': 60, 'total_tokens': 501})]}, next=('action',), config={'configurable': {'thread_id': '3', 'thread_ts': '1f0a2de2-f4a5-6071-8001-91a8e0a6674c'}}, metadata={'source': 'loop', 'step': 1, 'writes': {'llm': {'messages': [AIMessage(content=[{'id': 'tooluse_nHMKFbKQQ-SNAVSgs7wpaQ', 'input': {'query': 'weather in LA'}, 'name': 'tavily_search_results_json', 'type': 'tool_use'}], response_metadata={'ResponseMetadata': {'HTTPHeaders': {'connection': 'keep-alive', 'content-length': '321', 'content-type': 'application/json', 'date': 'Mon, 06 Oct 2025 17:59:20 GMT', 'x-amzn-requestid': '83509b13-d0c6-432f-84ad-2ca07b41f829'}, 'HTTPStatusCode': 200, 'RequestId': '83509b13-d0c6-432f-84ad-2ca07b41f829', 'RetryAttempts': 0}, 'metrics': {'latencyMs': 646}, 'stopReason': 'tool_use'}, id='run-e7e2db49-0e60-42c9-b2c7-33c09274eeb0-0', tool_calls=[{'name': 'tavily_search_results_json', 'args': {'query': 'weather in LA'}, 'id': 'tooluse_nHMKFbKQQ-SNAVSgs7wpaQ', 'type': 'tool_call'}], usage_metadata={'input_tokens': 441, 'output_tokens': 60, 'total_tokens': 501})]}}}, created_at='2025-10-06T17:59:20.832369+00:00', parent_config=None)\n",
      "--\n",
      "StateSnapshot(values={'messages': [HumanMessage(content='Whats the weather in LA?', id='57dc4fcf-9acb-4fe4-bbec-c33e8c4322a2'), AIMessage(content=[{'id': 'tooluse_nHMKFbKQQ-SNAVSgs7wpaQ', 'input': {'query': 'weather in LA'}, 'name': 'tavily_search_results_json', 'type': 'tool_use'}], response_metadata={'ResponseMetadata': {'HTTPHeaders': {'connection': 'keep-alive', 'content-length': '321', 'content-type': 'application/json', 'date': 'Mon, 06 Oct 2025 17:59:20 GMT', 'x-amzn-requestid': '83509b13-d0c6-432f-84ad-2ca07b41f829'}, 'HTTPStatusCode': 200, 'RequestId': '83509b13-d0c6-432f-84ad-2ca07b41f829', 'RetryAttempts': 0}, 'metrics': {'latencyMs': 646}, 'stopReason': 'tool_use'}, id='run-e7e2db49-0e60-42c9-b2c7-33c09274eeb0-0', tool_calls=[{'name': 'tavily_search_results_json', 'args': {'query': 'current weather in Munich'}, 'id': 'tooluse_nHMKFbKQQ-SNAVSgs7wpaQ', 'type': 'tool_call'}], usage_metadata={'input_tokens': 441, 'output_tokens': 60, 'total_tokens': 501})]}, next=('action',), config={'configurable': {'thread_id': '3', 'thread_ts': '1f0a2de2-f685-636e-8002-30c9b31af640'}}, metadata={'source': 'update', 'step': 2, 'writes': {'llm': {'messages': [HumanMessage(content='Whats the weather in LA?', id='57dc4fcf-9acb-4fe4-bbec-c33e8c4322a2'), AIMessage(content=[{'id': 'tooluse_nHMKFbKQQ-SNAVSgs7wpaQ', 'input': {'query': 'weather in LA'}, 'name': 'tavily_search_results_json', 'type': 'tool_use'}], response_metadata={'ResponseMetadata': {'HTTPHeaders': {'connection': 'keep-alive', 'content-length': '321', 'content-type': 'application/json', 'date': 'Mon, 06 Oct 2025 17:59:20 GMT', 'x-amzn-requestid': '83509b13-d0c6-432f-84ad-2ca07b41f829'}, 'HTTPStatusCode': 200, 'RequestId': '83509b13-d0c6-432f-84ad-2ca07b41f829', 'RetryAttempts': 0}, 'metrics': {'latencyMs': 646}, 'stopReason': 'tool_use'}, id='run-e7e2db49-0e60-42c9-b2c7-33c09274eeb0-0', tool_calls=[{'name': 'tavily_search_results_json', 'args': {'query': 'current weather in Munich'}, 'id': 'tooluse_nHMKFbKQQ-SNAVSgs7wpaQ', 'type': 'tool_call'}], usage_metadata={'input_tokens': 441, 'output_tokens': 60, 'total_tokens': 501})]}}}, created_at='2025-10-06T17:59:21.029054+00:00', parent_config=None)\n",
      "--\n",
      "StateSnapshot(values={'messages': [HumanMessage(content='Whats the weather in LA?', id='57dc4fcf-9acb-4fe4-bbec-c33e8c4322a2'), AIMessage(content=[{'id': 'tooluse_nHMKFbKQQ-SNAVSgs7wpaQ', 'input': {'query': 'weather in LA'}, 'name': 'tavily_search_results_json', 'type': 'tool_use'}], response_metadata={'ResponseMetadata': {'HTTPHeaders': {'connection': 'keep-alive', 'content-length': '321', 'content-type': 'application/json', 'date': 'Mon, 06 Oct 2025 17:59:20 GMT', 'x-amzn-requestid': '83509b13-d0c6-432f-84ad-2ca07b41f829'}, 'HTTPStatusCode': 200, 'RequestId': '83509b13-d0c6-432f-84ad-2ca07b41f829', 'RetryAttempts': 0}, 'metrics': {'latencyMs': 646}, 'stopReason': 'tool_use'}, id='run-e7e2db49-0e60-42c9-b2c7-33c09274eeb0-0', tool_calls=[{'name': 'tavily_search_results_json', 'args': {'query': 'current weather in Munich'}, 'id': 'tooluse_nHMKFbKQQ-SNAVSgs7wpaQ', 'type': 'tool_call'}], usage_metadata={'input_tokens': 441, 'output_tokens': 60, 'total_tokens': 501}), ToolMessage(content=\"[{'url': 'https://www.weather25.com/europe/germany/bavaria/munich?page=month&month=October', 'content': '| Sun | Mon | Tue | Wed | Thu | Fri | Sat |\\\\n ---  ---  --- \\\\n|  |  |  | 1 Partly cloudy 17° /7° | 2 Light rain shower 16° /8° | 3 Patchy rain possible 16° /7° | 4 Overcast 14° /6° |\\\\n| 5 Overcast 14° /7° | 6 Light rain 10° /7° | 7 Light drizzle 10° /8° | 8 Partly cloudy 17° /7° | 9 Patchy rain possible 15° /8° | 10 Sunny 16° /7° | 11 Mist 15° /6° |\\\\n| 12 Mist 16° /6° | 13 Sunny 16° /6° | 14 Mist 14° /5° | 15 Sunny 14° /3° | 16 Sunny 14° /3° | 17 Sunny 14° /3° | 18 Mist 15° /4° | [...] | 19 Sunny 14° /4° | 20 Overcast 18° /8° | 21 Light drizzle 15° /9° | 22 Mist 14° /8° | 23 Partly cloudy 15° /7° | 24 Partly cloudy 15° /8° | 25 Light drizzle 16° /8° |\\\\n| 26 Mist 14° /8° | 27 Partly cloudy 14° /8° | 28 Light rain 14° /7° | 29 Sunny 14° /7° | 30 Patchy light rain 14° /7° | 31 Partly cloudy 13° /7° |  | [...] Partly cloudy\\\\nLight rain shower\\\\nPatchy rain possible\\\\nOvercast\\\\nOvercast\\\\nLight rain\\\\nLight drizzle\\\\nPartly cloudy\\\\nPatchy rain possible\\\\nSunny\\\\nMist\\\\nMist\\\\nSunny\\\\nMist\\\\nSunny\\\\nSunny\\\\nSunny\\\\nMist\\\\nSunny\\\\nOvercast\\\\nLight drizzle\\\\nMist\\\\nPartly cloudy\\\\nPartly cloudy\\\\nLight drizzle\\\\nMist\\\\nPartly cloudy\\\\nLight rain\\\\nSunny\\\\nPatchy light rain\\\\nPartly cloudy\\\\n\\\\n## Explore the weather in Munich in other months\\\\n\\\\n## Munich annual weather'}, {'url': 'https://www.accuweather.com/en/de/munich/80331/october-weather/178086', 'content': 'Get the monthly weather forecast for Munich, Bavaria, Germany, including daily high/low, historical averages, to help you plan ahead.'}]\", name='tavily_search_results_json', id='a291115d-a1c1-4867-940e-c926573479f9', tool_call_id='tooluse_nHMKFbKQQ-SNAVSgs7wpaQ')]}, next=('llm',), config={'configurable': {'thread_id': '3', 'thread_ts': '1f0a2de3-3831-6bdb-8003-3f7993153feb'}}, metadata={'source': 'loop', 'step': 3, 'writes': {'action': {'messages': [ToolMessage(content=\"[{'url': 'https://www.weather25.com/europe/germany/bavaria/munich?page=month&month=October', 'content': '| Sun | Mon | Tue | Wed | Thu | Fri | Sat |\\\\n ---  ---  --- \\\\n|  |  |  | 1 Partly cloudy 17° /7° | 2 Light rain shower 16° /8° | 3 Patchy rain possible 16° /7° | 4 Overcast 14° /6° |\\\\n| 5 Overcast 14° /7° | 6 Light rain 10° /7° | 7 Light drizzle 10° /8° | 8 Partly cloudy 17° /7° | 9 Patchy rain possible 15° /8° | 10 Sunny 16° /7° | 11 Mist 15° /6° |\\\\n| 12 Mist 16° /6° | 13 Sunny 16° /6° | 14 Mist 14° /5° | 15 Sunny 14° /3° | 16 Sunny 14° /3° | 17 Sunny 14° /3° | 18 Mist 15° /4° | [...] | 19 Sunny 14° /4° | 20 Overcast 18° /8° | 21 Light drizzle 15° /9° | 22 Mist 14° /8° | 23 Partly cloudy 15° /7° | 24 Partly cloudy 15° /8° | 25 Light drizzle 16° /8° |\\\\n| 26 Mist 14° /8° | 27 Partly cloudy 14° /8° | 28 Light rain 14° /7° | 29 Sunny 14° /7° | 30 Patchy light rain 14° /7° | 31 Partly cloudy 13° /7° |  | [...] Partly cloudy\\\\nLight rain shower\\\\nPatchy rain possible\\\\nOvercast\\\\nOvercast\\\\nLight rain\\\\nLight drizzle\\\\nPartly cloudy\\\\nPatchy rain possible\\\\nSunny\\\\nMist\\\\nMist\\\\nSunny\\\\nMist\\\\nSunny\\\\nSunny\\\\nSunny\\\\nMist\\\\nSunny\\\\nOvercast\\\\nLight drizzle\\\\nMist\\\\nPartly cloudy\\\\nPartly cloudy\\\\nLight drizzle\\\\nMist\\\\nPartly cloudy\\\\nLight rain\\\\nSunny\\\\nPatchy light rain\\\\nPartly cloudy\\\\n\\\\n## Explore the weather in Munich in other months\\\\n\\\\n## Munich annual weather'}, {'url': 'https://www.accuweather.com/en/de/munich/80331/october-weather/178086', 'content': 'Get the monthly weather forecast for Munich, Bavaria, Germany, including daily high/low, historical averages, to help you plan ahead.'}]\", name='tavily_search_results_json', id='a291115d-a1c1-4867-940e-c926573479f9', tool_call_id='tooluse_nHMKFbKQQ-SNAVSgs7wpaQ')]}}}, created_at='2025-10-06T17:59:27.915470+00:00', parent_config=None)\n",
      "--\n",
      "StateSnapshot(values={'messages': [HumanMessage(content='Whats the weather in LA?', id='57dc4fcf-9acb-4fe4-bbec-c33e8c4322a2'), AIMessage(content=[{'id': 'tooluse_nHMKFbKQQ-SNAVSgs7wpaQ', 'input': {'query': 'weather in LA'}, 'name': 'tavily_search_results_json', 'type': 'tool_use'}], response_metadata={'ResponseMetadata': {'HTTPHeaders': {'connection': 'keep-alive', 'content-length': '321', 'content-type': 'application/json', 'date': 'Mon, 06 Oct 2025 17:59:20 GMT', 'x-amzn-requestid': '83509b13-d0c6-432f-84ad-2ca07b41f829'}, 'HTTPStatusCode': 200, 'RequestId': '83509b13-d0c6-432f-84ad-2ca07b41f829', 'RetryAttempts': 0}, 'metrics': {'latencyMs': 646}, 'stopReason': 'tool_use'}, id='run-e7e2db49-0e60-42c9-b2c7-33c09274eeb0-0', tool_calls=[{'name': 'tavily_search_results_json', 'args': {'query': 'current weather in Munich'}, 'id': 'tooluse_nHMKFbKQQ-SNAVSgs7wpaQ', 'type': 'tool_call'}], usage_metadata={'input_tokens': 441, 'output_tokens': 60, 'total_tokens': 501}), ToolMessage(content=\"[{'url': 'https://www.weather25.com/europe/germany/bavaria/munich?page=month&month=October', 'content': '| Sun | Mon | Tue | Wed | Thu | Fri | Sat |\\\\n ---  ---  --- \\\\n|  |  |  | 1 Partly cloudy 17° /7° | 2 Light rain shower 16° /8° | 3 Patchy rain possible 16° /7° | 4 Overcast 14° /6° |\\\\n| 5 Overcast 14° /7° | 6 Light rain 10° /7° | 7 Light drizzle 10° /8° | 8 Partly cloudy 17° /7° | 9 Patchy rain possible 15° /8° | 10 Sunny 16° /7° | 11 Mist 15° /6° |\\\\n| 12 Mist 16° /6° | 13 Sunny 16° /6° | 14 Mist 14° /5° | 15 Sunny 14° /3° | 16 Sunny 14° /3° | 17 Sunny 14° /3° | 18 Mist 15° /4° | [...] | 19 Sunny 14° /4° | 20 Overcast 18° /8° | 21 Light drizzle 15° /9° | 22 Mist 14° /8° | 23 Partly cloudy 15° /7° | 24 Partly cloudy 15° /8° | 25 Light drizzle 16° /8° |\\\\n| 26 Mist 14° /8° | 27 Partly cloudy 14° /8° | 28 Light rain 14° /7° | 29 Sunny 14° /7° | 30 Patchy light rain 14° /7° | 31 Partly cloudy 13° /7° |  | [...] Partly cloudy\\\\nLight rain shower\\\\nPatchy rain possible\\\\nOvercast\\\\nOvercast\\\\nLight rain\\\\nLight drizzle\\\\nPartly cloudy\\\\nPatchy rain possible\\\\nSunny\\\\nMist\\\\nMist\\\\nSunny\\\\nMist\\\\nSunny\\\\nSunny\\\\nSunny\\\\nMist\\\\nSunny\\\\nOvercast\\\\nLight drizzle\\\\nMist\\\\nPartly cloudy\\\\nPartly cloudy\\\\nLight drizzle\\\\nMist\\\\nPartly cloudy\\\\nLight rain\\\\nSunny\\\\nPatchy light rain\\\\nPartly cloudy\\\\n\\\\n## Explore the weather in Munich in other months\\\\n\\\\n## Munich annual weather'}, {'url': 'https://www.accuweather.com/en/de/munich/80331/october-weather/178086', 'content': 'Get the monthly weather forecast for Munich, Bavaria, Germany, including daily high/low, historical averages, to help you plan ahead.'}]\", name='tavily_search_results_json', id='a291115d-a1c1-4867-940e-c926573479f9', tool_call_id='tooluse_nHMKFbKQQ-SNAVSgs7wpaQ'), AIMessage(content=[{'text': 'The search results provide information about the current weather in Munich, Germany, not Los Angeles. To get the weather for Los Angeles, I will need to perform a new search.', 'type': 'text'}, {'id': 'tooluse_cpVmImqcSPy0Zqr0tzH9dQ', 'input': {'query': 'current weather in Los Angeles'}, 'name': 'tavily_search_results_json', 'type': 'tool_use'}], response_metadata={'ResponseMetadata': {'HTTPHeaders': {'connection': 'keep-alive', 'content-length': '526', 'content-type': 'application/json', 'date': 'Mon, 06 Oct 2025 17:59:29 GMT', 'x-amzn-requestid': '8809bd85-a34b-4607-8c49-507b82c08e7e'}, 'HTTPStatusCode': 200, 'RequestId': '8809bd85-a34b-4607-8c49-507b82c08e7e', 'RetryAttempts': 0}, 'metrics': {'latencyMs': 921}, 'stopReason': 'tool_use'}, id='run-bb530b85-ff65-4bd3-ad65-bd69ced27e20-0', tool_calls=[{'name': 'tavily_search_results_json', 'args': {'query': 'current weather in Los Angeles'}, 'id': 'tooluse_cpVmImqcSPy0Zqr0tzH9dQ', 'type': 'tool_call'}], usage_metadata={'input_tokens': 1254, 'output_tokens': 99, 'total_tokens': 1353})]}, next=('action',), config={'configurable': {'thread_id': '3', 'thread_ts': '1f0a2de3-4368-689b-8004-b51dbeebd852'}}, metadata={'source': 'loop', 'step': 4, 'writes': {'llm': {'messages': [AIMessage(content=[{'text': 'The search results provide information about the current weather in Munich, Germany, not Los Angeles. To get the weather for Los Angeles, I will need to perform a new search.', 'type': 'text'}, {'id': 'tooluse_cpVmImqcSPy0Zqr0tzH9dQ', 'input': {'query': 'current weather in Los Angeles'}, 'name': 'tavily_search_results_json', 'type': 'tool_use'}], response_metadata={'ResponseMetadata': {'HTTPHeaders': {'connection': 'keep-alive', 'content-length': '526', 'content-type': 'application/json', 'date': 'Mon, 06 Oct 2025 17:59:29 GMT', 'x-amzn-requestid': '8809bd85-a34b-4607-8c49-507b82c08e7e'}, 'HTTPStatusCode': 200, 'RequestId': '8809bd85-a34b-4607-8c49-507b82c08e7e', 'RetryAttempts': 0}, 'metrics': {'latencyMs': 921}, 'stopReason': 'tool_use'}, id='run-bb530b85-ff65-4bd3-ad65-bd69ced27e20-0', tool_calls=[{'name': 'tavily_search_results_json', 'args': {'query': 'current weather in Los Angeles'}, 'id': 'tooluse_cpVmImqcSPy0Zqr0tzH9dQ', 'type': 'tool_call'}], usage_metadata={'input_tokens': 1254, 'output_tokens': 99, 'total_tokens': 1353})]}}}, created_at='2025-10-06T17:59:29.091361+00:00', parent_config=None)\n",
      "--\n"
     ]
    }
   ],
   "source": [
    "states = []\n",
    "for state in abot.graph.get_state_history(thread):\n",
    "    print(state)\n",
    "    print(\"--\")\n",
    "    states.append(state)"
   ]
  },
  {
   "cell_type": "markdown",
   "id": "449896c8-6ec6-4166-b640-9cd1530336a0",
   "metadata": {},
   "source": [
    "To fetch the same state as was filmed, the offset below is changed to `-3` from `-1`. This accounts for the initial state `__start__` and the first state that are now stored to state memory with the latest version of software.\n"
   ]
  },
  {
   "cell_type": "code",
   "execution_count": 25,
   "id": "4871f644-b131-4065-b7ce-b82c20a41f11",
   "metadata": {
    "height": 30
   },
   "outputs": [],
   "source": [
    "to_replay = states[-3]"
   ]
  },
  {
   "cell_type": "code",
   "execution_count": 26,
   "id": "8c3d8070-3f36-4cf0-a677-508e54359c8f",
   "metadata": {
    "height": 30
   },
   "outputs": [
    {
     "data": {
      "text/plain": [
       "StateSnapshot(values={'messages': [HumanMessage(content='Whats the weather in LA?', id='57dc4fcf-9acb-4fe4-bbec-c33e8c4322a2'), AIMessage(content=[{'id': 'tooluse_nHMKFbKQQ-SNAVSgs7wpaQ', 'input': {'query': 'weather in LA'}, 'name': 'tavily_search_results_json', 'type': 'tool_use'}], response_metadata={'ResponseMetadata': {'HTTPHeaders': {'connection': 'keep-alive', 'content-length': '321', 'content-type': 'application/json', 'date': 'Mon, 06 Oct 2025 17:59:20 GMT', 'x-amzn-requestid': '83509b13-d0c6-432f-84ad-2ca07b41f829'}, 'HTTPStatusCode': 200, 'RequestId': '83509b13-d0c6-432f-84ad-2ca07b41f829', 'RetryAttempts': 0}, 'metrics': {'latencyMs': 646}, 'stopReason': 'tool_use'}, id='run-e7e2db49-0e60-42c9-b2c7-33c09274eeb0-0', tool_calls=[{'name': 'tavily_search_results_json', 'args': {'query': 'current weather in Munich'}, 'id': 'tooluse_nHMKFbKQQ-SNAVSgs7wpaQ', 'type': 'tool_call'}], usage_metadata={'input_tokens': 441, 'output_tokens': 60, 'total_tokens': 501})]}, next=('action',), config={'configurable': {'thread_id': '3', 'thread_ts': '1f0a2de2-f685-636e-8002-30c9b31af640'}}, metadata={'source': 'update', 'step': 2, 'writes': {'llm': {'messages': [HumanMessage(content='Whats the weather in LA?', id='57dc4fcf-9acb-4fe4-bbec-c33e8c4322a2'), AIMessage(content=[{'id': 'tooluse_nHMKFbKQQ-SNAVSgs7wpaQ', 'input': {'query': 'weather in LA'}, 'name': 'tavily_search_results_json', 'type': 'tool_use'}], response_metadata={'ResponseMetadata': {'HTTPHeaders': {'connection': 'keep-alive', 'content-length': '321', 'content-type': 'application/json', 'date': 'Mon, 06 Oct 2025 17:59:20 GMT', 'x-amzn-requestid': '83509b13-d0c6-432f-84ad-2ca07b41f829'}, 'HTTPStatusCode': 200, 'RequestId': '83509b13-d0c6-432f-84ad-2ca07b41f829', 'RetryAttempts': 0}, 'metrics': {'latencyMs': 646}, 'stopReason': 'tool_use'}, id='run-e7e2db49-0e60-42c9-b2c7-33c09274eeb0-0', tool_calls=[{'name': 'tavily_search_results_json', 'args': {'query': 'current weather in Munich'}, 'id': 'tooluse_nHMKFbKQQ-SNAVSgs7wpaQ', 'type': 'tool_call'}], usage_metadata={'input_tokens': 441, 'output_tokens': 60, 'total_tokens': 501})]}}}, created_at='2025-10-06T17:59:21.029054+00:00', parent_config=None)"
      ]
     },
     "execution_count": 26,
     "metadata": {},
     "output_type": "execute_result"
    }
   ],
   "source": [
    "to_replay"
   ]
  },
  {
   "cell_type": "code",
   "execution_count": 27,
   "id": "98f3be1d-cc4c-41fa-9863-3e386e88e305",
   "metadata": {
    "height": 64
   },
   "outputs": [
    {
     "name": "stdout",
     "output_type": "stream",
     "text": [
      "Calling: {'name': 'tavily_search_results_json', 'args': {'query': 'current weather in Munich'}, 'id': 'tooluse_nHMKFbKQQ-SNAVSgs7wpaQ', 'type': 'tool_call'}\n",
      "Back to the model!\n",
      "{'messages': [ToolMessage(content=\"[{'url': 'https://www.weather25.com/europe/germany/bavaria/munich?page=month&month=October', 'content': 'United States England Australia Canada\\\\n\\\\n°F °C\\\\n\\\\nWeather in October 2025\\\\n\\\\n1. Home\\\\n2. Europe\\\\n3. Germany\\\\n4. Bavaria\\\\n5. Munich\\\\n6. October\\\\n\\\\nLocation was added to My Locations\\\\n\\\\nLocation was removed from My Locations\\\\n\\\\n# Munich weather in October 2025\\\\n\\\\nClick on a day for an hourly weather forecast\\\\n\\\\nOct 6\\\\n\\\\n8 mm\\\\n\\\\n10° / 7°Oct 7\\\\n\\\\n4 mm\\\\n\\\\n10° / 8°Oct 8\\\\n\\\\n0 mm\\\\n\\\\n17° / 7°Thursday\\\\n\\\\nOct 9\\\\n\\\\n0 mm\\\\n\\\\n15° / 8°Friday\\\\n\\\\nOct 10\\\\n\\\\n0 mm\\\\n\\\\n16° / 7°Saturday\\\\n\\\\nOct 11\\\\n\\\\n0 mm\\\\n\\\\n15° / 6°Sunday\\\\n\\\\nOct 12\\\\n\\\\n0 mm\\\\n\\\\n16° / 6°Monday\\\\n\\\\nOct 13\\\\n\\\\n0 mm [...] | Sun | Mon | Tue | Wed | Thu | Fri | Sat |\\\\n ---  ---  --- \\\\n| 1  17° /7° | 2  16° /8° | 3  16° /7° | 4  14° /6° |\\\\n| 5  14° /7° | 6  10° /7° | 7  10° /8° | 8  17° /7° | 9  15° /8° | 10  16° /7° | 11  15° /6° |\\\\n| 12  16° /6° | 13  16° /6° | 14  14° /5° | 15  14° /3° | 16  14° /3° | 17  14° /3° | 18  15° /4° |\\\\n| 19  14° /4° | 20  18° /8° | 21  15° /9° | 22  14° /8° | 23  15° /7° | 24  15° /8° | 25  16° /8° |\\\\n| 26  14° /8° | 27  14° /8° | 28  14° /7° | 29  14° /7° | 30  14° /7° | 31  13° /7° | [...] | Month | Temperatures | Rainy Days | Dry Days | Snowy Days | Rainfall | Weather | More details |\\\\n ---  ---  ---  --- |\\\\n| January | 3° / -3° | 6 | 9 | 15 | 110 mm | Awful | Munich in January |\\\\n| February | 4° / -3° | 5 | 9 | 14 | 80 mm | Awful | Munich in February |\\\\n| March | 9° / 1° | 7 | 16 | 9 | 84 mm | Awful | Munich in March |\\\\n| April | 14° / 4° | 7 | 20 | 4 | 86 mm | Bad | Munich in April |\\\\n| May | 17° / 7° | 13 | 17 | 1 | 228 mm | Ok | Munich in May |'}, {'url': 'https://www.sunheron.com/europe/germany/bavaria/munich-weather-october/', 'content': 'in month\\\\n\\\\nDaylight\\\\n\\\\n11 hours\\\\n\\\\naverage\\\\n\\\\nSunshine\\\\n\\\\n4 hours\\\\n\\\\naverage\\\\n\\\\nHumidity\\\\n\\\\n80 %\\\\n\\\\nDay\\\\n\\\\n15 °C\\\\n\\\\nNight\\\\n\\\\n6 °C\\\\n\\\\nPrecipitation\\\\n\\\\n61 mm\\\\n\\\\nin month\\\\n\\\\nRainy days\\\\n\\\\n10 days\\\\n\\\\nin month\\\\n\\\\nDaylight\\\\n\\\\n11 hours\\\\n\\\\naverage\\\\n\\\\nSunshine\\\\n\\\\n4 hours\\\\n\\\\naverage\\\\n\\\\nHumidity\\\\n\\\\n80 %\\\\n\\\\nOverview: Munich\\\\n\\\\nIn October in Munich, the average air temperature ranges from 15 °C (58 °F) during the day to 6 °C (42 °F) at night. There are 10 days of rain on average, where the rainfall is 61 mm (2.41 in).\\\\n\\\\nExplore more about: [...] 7 °C\\\\n\\\\nWe make the most from 40 years of historical weather data to predict the best weather conditions.\\\\n\\\\n## Weather overview for Munich\\\\n\\\\n### Weather overview\\\\n\\\\nIn October in Munich, the average air temperature ranges from 15 °C (58 °F) during the day to 6 °C (42 °F) at night. There are 10 days of rain on average, where the rainfall is 61 mm (2.41 in).\\\\n\\\\n### Is October a good month to visit Munich? [...] SunheronYour holiday finder\\\\n\\\\nWhere to travel\\\\n\\\\nFind best place for you ->\\\\n\\\\n## africa->\\\\n\\\\nSouth Africa\\\\n\\\\nZanzibar - Tanzania\\\\n\\\\n16 others\\\\n\\\\n## asia->\\\\n\\\\nBali - Indonesia\\\\n\\\\n33 others\\\\n\\\\n## europe->\\\\n\\\\n39 others\\\\n\\\\n## central america->\\\\n\\\\nDominican Republic\\\\n\\\\nCosta Rica\\\\n\\\\nYucatan - Mexico\\\\n\\\\nOaxaca - Mexico\\\\n\\\\n31 others\\\\n\\\\n## Other popular\\\\n\\\\nNorth America\\\\n\\\\nSouth America\\\\n\\\\nMiddle East\\\\n\\\\nAustralia and Oceania\\\\n\\\\nFind destination...\\\\n\\\\n°C°F\\\\n\\\\nBavaria\\\\n\\\\n Home\\\\n Europe\\\\n Germany\\\\n Bavaria\\\\n Munich\\\\n\\\\n# Munich weather in October 2025'}]\", name='tavily_search_results_json', id='5f127dbb-0c24-4621-bb9f-d8ca571afc57', tool_call_id='tooluse_nHMKFbKQQ-SNAVSgs7wpaQ')]}\n",
      "{'messages': [HumanMessage(content='Whats the weather in LA?', id='57dc4fcf-9acb-4fe4-bbec-c33e8c4322a2'), AIMessage(content=[{'id': 'tooluse_nHMKFbKQQ-SNAVSgs7wpaQ', 'input': {'query': 'weather in LA'}, 'name': 'tavily_search_results_json', 'type': 'tool_use'}], response_metadata={'ResponseMetadata': {'HTTPHeaders': {'connection': 'keep-alive', 'content-length': '321', 'content-type': 'application/json', 'date': 'Mon, 06 Oct 2025 17:59:20 GMT', 'x-amzn-requestid': '83509b13-d0c6-432f-84ad-2ca07b41f829'}, 'HTTPStatusCode': 200, 'RequestId': '83509b13-d0c6-432f-84ad-2ca07b41f829', 'RetryAttempts': 0}, 'metrics': {'latencyMs': 646}, 'stopReason': 'tool_use'}, id='run-e7e2db49-0e60-42c9-b2c7-33c09274eeb0-0', tool_calls=[{'name': 'tavily_search_results_json', 'args': {'query': 'current weather in Munich'}, 'id': 'tooluse_nHMKFbKQQ-SNAVSgs7wpaQ', 'type': 'tool_call'}], usage_metadata={'input_tokens': 441, 'output_tokens': 60, 'total_tokens': 501}), ToolMessage(content=\"[{'url': 'https://www.weather25.com/europe/germany/bavaria/munich?page=month&month=October', 'content': 'United States England Australia Canada\\\\n\\\\n°F °C\\\\n\\\\nWeather in October 2025\\\\n\\\\n1. Home\\\\n2. Europe\\\\n3. Germany\\\\n4. Bavaria\\\\n5. Munich\\\\n6. October\\\\n\\\\nLocation was added to My Locations\\\\n\\\\nLocation was removed from My Locations\\\\n\\\\n# Munich weather in October 2025\\\\n\\\\nClick on a day for an hourly weather forecast\\\\n\\\\nOct 6\\\\n\\\\n8 mm\\\\n\\\\n10° / 7°Oct 7\\\\n\\\\n4 mm\\\\n\\\\n10° / 8°Oct 8\\\\n\\\\n0 mm\\\\n\\\\n17° / 7°Thursday\\\\n\\\\nOct 9\\\\n\\\\n0 mm\\\\n\\\\n15° / 8°Friday\\\\n\\\\nOct 10\\\\n\\\\n0 mm\\\\n\\\\n16° / 7°Saturday\\\\n\\\\nOct 11\\\\n\\\\n0 mm\\\\n\\\\n15° / 6°Sunday\\\\n\\\\nOct 12\\\\n\\\\n0 mm\\\\n\\\\n16° / 6°Monday\\\\n\\\\nOct 13\\\\n\\\\n0 mm [...] | Sun | Mon | Tue | Wed | Thu | Fri | Sat |\\\\n ---  ---  --- \\\\n| 1  17° /7° | 2  16° /8° | 3  16° /7° | 4  14° /6° |\\\\n| 5  14° /7° | 6  10° /7° | 7  10° /8° | 8  17° /7° | 9  15° /8° | 10  16° /7° | 11  15° /6° |\\\\n| 12  16° /6° | 13  16° /6° | 14  14° /5° | 15  14° /3° | 16  14° /3° | 17  14° /3° | 18  15° /4° |\\\\n| 19  14° /4° | 20  18° /8° | 21  15° /9° | 22  14° /8° | 23  15° /7° | 24  15° /8° | 25  16° /8° |\\\\n| 26  14° /8° | 27  14° /8° | 28  14° /7° | 29  14° /7° | 30  14° /7° | 31  13° /7° | [...] | Month | Temperatures | Rainy Days | Dry Days | Snowy Days | Rainfall | Weather | More details |\\\\n ---  ---  ---  --- |\\\\n| January | 3° / -3° | 6 | 9 | 15 | 110 mm | Awful | Munich in January |\\\\n| February | 4° / -3° | 5 | 9 | 14 | 80 mm | Awful | Munich in February |\\\\n| March | 9° / 1° | 7 | 16 | 9 | 84 mm | Awful | Munich in March |\\\\n| April | 14° / 4° | 7 | 20 | 4 | 86 mm | Bad | Munich in April |\\\\n| May | 17° / 7° | 13 | 17 | 1 | 228 mm | Ok | Munich in May |'}, {'url': 'https://www.sunheron.com/europe/germany/bavaria/munich-weather-october/', 'content': 'in month\\\\n\\\\nDaylight\\\\n\\\\n11 hours\\\\n\\\\naverage\\\\n\\\\nSunshine\\\\n\\\\n4 hours\\\\n\\\\naverage\\\\n\\\\nHumidity\\\\n\\\\n80 %\\\\n\\\\nDay\\\\n\\\\n15 °C\\\\n\\\\nNight\\\\n\\\\n6 °C\\\\n\\\\nPrecipitation\\\\n\\\\n61 mm\\\\n\\\\nin month\\\\n\\\\nRainy days\\\\n\\\\n10 days\\\\n\\\\nin month\\\\n\\\\nDaylight\\\\n\\\\n11 hours\\\\n\\\\naverage\\\\n\\\\nSunshine\\\\n\\\\n4 hours\\\\n\\\\naverage\\\\n\\\\nHumidity\\\\n\\\\n80 %\\\\n\\\\nOverview: Munich\\\\n\\\\nIn October in Munich, the average air temperature ranges from 15 °C (58 °F) during the day to 6 °C (42 °F) at night. There are 10 days of rain on average, where the rainfall is 61 mm (2.41 in).\\\\n\\\\nExplore more about: [...] 7 °C\\\\n\\\\nWe make the most from 40 years of historical weather data to predict the best weather conditions.\\\\n\\\\n## Weather overview for Munich\\\\n\\\\n### Weather overview\\\\n\\\\nIn October in Munich, the average air temperature ranges from 15 °C (58 °F) during the day to 6 °C (42 °F) at night. There are 10 days of rain on average, where the rainfall is 61 mm (2.41 in).\\\\n\\\\n### Is October a good month to visit Munich? [...] SunheronYour holiday finder\\\\n\\\\nWhere to travel\\\\n\\\\nFind best place for you ->\\\\n\\\\n## africa->\\\\n\\\\nSouth Africa\\\\n\\\\nZanzibar - Tanzania\\\\n\\\\n16 others\\\\n\\\\n## asia->\\\\n\\\\nBali - Indonesia\\\\n\\\\n33 others\\\\n\\\\n## europe->\\\\n\\\\n39 others\\\\n\\\\n## central america->\\\\n\\\\nDominican Republic\\\\n\\\\nCosta Rica\\\\n\\\\nYucatan - Mexico\\\\n\\\\nOaxaca - Mexico\\\\n\\\\n31 others\\\\n\\\\n## Other popular\\\\n\\\\nNorth America\\\\n\\\\nSouth America\\\\n\\\\nMiddle East\\\\n\\\\nAustralia and Oceania\\\\n\\\\nFind destination...\\\\n\\\\n°C°F\\\\n\\\\nBavaria\\\\n\\\\n Home\\\\n Europe\\\\n Germany\\\\n Bavaria\\\\n Munich\\\\n\\\\n# Munich weather in October 2025'}]\", name='tavily_search_results_json', id='5f127dbb-0c24-4621-bb9f-d8ca571afc57', tool_call_id='tooluse_nHMKFbKQQ-SNAVSgs7wpaQ'), AIMessage(content=[{'type': 'text', 'text': 'The search results provide information about the weather in Munich, Germany in October, but not specifically about the weather in Los Angeles, California. To answer the original question about the weather in LA, I will need to perform a new search focused on that location.'}, {'type': 'tool_use', 'name': 'tavily_search_results_json', 'input': {'query': 'current weather in Los Angeles'}, 'id': 'tooluse_VKiMpqa6SLKPdyYnYkKV-w'}], response_metadata={'ResponseMetadata': {'RequestId': 'bf6709dd-a8b5-4362-8718-282600531437', 'HTTPStatusCode': 200, 'HTTPHeaders': {'date': 'Mon, 06 Oct 2025 17:59:36 GMT', 'content-type': 'application/json', 'content-length': '627', 'connection': 'keep-alive', 'x-amzn-requestid': 'bf6709dd-a8b5-4362-8718-282600531437'}, 'RetryAttempts': 0}, 'stopReason': 'tool_use', 'metrics': {'latencyMs': 1628}}, id='run-ba760014-8caa-4cd6-bc3d-28892ef83367-0', tool_calls=[{'name': 'tavily_search_results_json', 'args': {'query': 'current weather in Los Angeles'}, 'id': 'tooluse_VKiMpqa6SLKPdyYnYkKV-w', 'type': 'tool_call'}], usage_metadata={'input_tokens': 2046, 'output_tokens': 115, 'total_tokens': 2161})]}\n",
      "{'messages': [AIMessage(content=[{'type': 'text', 'text': 'The search results provide information about the weather in Munich, Germany in October, but not specifically about the weather in Los Angeles, California. To answer the original question about the weather in LA, I will need to perform a new search focused on that location.'}, {'type': 'tool_use', 'name': 'tavily_search_results_json', 'input': {'query': 'current weather in Los Angeles'}, 'id': 'tooluse_VKiMpqa6SLKPdyYnYkKV-w'}], response_metadata={'ResponseMetadata': {'RequestId': 'bf6709dd-a8b5-4362-8718-282600531437', 'HTTPStatusCode': 200, 'HTTPHeaders': {'date': 'Mon, 06 Oct 2025 17:59:36 GMT', 'content-type': 'application/json', 'content-length': '627', 'connection': 'keep-alive', 'x-amzn-requestid': 'bf6709dd-a8b5-4362-8718-282600531437'}, 'RetryAttempts': 0}, 'stopReason': 'tool_use', 'metrics': {'latencyMs': 1628}}, id='run-ba760014-8caa-4cd6-bc3d-28892ef83367-0', tool_calls=[{'name': 'tavily_search_results_json', 'args': {'query': 'current weather in Los Angeles'}, 'id': 'tooluse_VKiMpqa6SLKPdyYnYkKV-w', 'type': 'tool_call'}], usage_metadata={'input_tokens': 2046, 'output_tokens': 115, 'total_tokens': 2161})]}\n"
     ]
    }
   ],
   "source": [
    "for event in abot.graph.stream(None, to_replay.config):\n",
    "    for k, v in event.items():\n",
    "        print(v)"
   ]
  },
  {
   "cell_type": "markdown",
   "id": "005353dc-630b-4b40-ab19-56c57ac06611",
   "metadata": {},
   "source": [
    "## Go back in time and edit\n"
   ]
  },
  {
   "cell_type": "code",
   "execution_count": 28,
   "id": "0ad8a6cc-65d4-4ce7-87aa-4e67d7c23d7b",
   "metadata": {
    "height": 30
   },
   "outputs": [
    {
     "data": {
      "text/plain": [
       "StateSnapshot(values={'messages': [HumanMessage(content='Whats the weather in LA?', id='57dc4fcf-9acb-4fe4-bbec-c33e8c4322a2'), AIMessage(content=[{'id': 'tooluse_nHMKFbKQQ-SNAVSgs7wpaQ', 'input': {'query': 'weather in LA'}, 'name': 'tavily_search_results_json', 'type': 'tool_use'}], response_metadata={'ResponseMetadata': {'HTTPHeaders': {'connection': 'keep-alive', 'content-length': '321', 'content-type': 'application/json', 'date': 'Mon, 06 Oct 2025 17:59:20 GMT', 'x-amzn-requestid': '83509b13-d0c6-432f-84ad-2ca07b41f829'}, 'HTTPStatusCode': 200, 'RequestId': '83509b13-d0c6-432f-84ad-2ca07b41f829', 'RetryAttempts': 0}, 'metrics': {'latencyMs': 646}, 'stopReason': 'tool_use'}, id='run-e7e2db49-0e60-42c9-b2c7-33c09274eeb0-0', tool_calls=[{'name': 'tavily_search_results_json', 'args': {'query': 'current weather in Munich'}, 'id': 'tooluse_nHMKFbKQQ-SNAVSgs7wpaQ', 'type': 'tool_call'}], usage_metadata={'input_tokens': 441, 'output_tokens': 60, 'total_tokens': 501})]}, next=('action',), config={'configurable': {'thread_id': '3', 'thread_ts': '1f0a2de2-f685-636e-8002-30c9b31af640'}}, metadata={'source': 'update', 'step': 2, 'writes': {'llm': {'messages': [HumanMessage(content='Whats the weather in LA?', id='57dc4fcf-9acb-4fe4-bbec-c33e8c4322a2'), AIMessage(content=[{'id': 'tooluse_nHMKFbKQQ-SNAVSgs7wpaQ', 'input': {'query': 'weather in LA'}, 'name': 'tavily_search_results_json', 'type': 'tool_use'}], response_metadata={'ResponseMetadata': {'HTTPHeaders': {'connection': 'keep-alive', 'content-length': '321', 'content-type': 'application/json', 'date': 'Mon, 06 Oct 2025 17:59:20 GMT', 'x-amzn-requestid': '83509b13-d0c6-432f-84ad-2ca07b41f829'}, 'HTTPStatusCode': 200, 'RequestId': '83509b13-d0c6-432f-84ad-2ca07b41f829', 'RetryAttempts': 0}, 'metrics': {'latencyMs': 646}, 'stopReason': 'tool_use'}, id='run-e7e2db49-0e60-42c9-b2c7-33c09274eeb0-0', tool_calls=[{'name': 'tavily_search_results_json', 'args': {'query': 'current weather in Munich'}, 'id': 'tooluse_nHMKFbKQQ-SNAVSgs7wpaQ', 'type': 'tool_call'}], usage_metadata={'input_tokens': 441, 'output_tokens': 60, 'total_tokens': 501})]}}}, created_at='2025-10-06T17:59:21.029054+00:00', parent_config=None)"
      ]
     },
     "execution_count": 28,
     "metadata": {},
     "output_type": "execute_result"
    }
   ],
   "source": [
    "to_replay"
   ]
  },
  {
   "cell_type": "code",
   "execution_count": 29,
   "id": "592b5e62-a203-433c-92a0-3783f490cde1",
   "metadata": {
    "height": 81
   },
   "outputs": [],
   "source": [
    "_id = to_replay.values[\"messages\"][-1].tool_calls[0][\"id\"]\n",
    "to_replay.values[\"messages\"][-1].tool_calls = [\n",
    "    {\n",
    "        \"name\": \"tavily_search_results_json\",\n",
    "        \"args\": {\"query\": \"current weather in LA, accuweather\"},\n",
    "        \"id\": _id,\n",
    "    }\n",
    "]"
   ]
  },
  {
   "cell_type": "code",
   "execution_count": 30,
   "id": "14fa923c-7e4f-42d1-965f-0f8ccd50fbd7",
   "metadata": {
    "height": 30
   },
   "outputs": [
    {
     "name": "stdout",
     "output_type": "stream",
     "text": [
      "{'messages': [HumanMessage(content='Whats the weather in LA?', id='57dc4fcf-9acb-4fe4-bbec-c33e8c4322a2'), AIMessage(content=[{'id': 'tooluse_nHMKFbKQQ-SNAVSgs7wpaQ', 'input': {'query': 'weather in LA'}, 'name': 'tavily_search_results_json', 'type': 'tool_use'}], response_metadata={'ResponseMetadata': {'HTTPHeaders': {'connection': 'keep-alive', 'content-length': '321', 'content-type': 'application/json', 'date': 'Mon, 06 Oct 2025 17:59:20 GMT', 'x-amzn-requestid': '83509b13-d0c6-432f-84ad-2ca07b41f829'}, 'HTTPStatusCode': 200, 'RequestId': '83509b13-d0c6-432f-84ad-2ca07b41f829', 'RetryAttempts': 0}, 'metrics': {'latencyMs': 646}, 'stopReason': 'tool_use'}, id='run-e7e2db49-0e60-42c9-b2c7-33c09274eeb0-0', tool_calls=[{'name': 'tavily_search_results_json', 'args': {'query': 'current weather in LA, accuweather'}, 'id': 'tooluse_nHMKFbKQQ-SNAVSgs7wpaQ'}], usage_metadata={'input_tokens': 441, 'output_tokens': 60, 'total_tokens': 501})]}\n"
     ]
    }
   ],
   "source": [
    "branch_state = abot.graph.update_state(to_replay.config, to_replay.values)"
   ]
  },
  {
   "cell_type": "code",
   "execution_count": 31,
   "id": "570c6245-2837-4ac5-983b-95f61f3ac10d",
   "metadata": {
    "height": 81
   },
   "outputs": [
    {
     "name": "stdout",
     "output_type": "stream",
     "text": [
      "Calling: {'name': 'tavily_search_results_json', 'args': {'query': 'current weather in LA, accuweather'}, 'id': 'tooluse_nHMKFbKQQ-SNAVSgs7wpaQ', 'type': 'tool_call'}\n",
      "Back to the model!\n",
      "{'messages': [ToolMessage(content='[{\\'url\\': \\'https://www.accuweather.com/en/us/los-angeles/90012/weather-forecast/347625\\', \\'content\\': \"# Los Angeles, CA\\\\n\\\\nLos Angeles\\\\n\\\\nCalifornia\\\\n\\\\n## Around the Globe\\\\n\\\\nAround the Globe\\\\n\\\\n### Hurricane Tracker\\\\n\\\\n### Severe Weather\\\\n\\\\n### Radar & Maps\\\\n\\\\n### News & Features\\\\n\\\\n### Astronomy\\\\n\\\\n### Business\\\\n\\\\n### Climate\\\\n\\\\n### Health\\\\n\\\\n### Recreation\\\\n\\\\n### Sports\\\\n\\\\n### Travel\\\\n\\\\n### Warnings\\\\n\\\\n### Data Suite\\\\n\\\\n### Forensics\\\\n\\\\n### Advertising\\\\n\\\\n### Superior Accuracy™\\\\n\\\\n### Video\\\\n\\\\n### Winter Center\\\\n\\\\n## Today\\\\n\\\\n## Today\\'s Weather\\\\n\\\\nMon, Oct 6\\\\n\\\\nAfter a cloudy start, sunshine returns\\\\nHi: 78° [...] Tonight: Clear this evening followed by areas of low clouds late\\\\nLo: 60°\\\\n\\\\n## Current Weather\\\\n\\\\n10:59 AM\\\\n\\\\n## Looking Ahead\\\\n\\\\nMostly sunny this weekend\\\\n\\\\n## Los Angeles Weather Radar\\\\n\\\\nLos Angeles Weather Radar\\\\n\\\\n## Hourly Weather\\\\n\\\\nrain drop\\\\n\\\\nrain drop\\\\n\\\\nrain drop\\\\n\\\\nrain drop\\\\n\\\\nrain drop\\\\n\\\\nrain drop\\\\n\\\\nrain drop\\\\n\\\\nrain drop\\\\n\\\\nrain drop\\\\n\\\\nrain drop\\\\n\\\\nrain drop\\\\n\\\\nrain drop\\\\n\\\\n## 10-Day Weather Forecast\\\\n\\\\nToday\\\\n\\\\n10/6\\\\n\\\\nDecreasing clouds\\\\n\\\\nNight: Areas of low clouds\\\\n\\\\nTue\\\\n\\\\n10/7\\\\n\\\\nMostly sunny\\\\n\\\\nPartly cloudy\\\\n\\\\nWed\\\\n\\\\n10/8 [...] Likely new Atlantic storm, Pacific \\'canes to highlight week in tropics\\\\n\\\\n17 minutes ago\\\\n\\\\nWeather Forecasts\\\\n\\\\nTemperature swings and some much-needed rain on the way for the East\\\\n\\\\n48 minutes ago\\\\n\\\\nWeather Forecasts\\\\n\\\\nKing tides are coming to the Southeast coast: here\\'s what to know\\\\n\\\\n30 minutes ago\\\\n\\\\nFeatured Stories\\\\n\\\\nWeather News\\\\n\\\\nMoose stranded in Colorado canal hoisted to safety\\\\n\\\\n4 hours ago\\\\n\\\\nAstronomy\\\\n\\\\nDraconid meteor shower 2025: How to see October\\'s shooting stars\\\\n\\\\n21 hours ago\\\\n\\\\nWeather News\"}, {\\'url\\': \\'https://www.accuweather.com/en/us/los-angeles/90012/october-weather/347625\\', \\'content\\': \"# Los Angeles, CA\\\\n\\\\nLos Angeles\\\\n\\\\nCalifornia\\\\n\\\\n## Around the Globe\\\\n\\\\nAround the Globe\\\\n\\\\n### Hurricane Tracker\\\\n\\\\n### Severe Weather\\\\n\\\\n### Radar & Maps\\\\n\\\\n### News & Features\\\\n\\\\n### Astronomy\\\\n\\\\n### Business\\\\n\\\\n### Climate\\\\n\\\\n### Health\\\\n\\\\n### Recreation\\\\n\\\\n### Sports\\\\n\\\\n### Travel\\\\n\\\\n### Warnings\\\\n\\\\n### Data Suite\\\\n\\\\n### Forensics\\\\n\\\\n### Advertising\\\\n\\\\n### Superior Accuracy™\\\\n\\\\n### Video\\\\n\\\\n### Winter Center\\\\n\\\\n## Monthly\\\\n\\\\n## October\\\\n\\\\n## 2025\\\\n\\\\n## Daily\\\\n\\\\n## Temperature Graph\\\\n\\\\n## Further Ahead\\\\n\\\\nFurther Ahead\\\\n\\\\n### November 2025 [...] Weather Forecasts\\\\n\\\\nTemperature swings and some much-needed rain on the way for the East\\\\n\\\\n48 minutes ago\\\\n\\\\nWeather Forecasts\\\\n\\\\nKing tides are coming to the Southeast coast: here\\'s what to know\\\\n\\\\n30 minutes ago\\\\n\\\\nFeatured Stories\\\\n\\\\nWeather News\\\\n\\\\nMoose stranded in Colorado canal hoisted to safety\\\\n\\\\n4 hours ago\\\\n\\\\nAstronomy\\\\n\\\\nDraconid meteor shower 2025: How to see October\\'s shooting stars\\\\n\\\\n21 hours ago\\\\n\\\\nWeather News\\\\n\\\\nConservationist Jane Goodall dies at 91\\\\n\\\\n4 days ago\\\\n\\\\nWeather News [...] ### December 2025\\\\n\\\\n### January 2026\\\\n\\\\n## Around the Globe\\\\n\\\\nAround the Globe\\\\n\\\\n### Hurricane Tracker\\\\n\\\\n### Severe Weather\\\\n\\\\n### Radar & Maps\\\\n\\\\n### News\\\\n\\\\n### Video\\\\n\\\\n### Winter Center\\\\n\\\\nTop Stories\\\\n\\\\nSevere Weather\\\\n\\\\nThe First EF5 tornado since 2013 has been confirmed in North Dakota\\\\n\\\\n1 hour ago\\\\n\\\\nHurricane\\\\n\\\\nTropical wind and rainstorm to threaten East Coast with beach erosion,...\\\\n\\\\n1 hour ago\\\\n\\\\nHurricane\\\\n\\\\nLikely new Atlantic storm, Pacific \\'canes to highlight week in tropics\\\\n\\\\n17 minutes ago\"}]', name='tavily_search_results_json', id='1e3c4f28-7e07-45c4-b229-5d8219aa5ff5', tool_call_id='tooluse_nHMKFbKQQ-SNAVSgs7wpaQ')]}\n",
      "{'messages': [HumanMessage(content='Whats the weather in LA?', id='57dc4fcf-9acb-4fe4-bbec-c33e8c4322a2'), AIMessage(content=[{'id': 'tooluse_nHMKFbKQQ-SNAVSgs7wpaQ', 'input': {'query': 'weather in LA'}, 'name': 'tavily_search_results_json', 'type': 'tool_use'}], response_metadata={'ResponseMetadata': {'HTTPHeaders': {'connection': 'keep-alive', 'content-length': '321', 'content-type': 'application/json', 'date': 'Mon, 06 Oct 2025 17:59:20 GMT', 'x-amzn-requestid': '83509b13-d0c6-432f-84ad-2ca07b41f829'}, 'HTTPStatusCode': 200, 'RequestId': '83509b13-d0c6-432f-84ad-2ca07b41f829', 'RetryAttempts': 0}, 'metrics': {'latencyMs': 646}, 'stopReason': 'tool_use'}, id='run-e7e2db49-0e60-42c9-b2c7-33c09274eeb0-0', tool_calls=[{'name': 'tavily_search_results_json', 'args': {'query': 'current weather in LA, accuweather'}, 'id': 'tooluse_nHMKFbKQQ-SNAVSgs7wpaQ', 'type': 'tool_call'}], usage_metadata={'input_tokens': 441, 'output_tokens': 60, 'total_tokens': 501}), ToolMessage(content='[{\\'url\\': \\'https://www.accuweather.com/en/us/los-angeles/90012/weather-forecast/347625\\', \\'content\\': \"# Los Angeles, CA\\\\n\\\\nLos Angeles\\\\n\\\\nCalifornia\\\\n\\\\n## Around the Globe\\\\n\\\\nAround the Globe\\\\n\\\\n### Hurricane Tracker\\\\n\\\\n### Severe Weather\\\\n\\\\n### Radar & Maps\\\\n\\\\n### News & Features\\\\n\\\\n### Astronomy\\\\n\\\\n### Business\\\\n\\\\n### Climate\\\\n\\\\n### Health\\\\n\\\\n### Recreation\\\\n\\\\n### Sports\\\\n\\\\n### Travel\\\\n\\\\n### Warnings\\\\n\\\\n### Data Suite\\\\n\\\\n### Forensics\\\\n\\\\n### Advertising\\\\n\\\\n### Superior Accuracy™\\\\n\\\\n### Video\\\\n\\\\n### Winter Center\\\\n\\\\n## Today\\\\n\\\\n## Today\\'s Weather\\\\n\\\\nMon, Oct 6\\\\n\\\\nAfter a cloudy start, sunshine returns\\\\nHi: 78° [...] Tonight: Clear this evening followed by areas of low clouds late\\\\nLo: 60°\\\\n\\\\n## Current Weather\\\\n\\\\n10:59 AM\\\\n\\\\n## Looking Ahead\\\\n\\\\nMostly sunny this weekend\\\\n\\\\n## Los Angeles Weather Radar\\\\n\\\\nLos Angeles Weather Radar\\\\n\\\\n## Hourly Weather\\\\n\\\\nrain drop\\\\n\\\\nrain drop\\\\n\\\\nrain drop\\\\n\\\\nrain drop\\\\n\\\\nrain drop\\\\n\\\\nrain drop\\\\n\\\\nrain drop\\\\n\\\\nrain drop\\\\n\\\\nrain drop\\\\n\\\\nrain drop\\\\n\\\\nrain drop\\\\n\\\\nrain drop\\\\n\\\\n## 10-Day Weather Forecast\\\\n\\\\nToday\\\\n\\\\n10/6\\\\n\\\\nDecreasing clouds\\\\n\\\\nNight: Areas of low clouds\\\\n\\\\nTue\\\\n\\\\n10/7\\\\n\\\\nMostly sunny\\\\n\\\\nPartly cloudy\\\\n\\\\nWed\\\\n\\\\n10/8 [...] Likely new Atlantic storm, Pacific \\'canes to highlight week in tropics\\\\n\\\\n17 minutes ago\\\\n\\\\nWeather Forecasts\\\\n\\\\nTemperature swings and some much-needed rain on the way for the East\\\\n\\\\n48 minutes ago\\\\n\\\\nWeather Forecasts\\\\n\\\\nKing tides are coming to the Southeast coast: here\\'s what to know\\\\n\\\\n30 minutes ago\\\\n\\\\nFeatured Stories\\\\n\\\\nWeather News\\\\n\\\\nMoose stranded in Colorado canal hoisted to safety\\\\n\\\\n4 hours ago\\\\n\\\\nAstronomy\\\\n\\\\nDraconid meteor shower 2025: How to see October\\'s shooting stars\\\\n\\\\n21 hours ago\\\\n\\\\nWeather News\"}, {\\'url\\': \\'https://www.accuweather.com/en/us/los-angeles/90012/october-weather/347625\\', \\'content\\': \"# Los Angeles, CA\\\\n\\\\nLos Angeles\\\\n\\\\nCalifornia\\\\n\\\\n## Around the Globe\\\\n\\\\nAround the Globe\\\\n\\\\n### Hurricane Tracker\\\\n\\\\n### Severe Weather\\\\n\\\\n### Radar & Maps\\\\n\\\\n### News & Features\\\\n\\\\n### Astronomy\\\\n\\\\n### Business\\\\n\\\\n### Climate\\\\n\\\\n### Health\\\\n\\\\n### Recreation\\\\n\\\\n### Sports\\\\n\\\\n### Travel\\\\n\\\\n### Warnings\\\\n\\\\n### Data Suite\\\\n\\\\n### Forensics\\\\n\\\\n### Advertising\\\\n\\\\n### Superior Accuracy™\\\\n\\\\n### Video\\\\n\\\\n### Winter Center\\\\n\\\\n## Monthly\\\\n\\\\n## October\\\\n\\\\n## 2025\\\\n\\\\n## Daily\\\\n\\\\n## Temperature Graph\\\\n\\\\n## Further Ahead\\\\n\\\\nFurther Ahead\\\\n\\\\n### November 2025 [...] Weather Forecasts\\\\n\\\\nTemperature swings and some much-needed rain on the way for the East\\\\n\\\\n48 minutes ago\\\\n\\\\nWeather Forecasts\\\\n\\\\nKing tides are coming to the Southeast coast: here\\'s what to know\\\\n\\\\n30 minutes ago\\\\n\\\\nFeatured Stories\\\\n\\\\nWeather News\\\\n\\\\nMoose stranded in Colorado canal hoisted to safety\\\\n\\\\n4 hours ago\\\\n\\\\nAstronomy\\\\n\\\\nDraconid meteor shower 2025: How to see October\\'s shooting stars\\\\n\\\\n21 hours ago\\\\n\\\\nWeather News\\\\n\\\\nConservationist Jane Goodall dies at 91\\\\n\\\\n4 days ago\\\\n\\\\nWeather News [...] ### December 2025\\\\n\\\\n### January 2026\\\\n\\\\n## Around the Globe\\\\n\\\\nAround the Globe\\\\n\\\\n### Hurricane Tracker\\\\n\\\\n### Severe Weather\\\\n\\\\n### Radar & Maps\\\\n\\\\n### News\\\\n\\\\n### Video\\\\n\\\\n### Winter Center\\\\n\\\\nTop Stories\\\\n\\\\nSevere Weather\\\\n\\\\nThe First EF5 tornado since 2013 has been confirmed in North Dakota\\\\n\\\\n1 hour ago\\\\n\\\\nHurricane\\\\n\\\\nTropical wind and rainstorm to threaten East Coast with beach erosion,...\\\\n\\\\n1 hour ago\\\\n\\\\nHurricane\\\\n\\\\nLikely new Atlantic storm, Pacific \\'canes to highlight week in tropics\\\\n\\\\n17 minutes ago\"}]', name='tavily_search_results_json', id='1e3c4f28-7e07-45c4-b229-5d8219aa5ff5', tool_call_id='tooluse_nHMKFbKQQ-SNAVSgs7wpaQ'), AIMessage(content='Based on the search results, the current weather in Los Angeles, California is:\\n\\n- Mostly sunny today, with a high of 78°F and a low of 60°F. \\n- The weekend is expected to be mostly sunny as well.\\n- There are no major weather events or storms currently affecting the Los Angeles area.\\n\\nThe search results provide a good overview of the current and upcoming weather conditions in Los Angeles. I was able to find the key details about the temperature, sky conditions, and forecast for the next few days.', response_metadata={'ResponseMetadata': {'RequestId': 'b013e4e2-7720-4071-92ae-7a75b10241b1', 'HTTPStatusCode': 200, 'HTTPHeaders': {'date': 'Mon, 06 Oct 2025 17:59:46 GMT', 'content-type': 'application/json', 'content-length': '717', 'connection': 'keep-alive', 'x-amzn-requestid': 'b013e4e2-7720-4071-92ae-7a75b10241b1'}, 'RetryAttempts': 0}, 'stopReason': 'end_turn', 'metrics': {'latencyMs': 1625}}, id='run-f7b722ed-2916-4aaa-89ef-98fe39963e51-0', usage_metadata={'input_tokens': 1842, 'output_tokens': 117, 'total_tokens': 1959})]}\n",
      "{'messages': [AIMessage(content='Based on the search results, the current weather in Los Angeles, California is:\\n\\n- Mostly sunny today, with a high of 78°F and a low of 60°F. \\n- The weekend is expected to be mostly sunny as well.\\n- There are no major weather events or storms currently affecting the Los Angeles area.\\n\\nThe search results provide a good overview of the current and upcoming weather conditions in Los Angeles. I was able to find the key details about the temperature, sky conditions, and forecast for the next few days.', response_metadata={'ResponseMetadata': {'RequestId': 'b013e4e2-7720-4071-92ae-7a75b10241b1', 'HTTPStatusCode': 200, 'HTTPHeaders': {'date': 'Mon, 06 Oct 2025 17:59:46 GMT', 'content-type': 'application/json', 'content-length': '717', 'connection': 'keep-alive', 'x-amzn-requestid': 'b013e4e2-7720-4071-92ae-7a75b10241b1'}, 'RetryAttempts': 0}, 'stopReason': 'end_turn', 'metrics': {'latencyMs': 1625}}, id='run-f7b722ed-2916-4aaa-89ef-98fe39963e51-0', usage_metadata={'input_tokens': 1842, 'output_tokens': 117, 'total_tokens': 1959})]}\n"
     ]
    }
   ],
   "source": [
    "for event in abot.graph.stream(None, branch_state):\n",
    "    for k, v in event.items():\n",
    "        if k != \"__end__\":\n",
    "            print(v)"
   ]
  },
  {
   "cell_type": "markdown",
   "id": "f1016ce7-368d-4922-9044-fcdfd47c273b",
   "metadata": {},
   "source": [
    "## Add message to a state at a given time\n"
   ]
  },
  {
   "cell_type": "code",
   "execution_count": 32,
   "id": "6b910915-b087-4d35-afff-0ec30a5852f1",
   "metadata": {
    "height": 30
   },
   "outputs": [
    {
     "data": {
      "text/plain": [
       "StateSnapshot(values={'messages': [HumanMessage(content='Whats the weather in LA?', id='57dc4fcf-9acb-4fe4-bbec-c33e8c4322a2'), AIMessage(content=[{'id': 'tooluse_nHMKFbKQQ-SNAVSgs7wpaQ', 'input': {'query': 'weather in LA'}, 'name': 'tavily_search_results_json', 'type': 'tool_use'}], response_metadata={'ResponseMetadata': {'HTTPHeaders': {'connection': 'keep-alive', 'content-length': '321', 'content-type': 'application/json', 'date': 'Mon, 06 Oct 2025 17:59:20 GMT', 'x-amzn-requestid': '83509b13-d0c6-432f-84ad-2ca07b41f829'}, 'HTTPStatusCode': 200, 'RequestId': '83509b13-d0c6-432f-84ad-2ca07b41f829', 'RetryAttempts': 0}, 'metrics': {'latencyMs': 646}, 'stopReason': 'tool_use'}, id='run-e7e2db49-0e60-42c9-b2c7-33c09274eeb0-0', tool_calls=[{'name': 'tavily_search_results_json', 'args': {'query': 'current weather in LA, accuweather'}, 'id': 'tooluse_nHMKFbKQQ-SNAVSgs7wpaQ'}], usage_metadata={'input_tokens': 441, 'output_tokens': 60, 'total_tokens': 501})]}, next=('action',), config={'configurable': {'thread_id': '3', 'thread_ts': '1f0a2de2-f685-636e-8002-30c9b31af640'}}, metadata={'source': 'update', 'step': 2, 'writes': {'llm': {'messages': [HumanMessage(content='Whats the weather in LA?', id='57dc4fcf-9acb-4fe4-bbec-c33e8c4322a2'), AIMessage(content=[{'id': 'tooluse_nHMKFbKQQ-SNAVSgs7wpaQ', 'input': {'query': 'weather in LA'}, 'name': 'tavily_search_results_json', 'type': 'tool_use'}], response_metadata={'ResponseMetadata': {'HTTPHeaders': {'connection': 'keep-alive', 'content-length': '321', 'content-type': 'application/json', 'date': 'Mon, 06 Oct 2025 17:59:20 GMT', 'x-amzn-requestid': '83509b13-d0c6-432f-84ad-2ca07b41f829'}, 'HTTPStatusCode': 200, 'RequestId': '83509b13-d0c6-432f-84ad-2ca07b41f829', 'RetryAttempts': 0}, 'metrics': {'latencyMs': 646}, 'stopReason': 'tool_use'}, id='run-e7e2db49-0e60-42c9-b2c7-33c09274eeb0-0', tool_calls=[{'name': 'tavily_search_results_json', 'args': {'query': 'current weather in Munich'}, 'id': 'tooluse_nHMKFbKQQ-SNAVSgs7wpaQ', 'type': 'tool_call'}], usage_metadata={'input_tokens': 441, 'output_tokens': 60, 'total_tokens': 501})]}}}, created_at='2025-10-06T17:59:21.029054+00:00', parent_config=None)"
      ]
     },
     "execution_count": 32,
     "metadata": {},
     "output_type": "execute_result"
    }
   ],
   "source": [
    "to_replay"
   ]
  },
  {
   "cell_type": "code",
   "execution_count": 33,
   "id": "c4feb6cc-5129-4a99-bb45-851bc07b5709",
   "metadata": {
    "height": 30
   },
   "outputs": [],
   "source": [
    "_id = to_replay.values[\"messages\"][-1].tool_calls[0][\"id\"]"
   ]
  },
  {
   "cell_type": "code",
   "execution_count": 34,
   "id": "e85a02b4-96cc-4b01-8792-397a774eb499",
   "metadata": {
    "height": 98
   },
   "outputs": [],
   "source": [
    "# Lets update the humidity to something that is impossible\n",
    "\n",
    "state_update = {\n",
    "    \"messages\": [\n",
    "        ToolMessage(\n",
    "            tool_call_id=_id,\n",
    "            name=\"tavily_search_results_json\",\n",
    "            content=\"23 degree celcius, 110 percent humidity\",\n",
    "        )\n",
    "    ]\n",
    "}"
   ]
  },
  {
   "cell_type": "code",
   "execution_count": 35,
   "id": "ae8b86a6-5e20-4252-b1d8-009b8318345a",
   "metadata": {
    "height": 81
   },
   "outputs": [],
   "source": [
    "branch_and_add = abot.graph.update_state(\n",
    "    to_replay.config, state_update, as_node=\"action\"\n",
    ")"
   ]
  },
  {
   "cell_type": "code",
   "execution_count": 36,
   "id": "af925917-b746-48c9-ac74-62fefbe5246c",
   "metadata": {
    "height": 64
   },
   "outputs": [
    {
     "name": "stdout",
     "output_type": "stream",
     "text": [
      "{'messages': [HumanMessage(content='Whats the weather in LA?', id='57dc4fcf-9acb-4fe4-bbec-c33e8c4322a2'), AIMessage(content=[{'id': 'tooluse_nHMKFbKQQ-SNAVSgs7wpaQ', 'input': {'query': 'weather in LA'}, 'name': 'tavily_search_results_json', 'type': 'tool_use'}], response_metadata={'ResponseMetadata': {'HTTPHeaders': {'connection': 'keep-alive', 'content-length': '321', 'content-type': 'application/json', 'date': 'Mon, 06 Oct 2025 17:59:20 GMT', 'x-amzn-requestid': '83509b13-d0c6-432f-84ad-2ca07b41f829'}, 'HTTPStatusCode': 200, 'RequestId': '83509b13-d0c6-432f-84ad-2ca07b41f829', 'RetryAttempts': 0}, 'metrics': {'latencyMs': 646}, 'stopReason': 'tool_use'}, id='run-e7e2db49-0e60-42c9-b2c7-33c09274eeb0-0', tool_calls=[{'name': 'tavily_search_results_json', 'args': {'query': 'current weather in Munich'}, 'id': 'tooluse_nHMKFbKQQ-SNAVSgs7wpaQ', 'type': 'tool_call'}], usage_metadata={'input_tokens': 441, 'output_tokens': 60, 'total_tokens': 501}), ToolMessage(content='23 degree celcius, 110 percent humidity', name='tavily_search_results_json', id='8dac0f9a-4779-49d2-ad64-73117a3f7c30', tool_call_id='tooluse_nHMKFbKQQ-SNAVSgs7wpaQ'), AIMessage(content=[{'type': 'text', 'text': 'Oops, my apologies, I misread your request and looked up the weather in Munich instead of Los Angeles. Let me try again:'}, {'type': 'tool_use', 'name': 'tavily_search_results_json', 'input': {'query': 'current weather in Los Angeles'}, 'id': 'tooluse_j6NBNgo3T7iVLv5vZgQnOw'}], response_metadata={'ResponseMetadata': {'RequestId': '6b77ee0b-35af-46fd-b73a-eecc0cb39b8b', 'HTTPStatusCode': 200, 'HTTPHeaders': {'date': 'Mon, 06 Oct 2025 17:59:47 GMT', 'content-type': 'application/json', 'content-length': '471', 'connection': 'keep-alive', 'x-amzn-requestid': '6b77ee0b-35af-46fd-b73a-eecc0cb39b8b'}, 'RetryAttempts': 0}, 'stopReason': 'tool_use', 'metrics': {'latencyMs': 1026}}, id='run-d6e3202d-9232-45a1-97b7-65a534c20fc2-0', tool_calls=[{'name': 'tavily_search_results_json', 'args': {'query': 'current weather in Los Angeles'}, 'id': 'tooluse_j6NBNgo3T7iVLv5vZgQnOw', 'type': 'tool_call'}], usage_metadata={'input_tokens': 525, 'output_tokens': 94, 'total_tokens': 619})]}\n",
      "{'messages': [AIMessage(content=[{'type': 'text', 'text': 'Oops, my apologies, I misread your request and looked up the weather in Munich instead of Los Angeles. Let me try again:'}, {'type': 'tool_use', 'name': 'tavily_search_results_json', 'input': {'query': 'current weather in Los Angeles'}, 'id': 'tooluse_j6NBNgo3T7iVLv5vZgQnOw'}], response_metadata={'ResponseMetadata': {'RequestId': '6b77ee0b-35af-46fd-b73a-eecc0cb39b8b', 'HTTPStatusCode': 200, 'HTTPHeaders': {'date': 'Mon, 06 Oct 2025 17:59:47 GMT', 'content-type': 'application/json', 'content-length': '471', 'connection': 'keep-alive', 'x-amzn-requestid': '6b77ee0b-35af-46fd-b73a-eecc0cb39b8b'}, 'RetryAttempts': 0}, 'stopReason': 'tool_use', 'metrics': {'latencyMs': 1026}}, id='run-d6e3202d-9232-45a1-97b7-65a534c20fc2-0', tool_calls=[{'name': 'tavily_search_results_json', 'args': {'query': 'current weather in Los Angeles'}, 'id': 'tooluse_j6NBNgo3T7iVLv5vZgQnOw', 'type': 'tool_call'}], usage_metadata={'input_tokens': 525, 'output_tokens': 94, 'total_tokens': 619})]}\n"
     ]
    }
   ],
   "source": [
    "for event in abot.graph.stream(None, branch_and_add):\n",
    "    for k, v in event.items():\n",
    "        print(v)"
   ]
  },
  {
   "cell_type": "markdown",
   "id": "a6b1de51-f1dd-4719-89e6-01c21d2b304e",
   "metadata": {},
   "source": [
    "# Extra Practice\n"
   ]
  },
  {
   "cell_type": "markdown",
   "id": "31e06033-59fd-4d6b-8891-fb8bc2d7a037",
   "metadata": {},
   "source": [
    "## Build a small graph\n",
    "\n",
    "This is a small simple graph you can tinker with if you want more insight into controlling state memory.\n"
   ]
  },
  {
   "cell_type": "code",
   "execution_count": 37,
   "id": "7614683e-1c13-4518-b464-263fb91be761",
   "metadata": {
    "height": 64
   },
   "outputs": [],
   "source": [
    "from dotenv import load_dotenv\n",
    "\n",
    "_ = load_dotenv()"
   ]
  },
  {
   "cell_type": "code",
   "execution_count": 38,
   "id": "efbef86a-75fe-416f-99ab-70b181d934dc",
   "metadata": {
    "height": 81
   },
   "outputs": [],
   "source": [
    "from langgraph.graph import StateGraph, END\n",
    "from typing import TypedDict, Annotated\n",
    "import operator"
   ]
  },
  {
   "cell_type": "markdown",
   "id": "67c972f7-5a14-49da-9d82-37105a6637ed",
   "metadata": {},
   "source": [
    "Define a simple 2 node graph with the following state: -`lnode`: last node -`scratch`: a scratchpad location -`count` : a counter that is incremented each step\n"
   ]
  },
  {
   "cell_type": "code",
   "execution_count": 39,
   "id": "b846f637-5e98-4a7d-9ca0-5144302b7cef",
   "metadata": {
    "height": 81
   },
   "outputs": [],
   "source": [
    "class AgentState(TypedDict):\n",
    "    lnode: str\n",
    "    scratch: str\n",
    "    count: Annotated[int, operator.add]"
   ]
  },
  {
   "cell_type": "code",
   "execution_count": 40,
   "id": "b8bb1c6d-41b7-4f5b-807b-ecbdec82d8d6",
   "metadata": {
    "height": 183
   },
   "outputs": [],
   "source": [
    "def node1(state: AgentState):\n",
    "    print(f\"node1, count:{state['count']}\")\n",
    "    return {\n",
    "        \"lnode\": \"node_1\",\n",
    "        \"count\": 1,\n",
    "    }\n",
    "\n",
    "\n",
    "def node2(state: AgentState):\n",
    "    print(f\"node2, count:{state['count']}\")\n",
    "    return {\n",
    "        \"lnode\": \"node_2\",\n",
    "        \"count\": 1,\n",
    "    }"
   ]
  },
  {
   "cell_type": "markdown",
   "id": "6adc403b-10d2-4a6c-bd21-c84bb8e0c8fc",
   "metadata": {},
   "source": [
    "The graph goes N1->N2->N1... but breaks after count reaches 3.\n"
   ]
  },
  {
   "cell_type": "code",
   "execution_count": 41,
   "id": "b2c6d249-4793-41c5-8e80-40f1eedc4baf",
   "metadata": {
    "height": 47
   },
   "outputs": [],
   "source": [
    "def should_continue(state):\n",
    "    return state[\"count\"] < 3"
   ]
  },
  {
   "cell_type": "code",
   "execution_count": 42,
   "id": "4e3721d9-4508-48fa-9be0-93af20144072",
   "metadata": {
    "height": 166
   },
   "outputs": [],
   "source": [
    "builder = StateGraph(AgentState)\n",
    "builder.add_node(\"Node1\", node1)\n",
    "builder.add_node(\"Node2\", node2)\n",
    "\n",
    "builder.add_edge(\"Node1\", \"Node2\")\n",
    "builder.add_conditional_edges(\"Node2\", should_continue, {True: \"Node1\", False: END})\n",
    "builder.set_entry_point(\"Node1\")"
   ]
  },
  {
   "cell_type": "code",
   "execution_count": 43,
   "id": "8d35d70c-daeb-49c1-9b7c-90cc2a7ca142",
   "metadata": {
    "height": 47
   },
   "outputs": [],
   "source": [
    "memory = MemorySaver()\n",
    "graph = builder.compile(checkpointer=memory)"
   ]
  },
  {
   "cell_type": "markdown",
   "id": "c57051f5-f7fb-4be5-a2f5-21cb1aa4fecb",
   "metadata": {},
   "source": [
    "### Run it!\n",
    "\n",
    "Now, set the thread and run!\n"
   ]
  },
  {
   "cell_type": "code",
   "execution_count": 44,
   "id": "edba3a1a-84a7-45eb-a6ee-74a612b68d54",
   "metadata": {
    "height": 47
   },
   "outputs": [
    {
     "name": "stdout",
     "output_type": "stream",
     "text": [
      "node1, count:0\n",
      "node2, count:1\n",
      "node1, count:2\n",
      "node2, count:3\n"
     ]
    },
    {
     "data": {
      "text/plain": [
       "{'lnode': 'node_2', 'scratch': 'hi', 'count': 4}"
      ]
     },
     "execution_count": 44,
     "metadata": {},
     "output_type": "execute_result"
    }
   ],
   "source": [
    "thread = {\"configurable\": {\"thread_id\": str(1)}}\n",
    "graph.invoke({\"count\": 0, \"scratch\": \"hi\"}, thread)"
   ]
  },
  {
   "cell_type": "markdown",
   "id": "2ce7b035-bfdb-4642-8750-47d188277423",
   "metadata": {},
   "source": [
    "### Look at current state\n"
   ]
  },
  {
   "cell_type": "markdown",
   "id": "43324904-a6f4-4299-86de-e0218e4cb225",
   "metadata": {},
   "source": [
    "Get the current state. Note the `values` which are the AgentState. Note the `config` and the `thread_ts`. You will be using those to refer to snapshots below.\n"
   ]
  },
  {
   "cell_type": "code",
   "execution_count": 45,
   "id": "f2513b41-31b2-46e6-84f6-0c519f697973",
   "metadata": {
    "height": 30
   },
   "outputs": [
    {
     "data": {
      "text/plain": [
       "StateSnapshot(values={'lnode': 'node_2', 'scratch': 'hi', 'count': 4}, next=(), config={'configurable': {'thread_id': '1', 'thread_ts': '1f0a2de3-fe6c-6ba0-8004-1e05eba43a0f'}}, metadata={'source': 'loop', 'step': 4, 'writes': {'Node2': {'count': 1, 'lnode': 'node_2'}}}, created_at='2025-10-06T17:59:48.701447+00:00', parent_config=None)"
      ]
     },
     "execution_count": 45,
     "metadata": {},
     "output_type": "execute_result"
    }
   ],
   "source": [
    "graph.get_state(thread)"
   ]
  },
  {
   "cell_type": "markdown",
   "id": "7f7be4ae-24f0-4362-bd99-55ad38fe0112",
   "metadata": {},
   "source": [
    "View all the statesnapshots in memory. You can use the displayed `count` agentstate variable to help track what you see. Notice the most recent snapshots are returned by the iterator first. Also note that there is a handy `step` variable in the metadata that counts the number of steps in the graph execution. This is a bit detailed - but you can also notice that the _parent_config_ is the _config_ of the previous node. At initial startup, additional states are inserted into memory to create a parent. This is something to check when you branch or _time travel_ below.\n"
   ]
  },
  {
   "cell_type": "markdown",
   "id": "18647be0-c7c6-4ec5-9454-54a034fcd053",
   "metadata": {},
   "source": [
    "### Look at state history\n"
   ]
  },
  {
   "cell_type": "code",
   "execution_count": 46,
   "id": "686fa197-c97f-4ae6-82d2-938bbe5542c1",
   "metadata": {
    "height": 47
   },
   "outputs": [
    {
     "name": "stdout",
     "output_type": "stream",
     "text": [
      "StateSnapshot(values={'count': 0}, next=('__start__',), config={'configurable': {'thread_id': '1', 'thread_ts': '1f0a2de3-fe1b-6182-bfff-b206c21071d9'}}, metadata={'source': 'input', 'step': -1, 'writes': {'count': 0, 'scratch': 'hi'}}, created_at='2025-10-06T17:59:48.668004+00:00', parent_config=None) \n",
      "\n",
      "StateSnapshot(values={'scratch': 'hi', 'count': 0}, next=('Node1',), config={'configurable': {'thread_id': '1', 'thread_ts': '1f0a2de3-fe22-67dd-8000-468894139ec5'}}, metadata={'source': 'loop', 'step': 0, 'writes': None}, created_at='2025-10-06T17:59:48.671035+00:00', parent_config=None) \n",
      "\n",
      "StateSnapshot(values={'lnode': 'node_1', 'scratch': 'hi', 'count': 1}, next=('Node2',), config={'configurable': {'thread_id': '1', 'thread_ts': '1f0a2de3-fe30-63f0-8001-6b9a26b37426'}}, metadata={'source': 'loop', 'step': 1, 'writes': {'Node1': {'count': 1, 'lnode': 'node_1'}}}, created_at='2025-10-06T17:59:48.676668+00:00', parent_config=None) \n",
      "\n",
      "StateSnapshot(values={'lnode': 'node_2', 'scratch': 'hi', 'count': 2}, next=('Node1',), config={'configurable': {'thread_id': '1', 'thread_ts': '1f0a2de3-fe45-6cc4-8002-f04d29e35130'}}, metadata={'source': 'loop', 'step': 2, 'writes': {'Node2': {'count': 1, 'lnode': 'node_2'}}}, created_at='2025-10-06T17:59:48.685497+00:00', parent_config=None) \n",
      "\n",
      "StateSnapshot(values={'lnode': 'node_1', 'scratch': 'hi', 'count': 3}, next=('Node2',), config={'configurable': {'thread_id': '1', 'thread_ts': '1f0a2de3-fe4f-61a8-8003-0171d1351773'}}, metadata={'source': 'loop', 'step': 3, 'writes': {'Node1': {'count': 1, 'lnode': 'node_1'}}}, created_at='2025-10-06T17:59:48.689307+00:00', parent_config=None) \n",
      "\n",
      "StateSnapshot(values={'lnode': 'node_2', 'scratch': 'hi', 'count': 4}, next=(), config={'configurable': {'thread_id': '1', 'thread_ts': '1f0a2de3-fe6c-6ba0-8004-1e05eba43a0f'}}, metadata={'source': 'loop', 'step': 4, 'writes': {'Node2': {'count': 1, 'lnode': 'node_2'}}}, created_at='2025-10-06T17:59:48.701447+00:00', parent_config=None) \n",
      "\n"
     ]
    }
   ],
   "source": [
    "for state in graph.get_state_history(thread):\n",
    "    print(state, \"\\n\")"
   ]
  },
  {
   "cell_type": "markdown",
   "id": "dd7850ff-0748-43d7-8956-074fa9fd819f",
   "metadata": {},
   "source": [
    "Store just the `config` into an list. Note the sequence of counts on the right. `get_state_history` returns the most recent snapshots first.\n"
   ]
  },
  {
   "cell_type": "code",
   "execution_count": 47,
   "id": "9f68e604-4f53-46c0-8f06-e7726ec9dcf6",
   "metadata": {
    "height": 81
   },
   "outputs": [
    {
     "name": "stdout",
     "output_type": "stream",
     "text": [
      "{'configurable': {'thread_id': '1', 'thread_ts': '1f0a2de3-fe1b-6182-bfff-b206c21071d9'}} 0\n",
      "{'configurable': {'thread_id': '1', 'thread_ts': '1f0a2de3-fe22-67dd-8000-468894139ec5'}} 0\n",
      "{'configurable': {'thread_id': '1', 'thread_ts': '1f0a2de3-fe30-63f0-8001-6b9a26b37426'}} 1\n",
      "{'configurable': {'thread_id': '1', 'thread_ts': '1f0a2de3-fe45-6cc4-8002-f04d29e35130'}} 2\n",
      "{'configurable': {'thread_id': '1', 'thread_ts': '1f0a2de3-fe4f-61a8-8003-0171d1351773'}} 3\n",
      "{'configurable': {'thread_id': '1', 'thread_ts': '1f0a2de3-fe6c-6ba0-8004-1e05eba43a0f'}} 4\n"
     ]
    }
   ],
   "source": [
    "states = []\n",
    "for state in graph.get_state_history(thread):\n",
    "    states.append(state.config)\n",
    "    print(state.config, state.values[\"count\"])"
   ]
  },
  {
   "cell_type": "markdown",
   "id": "90790095-4080-4e76-b538-47caac7d9699",
   "metadata": {},
   "source": [
    "Grab an early state.\n"
   ]
  },
  {
   "cell_type": "code",
   "execution_count": 48,
   "id": "e1db574e-f158-44cf-b921-f1f4466c314d",
   "metadata": {
    "height": 30
   },
   "outputs": [
    {
     "data": {
      "text/plain": [
       "{'configurable': {'thread_id': '1',\n",
       "  'thread_ts': '1f0a2de3-fe45-6cc4-8002-f04d29e35130'}}"
      ]
     },
     "execution_count": 48,
     "metadata": {},
     "output_type": "execute_result"
    }
   ],
   "source": [
    "states[-3]"
   ]
  },
  {
   "cell_type": "markdown",
   "id": "2cc233eb-f388-4ecd-bfb5-dac3568d37ce",
   "metadata": {},
   "source": [
    "This is the state after Node1 completed for the first time. Note `next` is `Node2`and `count` is 1.\n"
   ]
  },
  {
   "cell_type": "code",
   "execution_count": 49,
   "id": "240f5039-7916-4c2a-88d5-d363b2898e70",
   "metadata": {
    "height": 30
   },
   "outputs": [
    {
     "data": {
      "text/plain": [
       "StateSnapshot(values={'lnode': 'node_2', 'scratch': 'hi', 'count': 2}, next=('Node1',), config={'configurable': {'thread_id': '1', 'thread_ts': '1f0a2de3-fe45-6cc4-8002-f04d29e35130'}}, metadata={'source': 'loop', 'step': 2, 'writes': {'Node2': {'count': 1, 'lnode': 'node_2'}}}, created_at='2025-10-06T17:59:48.685497+00:00', parent_config=None)"
      ]
     },
     "execution_count": 49,
     "metadata": {},
     "output_type": "execute_result"
    }
   ],
   "source": [
    "graph.get_state(states[-3])"
   ]
  },
  {
   "cell_type": "markdown",
   "id": "4872468e-4d23-4840-ae14-c06c1ab4f161",
   "metadata": {},
   "source": [
    "### Go Back in Time\n",
    "\n",
    "Use that state in `invoke` to go back in time. Notice it uses states[-3] as _current_state_ and continues to node2,\n"
   ]
  },
  {
   "cell_type": "code",
   "execution_count": 50,
   "id": "e3049179-b901-4557-a9c4-78afb3d53d27",
   "metadata": {
    "height": 30
   },
   "outputs": [
    {
     "name": "stdout",
     "output_type": "stream",
     "text": [
      "node1, count:2\n",
      "node2, count:3\n"
     ]
    },
    {
     "data": {
      "text/plain": [
       "{'lnode': 'node_2', 'scratch': 'hi', 'count': 4}"
      ]
     },
     "execution_count": 50,
     "metadata": {},
     "output_type": "execute_result"
    }
   ],
   "source": [
    "graph.invoke(None, states[-3])"
   ]
  },
  {
   "cell_type": "markdown",
   "id": "5bf7789a-df3d-4c7e-8899-d96a99d45717",
   "metadata": {},
   "source": [
    "Notice the new states are now in state history. Notice the counts on the far right.\n"
   ]
  },
  {
   "cell_type": "code",
   "execution_count": 51,
   "id": "37fa44ec-9bd1-484b-a415-cc5f50b6e799",
   "metadata": {
    "height": 64
   },
   "outputs": [
    {
     "name": "stdout",
     "output_type": "stream",
     "text": [
      "{'configurable': {'thread_id': '1', 'thread_ts': '1f0a2de3-fe1b-6182-bfff-b206c21071d9'}} 0\n",
      "{'configurable': {'thread_id': '1', 'thread_ts': '1f0a2de3-fe22-67dd-8000-468894139ec5'}} 0\n",
      "{'configurable': {'thread_id': '1', 'thread_ts': '1f0a2de3-fe30-63f0-8001-6b9a26b37426'}} 1\n",
      "{'configurable': {'thread_id': '1', 'thread_ts': '1f0a2de3-fe45-6cc4-8002-f04d29e35130'}} 2\n",
      "{'configurable': {'thread_id': '1', 'thread_ts': '1f0a2de3-fe4f-61a8-8003-0171d1351773'}} 3\n",
      "{'configurable': {'thread_id': '1', 'thread_ts': '1f0a2de3-fe6c-6ba0-8004-1e05eba43a0f'}} 4\n",
      "{'configurable': {'thread_id': '1', 'thread_ts': '1f0a2de4-02a2-6b1c-8003-cbb4e437a382'}} 3\n",
      "{'configurable': {'thread_id': '1', 'thread_ts': '1f0a2de4-02ac-69a2-8004-f0c530cb9c3d'}} 4\n"
     ]
    }
   ],
   "source": [
    "thread = {\"configurable\": {\"thread_id\": str(1)}}\n",
    "for state in graph.get_state_history(thread):\n",
    "    print(state.config, state.values[\"count\"])"
   ]
  },
  {
   "cell_type": "markdown",
   "id": "d3c8d305-6752-4cf6-a8cb-7babf3bbd643",
   "metadata": {},
   "source": [
    "You can see the details below. Lots of text, but try to find the node that start the new branch. Notice the parent _config_ is not the previous entry in the stack, but is the entry from state[-3].\n"
   ]
  },
  {
   "cell_type": "code",
   "execution_count": 52,
   "id": "07d25697-fcf0-4a26-9485-3e195b0af225",
   "metadata": {
    "height": 64
   },
   "outputs": [
    {
     "name": "stdout",
     "output_type": "stream",
     "text": [
      "StateSnapshot(values={'count': 0}, next=('__start__',), config={'configurable': {'thread_id': '1', 'thread_ts': '1f0a2de3-fe1b-6182-bfff-b206c21071d9'}}, metadata={'source': 'input', 'step': -1, 'writes': {'count': 0, 'scratch': 'hi'}}, created_at='2025-10-06T17:59:48.668004+00:00', parent_config=None) \n",
      "\n",
      "StateSnapshot(values={'scratch': 'hi', 'count': 0}, next=('Node1',), config={'configurable': {'thread_id': '1', 'thread_ts': '1f0a2de3-fe22-67dd-8000-468894139ec5'}}, metadata={'source': 'loop', 'step': 0, 'writes': None}, created_at='2025-10-06T17:59:48.671035+00:00', parent_config=None) \n",
      "\n",
      "StateSnapshot(values={'lnode': 'node_1', 'scratch': 'hi', 'count': 1}, next=('Node2',), config={'configurable': {'thread_id': '1', 'thread_ts': '1f0a2de3-fe30-63f0-8001-6b9a26b37426'}}, metadata={'source': 'loop', 'step': 1, 'writes': {'Node1': {'count': 1, 'lnode': 'node_1'}}}, created_at='2025-10-06T17:59:48.676668+00:00', parent_config=None) \n",
      "\n",
      "StateSnapshot(values={'lnode': 'node_2', 'scratch': 'hi', 'count': 2}, next=('Node1',), config={'configurable': {'thread_id': '1', 'thread_ts': '1f0a2de3-fe45-6cc4-8002-f04d29e35130'}}, metadata={'source': 'loop', 'step': 2, 'writes': {'Node2': {'count': 1, 'lnode': 'node_2'}}}, created_at='2025-10-06T17:59:48.685497+00:00', parent_config=None) \n",
      "\n",
      "StateSnapshot(values={'lnode': 'node_1', 'scratch': 'hi', 'count': 3}, next=('Node2',), config={'configurable': {'thread_id': '1', 'thread_ts': '1f0a2de3-fe4f-61a8-8003-0171d1351773'}}, metadata={'source': 'loop', 'step': 3, 'writes': {'Node1': {'count': 1, 'lnode': 'node_1'}}}, created_at='2025-10-06T17:59:48.689307+00:00', parent_config=None) \n",
      "\n",
      "StateSnapshot(values={'lnode': 'node_2', 'scratch': 'hi', 'count': 4}, next=(), config={'configurable': {'thread_id': '1', 'thread_ts': '1f0a2de3-fe6c-6ba0-8004-1e05eba43a0f'}}, metadata={'source': 'loop', 'step': 4, 'writes': {'Node2': {'count': 1, 'lnode': 'node_2'}}}, created_at='2025-10-06T17:59:48.701447+00:00', parent_config=None) \n",
      "\n",
      "StateSnapshot(values={'lnode': 'node_1', 'scratch': 'hi', 'count': 3}, next=('Node2',), config={'configurable': {'thread_id': '1', 'thread_ts': '1f0a2de4-02a2-6b1c-8003-cbb4e437a382'}}, metadata={'source': 'loop', 'step': 3, 'writes': {'Node1': {'count': 1, 'lnode': 'node_1'}}}, created_at='2025-10-06T17:59:49.142935+00:00', parent_config=None) \n",
      "\n",
      "StateSnapshot(values={'lnode': 'node_2', 'scratch': 'hi', 'count': 4}, next=(), config={'configurable': {'thread_id': '1', 'thread_ts': '1f0a2de4-02ac-69a2-8004-f0c530cb9c3d'}}, metadata={'source': 'loop', 'step': 4, 'writes': {'Node2': {'count': 1, 'lnode': 'node_2'}}}, created_at='2025-10-06T17:59:49.147042+00:00', parent_config=None) \n",
      "\n"
     ]
    }
   ],
   "source": [
    "thread = {\"configurable\": {\"thread_id\": str(1)}}\n",
    "for state in graph.get_state_history(thread):\n",
    "    print(state, \"\\n\")"
   ]
  },
  {
   "cell_type": "markdown",
   "id": "d4653f91-761c-4185-8ca2-83de758308c7",
   "metadata": {},
   "source": [
    "### Modify State\n",
    "\n",
    "Let's start by starting a fresh thread and running to clean out history.\n"
   ]
  },
  {
   "cell_type": "code",
   "execution_count": 53,
   "id": "0eaf346c-ce22-4b6a-b18f-d200dfd991de",
   "metadata": {
    "height": 47
   },
   "outputs": [
    {
     "name": "stdout",
     "output_type": "stream",
     "text": [
      "node1, count:0\n",
      "node2, count:1\n",
      "node1, count:2\n",
      "node2, count:3\n"
     ]
    },
    {
     "data": {
      "text/plain": [
       "{'lnode': 'node_2', 'scratch': 'hi', 'count': 4}"
      ]
     },
     "execution_count": 53,
     "metadata": {},
     "output_type": "execute_result"
    }
   ],
   "source": [
    "thread2 = {\"configurable\": {\"thread_id\": str(2)}}\n",
    "graph.invoke({\"count\": 0, \"scratch\": \"hi\"}, thread2)"
   ]
  },
  {
   "cell_type": "code",
   "execution_count": 54,
   "id": "90fc1797-25e6-4931-b173-2e520b71c372",
   "metadata": {
    "height": 64
   },
   "outputs": [
    {
     "data": {
      "image/png": "[encoded data removed]",
      "text/plain": [
       "<IPython.core.display.Image object>"
      ]
     },
     "execution_count": 54,
     "metadata": {},
     "output_type": "execute_result"
    }
   ],
   "source": [
    "from IPython.display import Image\n",
    "\n",
    "Image(graph.get_graph().draw_png())"
   ]
  },
  {
   "cell_type": "code",
   "execution_count": 55,
   "id": "4ede9215-3133-4ad9-8dd5-6a8288ebe055",
   "metadata": {
    "height": 81
   },
   "outputs": [
    {
     "name": "stdout",
     "output_type": "stream",
     "text": [
      "{'configurable': {'thread_id': '2', 'thread_ts': '1f0a2de4-03d5-639f-bfff-72e54bef9bd3'}} 0\n",
      "{'configurable': {'thread_id': '2', 'thread_ts': '1f0a2de4-03da-6291-8000-e626eb28faeb'}} 0\n",
      "{'configurable': {'thread_id': '2', 'thread_ts': '1f0a2de4-03e2-6091-8001-62ca44d1ee74'}} 1\n",
      "{'configurable': {'thread_id': '2', 'thread_ts': '1f0a2de4-03eb-62c7-8002-78ed347b2e5b'}} 2\n",
      "{'configurable': {'thread_id': '2', 'thread_ts': '1f0a2de4-03f1-6cfb-8003-3406f85f2b70'}} 3\n",
      "{'configurable': {'thread_id': '2', 'thread_ts': '1f0a2de4-03f7-6be2-8004-4266824b78e5'}} 4\n"
     ]
    }
   ],
   "source": [
    "states2 = []\n",
    "for state in graph.get_state_history(thread2):\n",
    "    states2.append(state.config)\n",
    "    print(state.config, state.values[\"count\"])"
   ]
  },
  {
   "cell_type": "markdown",
   "id": "23ab2c5f-cb1d-4851-8925-ce0af1f12a40",
   "metadata": {},
   "source": [
    "Start by grabbing a state.\n"
   ]
  },
  {
   "cell_type": "code",
   "execution_count": 56,
   "id": "65313f6a-c7a9-49e3-aab2-0eb905e74a91",
   "metadata": {
    "height": 47
   },
   "outputs": [
    {
     "data": {
      "text/plain": [
       "StateSnapshot(values={'lnode': 'node_2', 'scratch': 'hi', 'count': 2}, next=('Node1',), config={'configurable': {'thread_id': '2', 'thread_ts': '1f0a2de4-03eb-62c7-8002-78ed347b2e5b'}}, metadata={'source': 'loop', 'step': 2, 'writes': {'Node2': {'count': 1, 'lnode': 'node_2'}}}, created_at='2025-10-06T17:59:49.277544+00:00', parent_config=None)"
      ]
     },
     "execution_count": 56,
     "metadata": {},
     "output_type": "execute_result"
    }
   ],
   "source": [
    "save_state = graph.get_state(states2[-3])\n",
    "save_state"
   ]
  },
  {
   "cell_type": "markdown",
   "id": "c81b354b-8c2d-4150-9150-ac9d8486af02",
   "metadata": {},
   "source": [
    "Now modify the values. One subtle item to note: Recall when agent state was defined, `count` used `operator.add` to indicate that values are _added_ to the current value. Here, `-3` will be added to the current count value rather than replace it.\n"
   ]
  },
  {
   "cell_type": "code",
   "execution_count": 57,
   "id": "dae6527b-912f-4f86-a07b-1fae684aaa77",
   "metadata": {
    "height": 64
   },
   "outputs": [
    {
     "data": {
      "text/plain": [
       "StateSnapshot(values={'lnode': 'node_2', 'scratch': 'hello', 'count': -3}, next=('Node1',), config={'configurable': {'thread_id': '2', 'thread_ts': '1f0a2de4-03eb-62c7-8002-78ed347b2e5b'}}, metadata={'source': 'loop', 'step': 2, 'writes': {'Node2': {'count': 1, 'lnode': 'node_2'}}}, created_at='2025-10-06T17:59:49.277544+00:00', parent_config=None)"
      ]
     },
     "execution_count": 57,
     "metadata": {},
     "output_type": "execute_result"
    }
   ],
   "source": [
    "save_state.values[\"count\"] = -3\n",
    "save_state.values[\"scratch\"] = \"hello\"\n",
    "save_state"
   ]
  },
  {
   "cell_type": "markdown",
   "id": "904bb1eb-2e39-472f-ae56-d8e95e2f1ab6",
   "metadata": {},
   "source": [
    "Now update the state. This creates a new entry at the _top_, or _latest_ entry in memory. This will become the current state.\n"
   ]
  },
  {
   "cell_type": "code",
   "execution_count": 58,
   "id": "bcd78670-b119-45fa-934b-2ce2d477b4c2",
   "metadata": {
    "height": 30
   },
   "outputs": [
    {
     "data": {
      "text/plain": [
       "{'configurable': {'thread_id': '2',\n",
       "  'thread_ts': '1f0a2de4-09cc-61e8-8005-45117f088c32'}}"
      ]
     },
     "execution_count": 58,
     "metadata": {},
     "output_type": "execute_result"
    }
   ],
   "source": [
    "graph.update_state(thread2, save_state.values)"
   ]
  },
  {
   "cell_type": "markdown",
   "id": "1bb3beed-1c44-4364-bde9-b29ea5e8ca30",
   "metadata": {},
   "source": [
    "Current state is at the top. You can match the `thread_ts`.\n",
    "Notice the `parent_config`, `thread_ts` of the new node - it is the previous node.\n"
   ]
  },
  {
   "cell_type": "code",
   "execution_count": 59,
   "id": "231c7011-afe4-44bf-9e19-16220004912f",
   "metadata": {
    "height": 81
   },
   "outputs": [
    {
     "name": "stdout",
     "output_type": "stream",
     "text": [
      "StateSnapshot(values={'count': 0}, next=('__start__',), config={'configurable': {'thread_id': '2', 'thread_ts': '1f0a2de4-03d5-639f-bfff-72e54bef9bd3'}}, metadata={'source': 'input', 'step': -1, 'writes': {'count': 0, 'scratch': 'hi'}}, created_at='2025-10-06T17:59:49.268545+00:00', parent_config=None) \n",
      "\n",
      "StateSnapshot(values={'scratch': 'hi', 'count': 0}, next=('Node1',), config={'configurable': {'thread_id': '2', 'thread_ts': '1f0a2de4-03da-6291-8000-e626eb28faeb'}}, metadata={'source': 'loop', 'step': 0, 'writes': None}, created_at='2025-10-06T17:59:49.270571+00:00', parent_config=None) \n",
      "\n",
      "StateSnapshot(values={'lnode': 'node_1', 'scratch': 'hi', 'count': 1}, next=('Node2',), config={'configurable': {'thread_id': '2', 'thread_ts': '1f0a2de4-03e2-6091-8001-62ca44d1ee74'}}, metadata={'source': 'loop', 'step': 1, 'writes': {'Node1': {'count': 1, 'lnode': 'node_1'}}}, created_at='2025-10-06T17:59:49.273797+00:00', parent_config=None) \n",
      "\n"
     ]
    }
   ],
   "source": [
    "for i, state in enumerate(graph.get_state_history(thread2)):\n",
    "    if i >= 3:  # print latest 3\n",
    "        break\n",
    "    print(state, \"\\n\")"
   ]
  },
  {
   "cell_type": "markdown",
   "id": "62d34cd8-99b6-4224-b345-fe8475f2a602",
   "metadata": {},
   "source": [
    "### Try again with `as_node`\n",
    "\n",
    "When writing using `update_state()`, you want to define to the graph logic which node should be assumed as the writer. What this does is allow th graph logic to find the node on the graph. After writing the values, the `next()` value is computed by travesing the graph using the new state. In this case, the state we have was written by `Node1`. The graph can then compute the next state as being `Node2`. Note that in some graphs, this may involve going through conditional edges! Let's try this out.\n"
   ]
  },
  {
   "cell_type": "code",
   "execution_count": 60,
   "id": "7bfda2f6-5887-40fa-a733-a4357ad857d8",
   "metadata": {
    "height": 30
   },
   "outputs": [
    {
     "data": {
      "text/plain": [
       "{'configurable': {'thread_id': '2',\n",
       "  'thread_ts': '1f0a2de4-0a6e-6821-8006-3df90961e221'}}"
      ]
     },
     "execution_count": 60,
     "metadata": {},
     "output_type": "execute_result"
    }
   ],
   "source": [
    "graph.update_state(thread2, save_state.values, as_node=\"Node1\")"
   ]
  },
  {
   "cell_type": "code",
   "execution_count": 61,
   "id": "0788ac0f-5f64-49b2-b335-3094bbb19143",
   "metadata": {
    "height": 81
   },
   "outputs": [
    {
     "name": "stdout",
     "output_type": "stream",
     "text": [
      "StateSnapshot(values={'count': 0}, next=('__start__',), config={'configurable': {'thread_id': '2', 'thread_ts': '1f0a2de4-03d5-639f-bfff-72e54bef9bd3'}}, metadata={'source': 'input', 'step': -1, 'writes': {'count': 0, 'scratch': 'hi'}}, created_at='2025-10-06T17:59:49.268545+00:00', parent_config=None) \n",
      "\n",
      "StateSnapshot(values={'scratch': 'hi', 'count': 0}, next=('Node1',), config={'configurable': {'thread_id': '2', 'thread_ts': '1f0a2de4-03da-6291-8000-e626eb28faeb'}}, metadata={'source': 'loop', 'step': 0, 'writes': None}, created_at='2025-10-06T17:59:49.270571+00:00', parent_config=None) \n",
      "\n",
      "StateSnapshot(values={'lnode': 'node_1', 'scratch': 'hi', 'count': 1}, next=('Node2',), config={'configurable': {'thread_id': '2', 'thread_ts': '1f0a2de4-03e2-6091-8001-62ca44d1ee74'}}, metadata={'source': 'loop', 'step': 1, 'writes': {'Node1': {'count': 1, 'lnode': 'node_1'}}}, created_at='2025-10-06T17:59:49.273797+00:00', parent_config=None) \n",
      "\n"
     ]
    }
   ],
   "source": [
    "for i, state in enumerate(graph.get_state_history(thread2)):\n",
    "    if i >= 3:  # print latest 3\n",
    "        break\n",
    "    print(state, \"\\n\")"
   ]
  },
  {
   "cell_type": "markdown",
   "id": "18a8f52e-d1a6-46a0-a519-6fda0cb91624",
   "metadata": {},
   "source": [
    "`invoke` will run from the current state if not given a particular `thread_ts`. This is now the entry that was just added.\n"
   ]
  },
  {
   "cell_type": "code",
   "execution_count": 62,
   "id": "9650d355-07c1-4a7d-a21d-4231673a7ee9",
   "metadata": {
    "height": 30
   },
   "outputs": [
    {
     "name": "stdout",
     "output_type": "stream",
     "text": [
      "node2, count:-2\n",
      "node1, count:-1\n",
      "node2, count:0\n",
      "node1, count:1\n",
      "node2, count:2\n"
     ]
    },
    {
     "data": {
      "text/plain": [
       "{'lnode': 'node_2', 'scratch': 'hello', 'count': 3}"
      ]
     },
     "execution_count": 62,
     "metadata": {},
     "output_type": "execute_result"
    }
   ],
   "source": [
    "graph.invoke(None, thread2)"
   ]
  },
  {
   "cell_type": "markdown",
   "id": "c59d3069-8fe7-4a05-9bfd-8e3a2e4590ad",
   "metadata": {},
   "source": [
    "Print out the state history, notice the `scratch` value change on the latest entries.\n"
   ]
  },
  {
   "cell_type": "code",
   "execution_count": 63,
   "id": "35088704-2b18-4d44-ba0e-dccbfde6ed9e",
   "metadata": {
    "height": 47
   },
   "outputs": [
    {
     "name": "stdout",
     "output_type": "stream",
     "text": [
      "StateSnapshot(values={'count': 0}, next=('__start__',), config={'configurable': {'thread_id': '2', 'thread_ts': '1f0a2de4-03d5-639f-bfff-72e54bef9bd3'}}, metadata={'source': 'input', 'step': -1, 'writes': {'count': 0, 'scratch': 'hi'}}, created_at='2025-10-06T17:59:49.268545+00:00', parent_config=None) \n",
      "\n",
      "StateSnapshot(values={'scratch': 'hi', 'count': 0}, next=('Node1',), config={'configurable': {'thread_id': '2', 'thread_ts': '1f0a2de4-03da-6291-8000-e626eb28faeb'}}, metadata={'source': 'loop', 'step': 0, 'writes': None}, created_at='2025-10-06T17:59:49.270571+00:00', parent_config=None) \n",
      "\n",
      "StateSnapshot(values={'lnode': 'node_1', 'scratch': 'hi', 'count': 1}, next=('Node2',), config={'configurable': {'thread_id': '2', 'thread_ts': '1f0a2de4-03e2-6091-8001-62ca44d1ee74'}}, metadata={'source': 'loop', 'step': 1, 'writes': {'Node1': {'count': 1, 'lnode': 'node_1'}}}, created_at='2025-10-06T17:59:49.273797+00:00', parent_config=None) \n",
      "\n",
      "StateSnapshot(values={'lnode': 'node_2', 'scratch': 'hi', 'count': 2}, next=('Node1',), config={'configurable': {'thread_id': '2', 'thread_ts': '1f0a2de4-03eb-62c7-8002-78ed347b2e5b'}}, metadata={'source': 'loop', 'step': 2, 'writes': {'Node2': {'count': 1, 'lnode': 'node_2'}}}, created_at='2025-10-06T17:59:49.277544+00:00', parent_config=None) \n",
      "\n",
      "StateSnapshot(values={'lnode': 'node_1', 'scratch': 'hi', 'count': 3}, next=('Node2',), config={'configurable': {'thread_id': '2', 'thread_ts': '1f0a2de4-03f1-6cfb-8003-3406f85f2b70'}}, metadata={'source': 'loop', 'step': 3, 'writes': {'Node1': {'count': 1, 'lnode': 'node_1'}}}, created_at='2025-10-06T17:59:49.280212+00:00', parent_config=None) \n",
      "\n",
      "StateSnapshot(values={'lnode': 'node_2', 'scratch': 'hi', 'count': 4}, next=(), config={'configurable': {'thread_id': '2', 'thread_ts': '1f0a2de4-03f7-6be2-8004-4266824b78e5'}}, metadata={'source': 'loop', 'step': 4, 'writes': {'Node2': {'count': 1, 'lnode': 'node_2'}}}, created_at='2025-10-06T17:59:49.282695+00:00', parent_config=None) \n",
      "\n",
      "StateSnapshot(values={'lnode': 'node_2', 'scratch': 'hello', 'count': 1}, next=('Node1',), config={'configurable': {'thread_id': '2', 'thread_ts': '1f0a2de4-09cc-61e8-8005-45117f088c32'}}, metadata={'source': 'update', 'step': 5, 'writes': {'Node2': {'count': -3, 'lnode': 'node_2', 'scratch': 'hello'}}}, created_at='2025-10-06T17:59:49.893950+00:00', parent_config=None) \n",
      "\n",
      "StateSnapshot(values={'lnode': 'node_2', 'scratch': 'hello', 'count': -2}, next=('Node2',), config={'configurable': {'thread_id': '2', 'thread_ts': '1f0a2de4-0a6e-6821-8006-3df90961e221'}}, metadata={'source': 'update', 'step': 6, 'writes': {'Node1': {'count': -3, 'lnode': 'node_2', 'scratch': 'hello'}}}, created_at='2025-10-06T17:59:49.960467+00:00', parent_config=None) \n",
      "\n",
      "StateSnapshot(values={'lnode': 'node_2', 'scratch': 'hello', 'count': -1}, next=('Node1',), config={'configurable': {'thread_id': '2', 'thread_ts': '1f0a2de4-0b0d-6f1e-8007-fdf320a7bb6c'}}, metadata={'source': 'loop', 'step': 7, 'writes': {'Node2': {'count': 1, 'lnode': 'node_2'}}}, created_at='2025-10-06T17:59:50.025772+00:00', parent_config=None) \n",
      "\n",
      "StateSnapshot(values={'lnode': 'node_1', 'scratch': 'hello', 'count': 0}, next=('Node2',), config={'configurable': {'thread_id': '2', 'thread_ts': '1f0a2de4-0b17-626a-8008-1469e5b1d2a2'}}, metadata={'source': 'loop', 'step': 8, 'writes': {'Node1': {'count': 1, 'lnode': 'node_1'}}}, created_at='2025-10-06T17:59:50.029540+00:00', parent_config=None) \n",
      "\n",
      "StateSnapshot(values={'lnode': 'node_2', 'scratch': 'hello', 'count': 1}, next=('Node1',), config={'configurable': {'thread_id': '2', 'thread_ts': '1f0a2de4-0b3e-6be1-8009-39dae1d6b518'}}, metadata={'source': 'loop', 'step': 9, 'writes': {'Node2': {'count': 1, 'lnode': 'node_2'}}}, created_at='2025-10-06T17:59:50.045770+00:00', parent_config=None) \n",
      "\n",
      "StateSnapshot(values={'lnode': 'node_1', 'scratch': 'hello', 'count': 2}, next=('Node2',), config={'configurable': {'thread_id': '2', 'thread_ts': '1f0a2de4-0b44-6ff3-800a-c32e52391c30'}}, metadata={'source': 'loop', 'step': 10, 'writes': {'Node1': {'count': 1, 'lnode': 'node_1'}}}, created_at='2025-10-06T17:59:50.048322+00:00', parent_config=None) \n",
      "\n",
      "StateSnapshot(values={'lnode': 'node_2', 'scratch': 'hello', 'count': 3}, next=(), config={'configurable': {'thread_id': '2', 'thread_ts': '1f0a2de4-0b4e-6c34-800b-ea9b20fc05fa'}}, metadata={'source': 'loop', 'step': 11, 'writes': {'Node2': {'count': 1, 'lnode': 'node_2'}}}, created_at='2025-10-06T17:59:50.052339+00:00', parent_config=None) \n",
      "\n"
     ]
    }
   ],
   "source": [
    "for state in graph.get_state_history(thread2):\n",
    "    print(state, \"\\n\")"
   ]
  },
  {
   "cell_type": "markdown",
   "id": "a5ea1bba-cf12-4493-948b-08b300054742",
   "metadata": {},
   "source": [
    "Continue to experiment!\n"
   ]
  },
  {
   "cell_type": "markdown",
   "id": "2c6782f1",
   "metadata": {},
   "source": []
  },
  {
   "cell_type": "markdown",
   "id": "199a41bb",
   "metadata": {},
   "source": []
  }
 ],
 "metadata": {
  "kernelspec": {
   "display_name": ".venv",
   "language": "python",
   "name": "python3"
  },
  "language_info": {
   "codemirror_mode": {
    "name": "ipython",
    "version": 3
   },
   "file_extension": ".py",
   "mimetype": "text/x-python",
   "name": "python",
   "nbconvert_exporter": "python",
   "pygments_lexer": "ipython3",
   "version": "3.12.3"
  }
 },
 "nbformat": 4,
 "nbformat_minor": 5
}
