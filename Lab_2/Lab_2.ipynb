{
 "cells": [
  {
   "cell_type": "markdown",
   "id": "21fa2e13-567d-4509-9023-c99fb230f31f",
   "metadata": {},
   "source": [
    "# Lab 2: LangGraph Components\n"
   ]
  },
  {
   "cell_type": "markdown",
   "id": "fcd7ea45",
   "metadata": {},
   "source": [
    "## Setting Up the Environment"
   ]
  },
  {
   "cell_type": "code",
   "execution_count": 1,
   "id": "f5762271-8736-4e94-9444-8c92bd0e8074",
   "metadata": {
    "height": 47
   },
   "outputs": [
    {
     "name": "stderr",
     "output_type": "stream",
     "text": [
      "[2025-10-01 01:16:29,016] p3450 {utils.py:46} INFO - TAVILY_API_KEY variable correctly retrieved from the .env file.\n"
     ]
    }
   ],
   "source": [
    "from dotenv import load_dotenv\n",
    "import json\n",
    "import os\n",
    "import re\n",
    "import sys\n",
    "import warnings\n",
    "\n",
    "import boto3\n",
    "from botocore.config import Config\n",
    "\n",
    "warnings.filterwarnings(\"ignore\") # bor qua warning\n",
    "import logging\n",
    "\n",
    "# import local modules\n",
    "dir_current = os.path.abspath(\"\") # lay duong dan tuyet doi\n",
    "dir_parent = os.path.dirname(dir_current)  \n",
    "if dir_parent not in sys.path:\n",
    "    sys.path.append(dir_parent) # Them duong dan tu muc du an\n",
    "from utils import utils\n",
    "\n",
    "# Set basic configs\n",
    "logger = utils.set_logger()\n",
    "pp = utils.set_pretty_printer()\n",
    "\n",
    "# Load environment variables from .env file or Secret Manager\n",
    "_ = load_dotenv(\"../.env\")\n",
    "aws_region = os.getenv(\"AWS_REGION\")\n",
    "tavily_ai_api_key = utils.get_tavily_api(\"TAVILY_API_KEY\", aws_region)\n",
    "\n",
    "# Set bedrock configs\n",
    "bedrock_config = Config(\n",
    "    connect_timeout=120, read_timeout=120, retries={\"max_attempts\": 0}\n",
    ")\n",
    "\n",
    "# Create a bedrock runtime client\n",
    "bedrock_rt = boto3.client(\n",
    "    \"bedrock-runtime\", region_name=aws_region, config=bedrock_config\n",
    ")\n",
    "\n",
    "# Create a bedrock client to check available models\n",
    "bedrock = boto3.client(\"bedrock\", region_name=aws_region, config=bedrock_config)\n"
   ]
  },
  {
   "cell_type": "markdown",
   "id": "d6a89cc9",
   "metadata": {},
   "source": [
    "## LangGraph as a State Machine\n",
    "\n",
    "For solution architects familiar with system design, LangGraph can be thought of as a state machine for language models. Just as a state machine in software engineering defines a set of states and transitions between them, LangGraph allows us to define the states of our conversation (represented by nodes) and the transitions between them (represented by edges).\n",
    "\n",
    "**Analogy**: Think of LangGraph as a traffic control system for a smart city. Each intersection (node) represents a decision point, and the roads between them (edges) represent possible paths. The traffic lights (conditional edges) determine which path to take based on current conditions. In our case, the \"traffic\" is the flow of information and decisions in our AI agent.\n"
   ]
  },
  {
   "cell_type": "code",
   "execution_count": 2,
   "id": "d0168aee-bce9-4d60-b827-f86a88187e31",
   "metadata": {
    "height": 115
   },
   "outputs": [],
   "source": [
    "import operator\n",
    "from typing import Annotated, TypedDict\n",
    "\n",
    "from langchain_aws import ChatBedrockConverse\n",
    "from langchain_community.tools.tavily_search import TavilySearchResults\n",
    "from langchain_core.messages import AnyMessage, HumanMessage, SystemMessage, ToolMessage\n",
    "from langgraph.graph import END, StateGraph"
   ]
  },
  {
   "cell_type": "code",
   "execution_count": 3,
   "id": "2589c5b6-6cc2-4594-9a17-dccdcf676054",
   "metadata": {
    "height": 64
   },
   "outputs": [
    {
     "name": "stdout",
     "output_type": "stream",
     "text": [
      "<class 'langchain_community.tools.tavily_search.tool.TavilySearchResults'>\n",
      "tavily_search_results_json\n"
     ]
    }
   ],
   "source": [
    "tool = TavilySearchResults(max_results=4)  # increased number of results\n",
    "print(type(tool))\n",
    "print(tool.name)"
   ]
  },
  {
   "cell_type": "markdown",
   "id": "e196c186-af55-4f2d-b569-b7d63a859304",
   "metadata": {},
   "source": [
    "> If you are not familiar with python typing annotation, you can refer to the [python documents](https://docs.python.org/3/library/typing.html).\n"
   ]
  },
  {
   "cell_type": "markdown",
   "id": "5e40395e",
   "metadata": {},
   "source": [
    "## The Agent State Concept\n",
    "\n",
    "The AgentState class is crucial for maintaining context throughout the conversation. For data scientists, this can be compared to maintaining state in a recurrent neural network.\n",
    "\n",
    "**Analogy**: Think of the AgentState as a sophisticated notepad. As you brainstorm ideas (process queries), you jot down key points (messages). This notepad doesn't just record; it has a special property where new notes (messages) are seamlessly integrated with existing ones, maintaining a coherent flow of thought.\n",
    "At the same time, you can always go back in time and rewrite some parts of it - this is what we call \"time-travel\".\n"
   ]
  },
  {
   "cell_type": "code",
   "execution_count": 4,
   "id": "a2ba84ec-c172-4de7-ac55-e3158a531b23",
   "metadata": {
    "height": 47
   },
   "outputs": [],
   "source": [
    "class AgentState(TypedDict):\n",
    "    messages: Annotated[list[AnyMessage], operator.add]"
   ]
  },
  {
   "cell_type": "markdown",
   "id": "74c7ba73-e603-453b-b06f-5db92c567b19",
   "metadata": {},
   "source": [
    "> Note: in `take_action` below, some logic was added to cover the case that the LLM returned a non-existent tool name.\n",
    "\n",
    "```python\n",
    "if not t[\"name\"] in self.tools:  # check for bad tool name from LLM\n",
    "    print(\"\\n ....bad tool name....\")\n",
    "    result = \"bad tool name, retry\"  # instruct LLM to retry if bad\n",
    "\n",
    "```\n"
   ]
  },
  {
   "cell_type": "code",
   "execution_count": 21,
   "id": "876d5092-b8ef-4e38-b4d7-0e80c609bf7a",
   "metadata": {
    "height": 727
   },
   "outputs": [],
   "source": [
    "class Agent:\n",
    "\n",
    "    def __init__(self, model, tools, system=\"\"):\n",
    "        self.system = system\n",
    "        graph = StateGraph(AgentState)   #  khoi tao graph\n",
    "        graph.add_node(\"llm\", self.call_bedrock)  # them llm vao node\n",
    "        graph.add_node(\"action\", self.take_action) # them action vao node\n",
    "        graph.add_conditional_edges(\n",
    "            \"llm\", self.exists_action, {True: \"action\", False: END}\n",
    "        )  # them trang thai thuc thi, neu exists_action thi den action, khong thi END\n",
    "        graph.add_edge(\"action\", \"llm\")  #action quay ve llm\n",
    "        graph.set_entry_point(\"llm\")  \n",
    "        self.graph = graph.compile() # complie graph\n",
    "        self.tools = {t.name: t for t in tools}  # danh sach tool trong \n",
    "        self.model = model.bind_tools(tools)\n",
    "\n",
    "    def exists_action(self, state: AgentState):\n",
    "        result = state[\"messages\"][-1]\n",
    "        return len(result.tool_calls) > 0\n",
    "\n",
    "    def call_bedrock(self, state: AgentState):\n",
    "        messages = state[\"messages\"]\n",
    "        if self.system:\n",
    "            messages = [SystemMessage(content=self.system)] + messages\n",
    "        message = self.model.invoke(messages)\n",
    "        return {\"messages\": [message]}\n",
    "\n",
    "    def take_action(self, state: AgentState):\n",
    "        tool_calls = state[\"messages\"][-1].tool_calls\n",
    "        results = []\n",
    "        for t in tool_calls:\n",
    "            print(f\"Calling: {t}\")\n",
    "            if not t[\"name\"] in self.tools:  # check for bad tool name from LLM\n",
    "                print(\"\\n ....bad tool name....\")\n",
    "                result = \"bad tool name, retry\"  # instruct LLM to retry if bad\n",
    "            else:\n",
    "                result = self.tools[t[\"name\"]].invoke(t[\"args\"])\n",
    "            results.append(\n",
    "                ToolMessage(tool_call_id=t[\"id\"], name=t[\"name\"], content=str(result))\n",
    "            )\n",
    "        print(\"Back to the model!\")\n",
    "        return {\"messages\": results}"
   ]
  },
  {
   "cell_type": "markdown",
   "id": "2cd50074",
   "metadata": {},
   "source": [
    "An often overlooked feature is the `??` to inspect the code of a function or object in python.\n",
    "\n",
    "Lets inspect the `bind_tools` method on the `ChatBedrockConverse` class.\n",
    "Can you spot if our tavily tool will be supported, and if there are any restrictions?\n",
    "\n",
    "If you are unsure, how would you check?\n"
   ]
  },
  {
   "cell_type": "code",
   "execution_count": 6,
   "id": "a61313ff",
   "metadata": {},
   "outputs": [
    {
     "name": "stdout",
     "output_type": "stream",
     "text": [
      "\u001b[31mSignature:\u001b[39m\n",
      "ChatBedrockConverse.bind_tools(\n",
      "    self,\n",
      "    tools: Sequence[Union[Dict[str, Any], Type[pydantic.v1.main.BaseModel], Type[pydantic.main.BaseModel], Callable, langchain_core.tools.BaseTool]],\n",
      "    *,\n",
      "    tool_choice: Union[dict, str, Literal[\u001b[33m'auto'\u001b[39m, \u001b[33m'any'\u001b[39m], NoneType] = \u001b[38;5;28;01mNone\u001b[39;00m,\n",
      "    **kwargs: Any,\n",
      ") -> langchain_core.runnables.base.Runnable[typing.Union[langchain_core.prompt_values.PromptValue, str, typing.Sequence[typing.Union[langchain_core.messages.base.BaseMessage, typing.List[str], typing.Tuple[str, str], str, typing.Dict[str, typing.Any]]]], langchain_core.messages.base.BaseMessage]\n",
      "\u001b[31mDocstring:\u001b[39m <no docstring>\n",
      "\u001b[31mSource:\u001b[39m   \n",
      "    \u001b[38;5;28;01mdef\u001b[39;00m bind_tools(\n",
      "        self,\n",
      "        tools: Sequence[Union[Dict[str, Any], TypeBaseModel, Callable, BaseTool]],\n",
      "        *,\n",
      "        tool_choice: Optional[Union[dict, str, Literal[\u001b[33m\"auto\"\u001b[39m, \u001b[33m\"any\"\u001b[39m]]] = \u001b[38;5;28;01mNone\u001b[39;00m,\n",
      "        **kwargs: Any,\n",
      "    ) -> Runnable[LanguageModelInput, BaseMessage]:\n",
      "        \u001b[38;5;28;01mif\u001b[39;00m tool_choice:\n",
      "            kwargs[\u001b[33m\"tool_choice\"\u001b[39m] = _format_tool_choice(tool_choice)\n",
      "        \u001b[38;5;28;01mreturn\u001b[39;00m self.bind(tools=_format_tools(tools), **kwargs)\n",
      "\u001b[31mFile:\u001b[39m      /home/workshop/langgraph-agents-with-amazon-bedrock/.venv/lib/python3.12/site-packages/langchain_aws/chat_models/bedrock_converse.py\n",
      "\u001b[31mType:\u001b[39m      function"
     ]
    }
   ],
   "source": [
    "??ChatBedrockConverse.bind_tools"
   ]
  },
  {
   "cell_type": "code",
   "execution_count": 7,
   "id": "10084a02-2928-4945-9f7c-ad3f5b33caf7",
   "metadata": {
    "height": 149
   },
   "outputs": [
    {
     "name": "stderr",
     "output_type": "stream",
     "text": [
      "/home/workshop/langgraph-agents-with-amazon-bedrock/.venv/lib/python3.12/site-packages/langchain_core/_api/beta_decorator.py:87: LangChainBetaWarning: The class `ChatBedrockConverse` is in beta. It is actively being worked on, so the API may change.\n",
      "  warn_beta(\n"
     ]
    }
   ],
   "source": [
    "prompt = \"\"\"You are a smart research assistant. Use the search engine to look up information. \\\n",
    "You are allowed to make multiple calls (either together or in sequence).\\\n",
    "Whenever you can, try to call multiple tools at once, to bring down inference time!\\\n",
    "Only look up information when you are sure of what you want. \\\n",
    "If you need to look up some information before asking a follow up question, you are allowed to do that!\n",
    "\"\"\"\n",
    "\n",
    "model = ChatBedrockConverse(\n",
    "    client=bedrock_rt,\n",
    "    model=\"anthropic.claude-3-haiku-20240307-v1:0\",\n",
    "    temperature=0,\n",
    "    max_tokens=None,\n",
    ")\n",
    "\n",
    "abot = Agent(model, [tool], system=prompt)"
   ]
  },
  {
   "cell_type": "code",
   "execution_count": 8,
   "id": "a3d6f5f4-2392-41b9-ab96-7919840baa3e",
   "metadata": {
    "height": 64
   },
   "outputs": [
    {
     "data": {
      "image/png": "[encoded data removed]",
      "text/plain": [
       "<IPython.core.display.Image object>"
      ]
     },
     "execution_count": 8,
     "metadata": {},
     "output_type": "execute_result"
    }
   ],
   "source": [
    "# make sure to install pygraphviz if you haven't done so already using 'conda install --channel conda-forge pygraphviz'\n",
    "from IPython.display import Image\n",
    "\n",
    "Image(abot.graph.get_graph().draw_png())"
   ]
  },
  {
   "cell_type": "code",
   "execution_count": 14,
   "id": "83588e70-254f-4f83-a510-c8ae81e729b0",
   "metadata": {
    "height": 47
   },
   "outputs": [
    {
     "name": "stdout",
     "output_type": "stream",
     "text": [
      "Calling: {'name': 'tavily_search_results_json', 'args': {'query': 'weather in san francisco'}, 'id': 'tooluse_hypyHIPoR-OBzuH7sy6UEw', 'type': 'tool_call'}\n",
      "Back to the model!\n"
     ]
    }
   ],
   "source": [
    "messages = [HumanMessage(content=\"What is the weather in sf?\")]\n",
    "result = abot.graph.invoke({\"messages\": messages})"
   ]
  },
  {
   "cell_type": "code",
   "execution_count": 15,
   "id": "89a06a8c-fcd4-4ca6-98f0-36c5809813e6",
   "metadata": {
    "height": 30,
    "scrolled": true
   },
   "outputs": [
    {
     "name": "stdout",
     "output_type": "stream",
     "text": [
      "content='What is the weather in sf?'\n",
      "\n",
      "content=[{'type': 'tool_use', 'name': 'tavily_search_results_json', 'input': {'query': 'weather in san francisco'}, 'id': 'tooluse_hypyHIPoR-OBzuH7sy6UEw'}] response_metadata={'ResponseMetadata': {'RequestId': 'cc06c44b-00d7-4ae3-8b47-49367e813039', 'HTTPStatusCode': 200, 'HTTPHeaders': {'date': 'Tue, 30 Sep 2025 18:34:34 GMT', 'content-type': 'application/json', 'content-length': '333', 'connection': 'keep-alive', 'x-amzn-requestid': 'cc06c44b-00d7-4ae3-8b47-49367e813039'}, 'RetryAttempts': 0}, 'stopReason': 'tool_use', 'metrics': {'latencyMs': 1022}} id='run-766af846-5f78-4d16-b1b6-a0c7cead3cea-0' tool_calls=[{'name': 'tavily_search_results_json', 'args': {'query': 'weather in san francisco'}, 'id': 'tooluse_hypyHIPoR-OBzuH7sy6UEw', 'type': 'tool_call'}] usage_metadata={'input_tokens': 459, 'output_tokens': 61, 'total_tokens': 520}\n",
      "\n",
      "content='[{\\'url\\': \\'https://en.climate-data.org/north-america/united-states-of-america/california/san-francisco-385/t/september-9/\\', \\'content\\': \\'| Humidity |\\\\n ---  ---  ---  --- |\\\\n| 28. September | Broken clouds | 20 °C 68 °F | 16 °C 60.8 °F | 0 % | 13 km/h 8 mph | 0mm 0 in | 85% |\\\\n| 29. September | Broken clouds | 20 °C 68 °F | 16 °C 60.8 °F | 10 % | 15 km/h 9 mph | 0mm 0 in | 86% |\\\\n| 30. September | Light rain | 20 °C 68 °F | 16 °C 60.8 °F | 80 % | 13 km/h 8 mph | 7mm 0.28 in | 85% |\\\\n| 1. October | Moderate rain | 20 °C 68 °F | 16 °C 60.8 °F | 90 % | 13 km/h 8 mph | 15mm 0.59 in | 86% | [...] | Date | Weather | Max. | Min. | Rainrisk | Windspeed | Precipitation / Rainfall mm (in) | Humidity |\\\\n ---  ---  ---  --- |\\\\n| 5. October | Broken clouds | 21 °C 69.8 °F | 15 °C 59 °F | 0 % | 8 km/h 5 mph | 0mm 0 in | 71% |\\\\n| 6. October | Clear sky | 19 °C 66.2 °F | 15 °C 59 °F | 0 % | 14 km/h 9 mph | 0mm 0 in | 78% |\\\\n| 7. October | Few clouds | 18 °C 64.4 °F | 16 °C 60.8 °F | 0 % | 14 km/h 9 mph | 0mm 0 in | 81% | [...] | 28. September | 17 °C | 63 °F | 24 °C | 75 °F | 13 °C | 55 °F | 14 °C | 57 °F | 0.1 mm | 0.0 inch. |\\\\n| 29. September | 17 °C | 62 °F | 23 °C | 73 °F | 13 °C | 55 °F | 14 °C | 57 °F | 0.0 mm | 0.0 inch. |\\\\n| 30. September | 16 °C | 62 °F | 22 °C | 72 °F | 13 °C | 55 °F | 14 °C | 57 °F | 0.1 mm | 0.0 inch. |\\\\nData: 1999 - 2019\\'}, {\\'url\\': \\'https://www.weather25.com/north-america/usa/california/san-francisco?page=month&month=September\\', \\'content\\': \\'The average weather in San Francisco in September\\\\n\\\\nThe temperatures in San Francisco in September are comfortable with low of 14°C and and high up to 25°C.\\\\n\\\\nThere is little to no rain in San Francisco during September, so it’s a lot easier to explore the city. Just remember to dress in warm layers, as it can still get pretty chilly.\\\\n\\\\nOur weather forecast can give you a great sense of what weather to expect in San Francisco in September 2025. [...] | 28 Image 55: Overcast 21°/15° | 29 Image 56: Mist 18°/15° | 30 Image 57: Mist 17°/16° |  |  |  |  | [...] | December | 14° / 8° | 4 | 27 | 0 | 55 mm | Good | San Francisco in December |\\'}, {\\'url\\': \\'https://www.weather2travel.com/california/san-francisco/september/\\', \\'content\\': \\'Expect daytime maximum temperatures of 22°C in San Francisco, California in September based on long-term weather averages. There are 9 hours of sunshine per day on average. [...] Image 10: 7 mm monthly rainfall in September in San Francisco7 7 mm of monthly rainfall\\\\n   Image 11: UV (maximum) index 7 (High) in September in San Francisco7 7 (High) UV index\\\\n   Image 12: 14°C sea temperature in September in San Francisco14 14°C sea temperature [...] in September in San Francisco9 in September in San Francisco\") 9 hours of sunshine per day\\\\n   Image 6: 2 days with some rainfall in September in San Francisco2 2 days with some rainfall\\\\n   Image 7: 13°C minimum night-time temperature in September in San Francisco13 13°C min night temperature\\\\n   Image 8: 12 hours of daylight per day in September in San Francisco12 12 hours of daylight per day\\\\n   Image 9: No heat & humidity in September in San Francisco0 No heat & humidity\\'}, {\\'url\\': \\'https://world-weather.info/forecast/usa/san_francisco/september-2025/\\', \\'content\\': \"Weather in San Francisco in September 2025 (California) - Detailed Weather Forecast for a Month\\\\n\\\\n[](\\\\n\\\\nAdd the current city\\\\n\\\\nSearch \\\\n\\\\n   Weather\\\\n   Archive\\\\n   Weather Widget\\\\n\\\\n°F\\\\n\\\\n   World\\\\n   United States\\\\n   California\\\\n   Weather in San Francisco\\\\n\\\\nWeather in San Francisco in September 2025\\\\n\\\\nSan Francisco Weather Forecast for September 2025 is based on long term prognosis and previous years\\' statistical data.\\\\n\\\\n201520162017201820192020202120222023202420252026\\\\n\\\\nJanFebMarAprMayJunJulAugSepOctNovDec [...] 25 +68° +64° 4.3 mph SW 30 inHg 84 %07:00 am 07:01 pm\\\\n   26 +70° +59° 5.1 mph W 29.8 inHg 85 %07:01 am 07:00 pm\\\\n   27 +68° +59° 17 mph SW 29.8 inHg 70 %07:02 am 06:58 pm\\\\n   28 +70° +63° 7.2 mph SW 29.9 inHg 81 %07:03 am 06:57 pm\\\\n   29 +70° +64° 4 mph E 29.9 inHg 85 %07:04 am 06:55 pm\\\\n   30 +68° +63° 14.3 mph W 30 inHg 62 %07:04 am 06:54 pm [...] Aykhal day+18°F night+3°F\\\\n\\\\n_Oman_\\\\n\\\\nBarkā’day+113°F night+84°F\\\\n\\\\nServices\\\\n\\\\nSupport\\\\n\\\\n   User agreement\\\\n   Feedback\\\\n   About Us\\\\n\\\\nSearch\\\\n\\\\nCity or place… \\\\n\\\\nCopyright © 2025 «World-Weather.info» All rights reserved. Privacy policy\\\\n\\\\nTemperature units\\\\n\\\\n°F°C\\\\n\\\\nIcons\"}]' name='tavily_search_results_json' tool_call_id='tooluse_hypyHIPoR-OBzuH7sy6UEw'\n",
      "\n",
      "content='Based on the search results, the weather in San Francisco in September is generally mild and comfortable, with average high temperatures around 20-22°C (68-72°F) and average lows around 14-16°C (57-61°F). There is little to no rain during this time of year, with only a few days of light rain or drizzle expected. The city experiences mostly sunny or partly cloudy conditions, with around 9 hours of sunshine per day on average. Winds are moderate, typically around 13-15 km/h (8-9 mph). Overall, the weather in San Francisco in September is quite pleasant and ideal for exploring the city.' response_metadata={'ResponseMetadata': {'RequestId': 'c9a0db04-a413-4274-a14c-3d0ffb6fa81e', 'HTTPStatusCode': 200, 'HTTPHeaders': {'date': 'Tue, 30 Sep 2025 18:34:39 GMT', 'content-type': 'application/json', 'content-length': '802', 'connection': 'keep-alive', 'x-amzn-requestid': 'c9a0db04-a413-4274-a14c-3d0ffb6fa81e'}, 'RetryAttempts': 0}, 'stopReason': 'end_turn', 'metrics': {'latencyMs': 2049}} id='run-c48acc02-177f-427a-a5e8-1494bf7b826b-0' usage_metadata={'input_tokens': 2427, 'output_tokens': 150, 'total_tokens': 2577}\n",
      "\n"
     ]
    }
   ],
   "source": [
    "for message in result[\"messages\"]:\n",
    "    print(f\"{message}\\n\")"
   ]
  },
  {
   "cell_type": "code",
   "execution_count": 16,
   "id": "6cb3ef4c-58b3-401b-b104-0d51e553d982",
   "metadata": {
    "height": 30
   },
   "outputs": [
    {
     "data": {
      "text/plain": [
       "'Based on the search results, the weather in San Francisco in September is generally mild and comfortable, with average high temperatures around 20-22°C (68-72°F) and average lows around 14-16°C (57-61°F). There is little to no rain during this time of year, with only a few days of light rain or drizzle expected. The city experiences mostly sunny or partly cloudy conditions, with around 9 hours of sunshine per day on average. Winds are moderate, typically around 13-15 km/h (8-9 mph). Overall, the weather in San Francisco in September is quite pleasant and ideal for exploring the city.'"
      ]
     },
     "execution_count": 16,
     "metadata": {},
     "output_type": "execute_result"
    }
   ],
   "source": [
    "result[\"messages\"][-1].content"
   ]
  },
  {
   "cell_type": "code",
   "execution_count": 17,
   "id": "dc3293b7-a50c-43c8-a022-8975e1e444b8",
   "metadata": {
    "height": 47
   },
   "outputs": [
    {
     "name": "stdout",
     "output_type": "stream",
     "text": [
      "Calling: {'name': 'tavily_search_results_json', 'args': {'query': 'weather in san francisco'}, 'id': 'tooluse_x_JxrMNoRASUmguZpLwKPg', 'type': 'tool_call'}\n",
      "Back to the model!\n",
      "Calling: {'name': 'tavily_search_results_json', 'args': {'query': 'weather in los angeles'}, 'id': 'tooluse_LYPiNzCySdiMbRGCTjDMWQ', 'type': 'tool_call'}\n",
      "Back to the model!\n"
     ]
    }
   ],
   "source": [
    "messages = [HumanMessage(content=\"What is the weather in SF and LA?\")]\n",
    "result = abot.graph.invoke({\"messages\": messages})"
   ]
  },
  {
   "cell_type": "code",
   "execution_count": 18,
   "id": "0722c3d4-4cbf-43bf-81b0-50f634c4ce61",
   "metadata": {
    "height": 30
   },
   "outputs": [
    {
     "data": {
      "text/plain": [
       "'Based on the search results, here is the weather summary for San Francisco and Los Angeles in September:\\n\\nSan Francisco:\\n- Temperatures range from around 16-20°C (60-68°F) during the day and 13-16°C (55-60°F) at night.\\n- There is a mix of weather, including some cloudy and rainy days, especially towards the end of the month.\\n- Humidity levels are around 80-85%.\\n- Wind speeds are moderate, around 13-15 km/h (8-9 mph).\\n\\nLos Angeles: \\n- Temperatures are quite warm, ranging from around 24-31°C (75-89°F) during the day and 16-20°C (61-68°F) at night.\\n- The weather is mostly sunny and dry, with little to no rain expected.\\n- Humidity levels are in the 50-60% range.\\n- Wind speeds are light, around 10 km/h (6 mph).\\n\\nSo in summary, San Francisco has a more moderate, mixed weather pattern, while Los Angeles enjoys warmer, sunnier and drier conditions in September.'"
      ]
     },
     "execution_count": 18,
     "metadata": {},
     "output_type": "execute_result"
    }
   ],
   "source": [
    "result[\"messages\"][-1].content"
   ]
  },
  {
   "cell_type": "markdown",
   "id": "9f759e2d",
   "metadata": {},
   "source": [
    "## 4. Parallel vs. Sequential Tool Calling\n",
    "\n",
    "The ability of the agent to make both parallel and sequential tool calls is a powerful feature that solution architects should pay attention to.\n",
    "\n",
    "**Deep Dive**:\n",
    "\n",
    "- Parallel tool calling is like a multithreaded application, where multiple independent tasks can be executed simultaneously. This is efficient for queries that require multiple pieces of independent information.\n",
    "- Sequential tool calling is more like a pipeline, where the output of one operation becomes the input of the next. This is necessary for multi-step reasoning tasks.\n",
    "\n",
    "**Analogy**: Imagine a research team working on a complex project. Parallel tool calling is like assigning different team members to research different aspects simultaneously. Sequential tool calling is like a relay race, where each researcher builds on the findings of the previous one.\n",
    "\n",
    "Can you spot if we will have sequential or parallel tool calls and if we have parallel, would they really be executed in parallel?\n"
   ]
  },
  {
   "cell_type": "code",
   "execution_count": 20,
   "id": "6b2f82fe-3ec4-4917-be51-9fb10d1317fa",
   "metadata": {
    "height": 183
   },
   "outputs": [
    {
     "name": "stdout",
     "output_type": "stream",
     "text": [
      "Calling: {'name': 'tavily_search_results_json', 'args': {'query': '2024 super bowl winner'}, 'id': 'tooluse_oRz2Yvi6SiOQgRFDpZSHEA', 'type': 'tool_call'}\n",
      "Back to the model!\n",
      "Calling: {'name': 'tavily_search_results_json', 'args': {'query': 'kansas city chiefs headquarters location'}, 'id': 'tooluse_tHJSbrVCSVSQ1ruO1vDFlg', 'type': 'tool_call'}\n",
      "Back to the model!\n",
      "Calling: {'name': 'tavily_search_results_json', 'args': {'query': 'missouri gdp'}, 'id': 'tooluse_D4km6CuVTuaO5QB7dKW0mQ', 'type': 'tool_call'}\n",
      "Back to the model!\n"
     ]
    }
   ],
   "source": [
    "# Note, the query was modified to produce more consistent results.\n",
    "# Results may vary per run and over time as search information and models change.\n",
    "\n",
    "query = \"Who won the super bowl in 2024? In what state is the winning team headquarters located? \\\n",
    "What is the GDP of that state? Answer each question.\"\n",
    "messages = [HumanMessage(content=query)]\n",
    "\n",
    "model = ChatBedrockConverse(\n",
    "    client=bedrock_rt,\n",
    "    model=\"anthropic.claude-3-sonnet-20240229-v1:0\",\n",
    "    temperature=0,\n",
    "    max_tokens=None,\n",
    ")\n",
    "abot = Agent(model, [tool], system=prompt)\n",
    "result = abot.graph.invoke({\"messages\": messages})"
   ]
  },
  {
   "cell_type": "code",
   "execution_count": null,
   "id": "ee0fe1c7-77e2-499c-a2f9-1f739bb6ddf0",
   "metadata": {
    "height": 30
   },
   "outputs": [],
   "source": [
    "print(result[\"messages\"][-1].content)"
   ]
  },
  {
   "cell_type": "markdown",
   "id": "80ea5638",
   "metadata": {},
   "source": [
    "# Exercise: How would you have to change the tool definition, to allow for parallel calling of the tool?\n",
    "\n",
    "> Note: you can omit the parallel execution with async\n"
   ]
  },
  {
   "cell_type": "code",
   "execution_count": null,
   "id": "0833ba0b",
   "metadata": {},
   "outputs": [],
   "source": [
    "from langchain.tools import tool\n",
    "\n",
    "@tool\n",
    "async def my_tool(param: str) -> str:\n",
    "    # Gọi API bất đồng bộ hoặc thao tác I/O\n",
    "    return await some_async_operation(param)\n"
   ]
  }
 ],
 "metadata": {
  "kernelspec": {
   "display_name": "Python 3",
   "language": "python",
   "name": "python3"
  },
  "language_info": {
   "codemirror_mode": {
    "name": "ipython",
    "version": 3
   },
   "file_extension": ".py",
   "mimetype": "text/x-python",
   "name": "python",
   "nbconvert_exporter": "python",
   "pygments_lexer": "ipython3",
   "version": "3.12.3"
  }
 },
 "nbformat": 4,
 "nbformat_minor": 5
}
